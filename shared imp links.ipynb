{
  "cells": [
    {
      "cell_type": "markdown",
      "metadata": {
        "id": "ZoITrd8MsApt"
      },
      "source": [
        "Install Java kernal to run java code here."
      ]
    },
    {
      "cell_type": "code",
      "execution_count": null,
      "metadata": {
        "id": "rscw4ZMMNO-5"
      },
      "outputs": [],
      "source": [
        "!wget https://github.com/SpencerPark/IJava/releases/download/v1.3.0/ijava-1.3.0.zip\n",
        "!unzip ijava-1.3.0.zip\n",
        "!python install.py"
      ]
    },
    {
      "cell_type": "markdown",
      "metadata": {
        "id": "i6W-h4RTVSgk"
      },
      "source": [
        "https://dev.to/novu/10-github-repositories-to-achieve-javascript-mastery-50hk\n",
        "\n",
        "https://github.com/ghoshsuman845/List-of-Top-Unicorn-Startups-India\n",
        "\n",
        "https://www.techinterviewhandbook.org/resume/\n",
        "\n",
        "https://x.com/jain_harshit/status/1682767681580306432?t=gFsLgQyqV3KJOFxwywjG1w&s=08\n",
        "\n",
        "https://x.com/swapnakpanda/status/1744702527990612395?t=X1S0_Fat1Tn191yu3ytYTQ&s=08\n",
        "\n",
        "https://x.com/maybeshalinii/status/1746751602004770861?t=o4ZzEGdjAbRi-PG2IiwTWA&s=08\n",
        "\n",
        "\n",
        "https://youtu.be/iyLqwyFL0Zc?si=FNzQo3ZXyMcqCcy1\n",
        "\n",
        "https://www.frontendinterviewhandbook.com/introduction\n",
        "\n",
        "https://www.techinterviewhandbook.org/software-engineering-interview-guide/\n",
        "\n",
        "https://github.com/lydiahallie/javascript-questions\n",
        "\n",
        "https://www.facebook.com/share/r/t5mBSPLJXzJ8a84E/?mibextid=pgkjEf\n",
        "\n",
        "https://youtu.be/5rNk7m_zlAg?si=QuyGbCT26vn6KGRH\n",
        "\n",
        "https://youtu.be/HYO8OuLuTFw?si=hq0qz2Z0fnqUCw9L\n",
        "\n",
        "1. An infinite series was given, I should write a function, that takes the length of the series (called as N) and return the first N elements from the series, the series is \n",
        "\n",
        "1, 3, 6, 8, 11, 13, 16\n",
        "\n",
        "2. Write a function that takes an input and return a list with all numbers squared\n",
        "\n",
        "3. Write a class in python that has two methods called \"product\" and \"sum\" which will take two arguments and then return the product and sum respectively\n",
        "\n",
        "4. Show examples of list, tuple, dictionary and set in python\n",
        "\n",
        "5. Write a function to reverse a string in JavaScript\n",
        "\n",
        "6. Write a function to find second largest number in an array\n",
        "\n",
        "7. Write a function to find the factorial of a given number using recursion using javascript\n",
        "\n",
        "8. Create a Python class that acts as a context manager for database connections. Ensure it properly handles the setup and teardown of connections, including potential exception scenarios.\n",
        "\n",
        "9. Difference between list and tuple\n",
        "\n",
        "10. Dictionary in python.\n",
        "11. What does hash mean?\n",
        "\n",
        "12. Can you make tuple as key in dictionary\n",
        "\n",
        "13. What are generator functions\n",
        "\n",
        "14. What are decorators\n",
        "\n",
        "15. Exception handling, what are the common exceptions\n",
        "\n",
        "16. What is method overloading in python class\n",
        "\n",
        "17. What is inheritance and composition in python class\n",
        "\n",
        "18. What is orm, what are the advantages of it\n",
        "\n",
        "19. Is python single threaded??\n",
        "\n",
        "20. What is multi processing and multi thread??\n",
        "\n",
        "21. What is async?\n",
        "\n",
        "https://github.com/kgrg/vue3-tailwind-todo/tree/main\n",
        "\n",
        "https://codeshare.io/nAAJmV\n",
        "\n",
        "\n",
        "https://www.javascriptcheatsheet.org/\n",
        "\n",
        "https://edabit.com/\n",
        "\n",
        "https://g.co/gemini/share/917c65859c31\n",
        "\n",
        "\n",
        "\n",
        "Go through this cheat sheet for js\n",
        "https://www.javascriptcheatsheet.org/\n",
        "\n",
        "The for assignment questions you can use this\n",
        "\n",
        "https://edabit.com/\n",
        "\n",
        "https://g.co/gemini/share/917c65859c31\n",
        "\n",
        "\n",
        "\n",
        "\n"
      ]
    }
  ],
  "metadata": {
    "colab": {
      "cell_execution_strategy": "setup",
      "provenance": []
    },
    "kernelspec": {
      "display_name": "java",
      "name": "java"
    },
    "language_info": {
      "name": "java"
    }
  },
  "nbformat": 4,
  "nbformat_minor": 0
}
