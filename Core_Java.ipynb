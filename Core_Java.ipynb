{
  "nbformat": 4,
  "nbformat_minor": 0,
  "metadata": {
    "colab": {
      "provenance": [],
      "include_colab_link": true
    },
    "kernelspec": {
      "name": "java",
      "display_name": "java"
    },
    "language_info": {
      "name": "java"
    }
  },
  "cells": [
    {
      "cell_type": "markdown",
      "metadata": {
        "id": "view-in-github",
        "colab_type": "text"
      },
      "source": [
        "<a href=\"https://colab.research.google.com/github/Sowndaryakp/JavaFullstack-master/blob/main/Core_Java.ipynb\" target=\"_parent\"><img src=\"https://colab.research.google.com/assets/colab-badge.svg\" alt=\"Open In Colab\"/></a>"
      ]
    },
    {
      "cell_type": "markdown",
      "source": [
        "# **Core Java**"
      ],
      "metadata": {
        "id": "pcm5PWg2GQv0"
      }
    },
    {
      "cell_type": "markdown",
      "source": [
        "Install Java kernal to support java runtime"
      ],
      "metadata": {
        "id": "yibeVizocxy9"
      }
    },
    {
      "cell_type": "code",
      "source": [
        "!wget https://github.com/SpencerPark/IJava/releases/download/v1.3.0/ijava-1.3.0.zip\n",
        "!unzip ijava-1.3.0.zip\n",
        "!python install.py"
      ],
      "metadata": {
        "id": "rscw4ZMMNO-5"
      },
      "execution_count": null,
      "outputs": []
    },
    {
      "cell_type": "markdown",
      "source": [
        "Basic Java program"
      ],
      "metadata": {
        "id": "thQ76D_ldBmm"
      }
    },
    {
      "cell_type": "code",
      "source": [
        "#This program prints Hello, World\n",
        "System.out.println(\"Hello, World\");"
      ],
      "metadata": {
        "id": "YNwGA-PXaeEr"
      },
      "execution_count": null,
      "outputs": []
    },
    {
      "cell_type": "markdown",
      "source": [],
      "metadata": {
        "id": "cxR2xDdDdFwD"
      }
    }
  ]
}