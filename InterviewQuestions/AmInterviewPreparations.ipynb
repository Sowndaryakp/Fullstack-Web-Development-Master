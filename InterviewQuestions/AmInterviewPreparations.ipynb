{
  "cells": [
    {
      "cell_type": "markdown",
      "metadata": {
        "id": "ZoITrd8MsApt"
      },
      "source": [
        "Install Java kernal to run java code here."
      ]
    },
    {
      "cell_type": "code",
      "execution_count": null,
      "metadata": {
        "id": "rscw4ZMMNO-5"
      },
      "outputs": [],
      "source": [
        "!wget https://github.com/SpencerPark/IJava/releases/download/v1.3.0/ijava-1.3.0.zip\n",
        "!unzip ijava-1.3.0.zip\n",
        "!python install.py"
      ]
    },
    {
      "cell_type": "markdown",
      "metadata": {
        "id": "i6W-h4RTVSgk"
      },
      "source": []
    },
    {
      "cell_type": "markdown",
      "metadata": {},
      "source": [
        "core java , Array , Collection(Al , Map).\n",
        "SQL -> Joins , Different types of key .\n",
        "Javascript -> Clousers and basics.\n",
        "\n",
        "string  and array questions, dsa oops binary tree recurrence and relational database\n",
        "String array list data type\n",
        "\n",
        "\n",
        "Technical Skills:\n",
        "Strong Java Programming Skills:\n",
        "\n",
        "Review core Java concepts such as object-oriented programming (OOP), data structures, and algorithms.\n",
        "Practice coding exercises and algorithms on platforms like LeetCode, HackerRank, or CodeSignal.\n",
        "Building Scalable Web Applications:\n",
        "\n",
        "Understand concepts related to web application architecture, scalability, and performance optimization.\n",
        "Learn about design patterns, microservices architecture, and RESTful APIs.\n",
        "Relational Database Design and Object-Oriented Design:\n",
        "\n",
        "Study database design principles including normalization, indexing, and SQL querying.\n",
        "Review object-oriented design principles such as encapsulation, inheritance, and polymorphism.\n",
        "Proficiency with JDBC, Spring, Servlet, and JSP:\n",
        "\n",
        "Gain hands-on experience with JDBC for database connectivity.\n",
        "Practice building web applications using Servlets and JSP.\n",
        "Learn Spring Framework for dependency injection, aspect-oriented programming (AOP), and MVC architecture.\n",
        "Experience with Oracle RDBMS and SQL Queries:\n",
        "\n",
        "Familiarize yourself with Oracle Database management and SQL querying.\n",
        "Practice writing complex SQL queries including joins, subqueries, and aggregations.\n",
        "Knowledge of Application Servers and Frameworks:\n",
        "\n",
        "Learn about application servers like Tomcat and JBoss.\n",
        "Gain experience with Java Enterprise Edition (J2EE) technologies.\n",
        "Experience with Spring Framework, JMS, iBATIS, and Hibernate:\n",
        "\n",
        "Explore Spring modules such as Spring Boot, Spring Data, and Spring Security.\n",
        "Understand Java Message Service (JMS) for messaging between distributed systems.\n",
        "Learn about iBATIS (now MyBatis) and Hibernate for object-relational mapping (ORM).\n",
        "Soft Skills:\n",
        "Communication Skills:\n",
        "\n",
        "Practice articulating technical concepts clearly and concisely.\n",
        "Develop effective written and verbal communication skills.\n",
        "Interpersonal Skills:\n",
        "\n",
        "Cultivate the ability to collaborate effectively with team members.\n",
        "Demonstrate adaptability and willingness to learn from others.\n",
        "Team Player:\n",
        "\n",
        "Showcase examples of successful collaboration and teamwork from past experiences.\n",
        "Emphasize your ability to contribute positively to team dynamics.\n",
        "Additional Considerations:\n",
        "Stay Updated: Keep abreast of the latest advancements in Java technologies and frameworks.\n",
        "Certifications: Consider obtaining relevant certifications such as Oracle Certified Java Programmer (OCPJP) or Spring Professional Certification.\n",
        "Portfolio: Build a portfolio showcasing your projects, including web applications developed using Java technologies.\n",
        "Networking: Attend meetups, conferences, and online forums to network with professionals in the field.\n",
        "By focusing on both technical proficiency and soft skills development, you'll be well-prepared to excel in interviews for Java Full Stack Developer positions."
      ]
    },
    {
      "cell_type": "markdown",
      "metadata": {},
      "source": [
        "## **`Java Programming Skills`**"
      ]
    },
    {
      "cell_type": "markdown",
      "metadata": {},
      "source": [
        "### **1. Reverse a Number**"
      ]
    },
    {
      "cell_type": "code",
      "execution_count": null,
      "metadata": {},
      "outputs": [],
      "source": [
        "import java.util.*;\n",
        "\n",
        "public class Solution {\n",
        "    public static long reverseNumber(long n) {\n",
        "        long reverse = 0;\n",
        "        while (n != 0) {\n",
        "            long digit = n % 10;\n",
        "            reverse = reverse * 10 + digit;\n",
        "            n /= 10;\n",
        "        }\n",
        "        return reverse;\n",
        "    }\n",
        "\n",
        "    public static void main(String[] args) {\n",
        "         //normally\n",
        "        // int t = 12345; // Example input number\n",
        "        // int reversedNumber = reverseNumber(t);\n",
        "        // System.out.println(\"Reversed number: \" + reversedNumber);\n",
        "    \n",
        "        //user input\n",
        "        Scanner scanner = new Scanner(System.in);\n",
        "        int t = scanner.nextInt(); // Number of test cases\n",
        "\n",
        "        for (int i = 0; i < t; i++) {\n",
        "            long num = scanner.nextLong(); // Input number\n",
        "            long reversed = reverseNumber(num);\n",
        "            System.out.println(reversed);\n",
        "        }\n",
        "        scanner.close();\n",
        "    }\n",
        "}\n"
      ]
    },
    {
      "cell_type": "markdown",
      "metadata": {},
      "source": [
        "This code defines a ReverseNumber class with two methods:\n",
        "\n",
        "1. reverse method:\n",
        "\n",
        "This method takes an integer n as input.\n",
        "Inside the method, a variable reversed is initialized to 0. This variable will store the reversed number.\n",
        "Using a while loop, the method iterates as long as n is not equal to 0.\n",
        "Inside the loop, the last digit of n is extracted using the modulo operator (n % 10) and stored in the variable digit.\n",
        "The digit is then appended to the reversed variable after multiplying reversed by 10 to shift its digits to the left.\n",
        "The last digit is removed from n by dividing n by 10, effectively shifting its digits to the right.\n",
        "This process continues until n becomes 0.\n",
        "Finally, the method returns the reversed number stored in the reversed variable.\n",
        "\n",
        "2. main method:\n",
        "\n",
        "This method serves as the entry point of the program.\n",
        "It demonstrates the usage of the reverse method by providing an example input number (12345).\n",
        "It calls the reverse method with the example input number and prints the reversed number to the console."
      ]
    },
    {
      "cell_type": "markdown",
      "metadata": {},
      "source": [
        "### **2. Remove Duplicates**"
      ]
    },
    {
      "cell_type": "code",
      "execution_count": null,
      "metadata": {},
      "outputs": [],
      "source": [
        "import java.util.Arrays;\n",
        "\n",
        "public class Solution {\n",
        "    public static int[] removeDuplicates(int[] arr) {\n",
        "        // Count the number of unique elements\n",
        "        int uniqueCount = 0;\n",
        "        for (int i = 0; i < arr.length; i++) {\n",
        "            boolean isDuplicate = false;\n",
        "            for (int j = 0; j < i; j++) {\n",
        "                if (arr[i] == arr[j]) {\n",
        "                    isDuplicate = true;\n",
        "                    break;\n",
        "                }\n",
        "            }\n",
        "            if (!isDuplicate) {\n",
        "                uniqueCount++;\n",
        "            }\n",
        "        }\n",
        "        \n",
        "        // Create a new array to store unique elements\n",
        "        int[] result = new int[uniqueCount];\n",
        "        int index = 0;\n",
        "        for (int i = 0; i < arr.length; i++) {\n",
        "            boolean isDuplicate = false;\n",
        "            for (int j = 0; j < i; j++) {\n",
        "                if (arr[i] == arr[j]) {\n",
        "                    isDuplicate = true;\n",
        "                    break;\n",
        "                }\n",
        "            }\n",
        "            if (!isDuplicate) {\n",
        "                result[index++] = arr[i];\n",
        "            }\n",
        "        }\n",
        "        \n",
        "        return result;\n",
        "    }\n",
        "\n",
        "    public static void main(String[] args) {\n",
        "        int[] input1 = {1, 2, 2, 3, 4};\n",
        "        int[] input2 = {10, 11, 23, 23, 23};\n",
        "\n",
        "        int[] output1 = removeDuplicates(input1);\n",
        "        int[] output2 = removeDuplicates(input2);\n",
        "\n",
        "        System.out.println(\"Output 1: \" + Arrays.toString(output1));\n",
        "        System.out.println(\"Output 2: \" + Arrays.toString(output2));\n",
        "    }\n",
        "}\n"
      ]
    },
    {
      "cell_type": "code",
      "execution_count": null,
      "metadata": {},
      "outputs": [],
      "source": [
        "import java.util.ArrayList;\n",
        "import java.util.HashSet;\n",
        "import java.util.List;\n",
        "\n",
        "public class Solution {\n",
        "    public static ArrayList<Integer> removeDuplicates(ArrayList<Integer> arr) {\n",
        "        ArrayList<Integer> result = new ArrayList<>();\n",
        "        HashSet<Integer> set = new HashSet<>();\n",
        "\n",
        "        for (Integer num : arr) {\n",
        "            if (!set.contains(num)) {\n",
        "                result.add(num);\n",
        "                set.add(num);\n",
        "            }\n",
        "        }\n",
        "\n",
        "        return result;\n",
        "    }\n",
        "\n",
        "    public static void main(String[] args) {\n",
        "        ArrayList<Integer> input1 = new ArrayList<>(List.of(1, 2, 2, 3, 4));\n",
        "        ArrayList<Integer> input2 = new ArrayList<>(List.of(10, 11, 23, 23, 23));\n",
        "\n",
        "        ArrayList<Integer> output1 = removeDuplicates(input1);\n",
        "        ArrayList<Integer> output2 = removeDuplicates(input2);\n",
        "\n",
        "        System.out.println(\"Output 1: \" + output1);\n",
        "        System.out.println(\"Output 2: \" + output2);\n",
        "    }\n",
        "}\n"
      ]
    },
    {
      "cell_type": "markdown",
      "metadata": {},
      "source": [
        "1. Import Statements:\n",
        "\n",
        "We import necessary classes from the java.util package:\n",
        "ArrayList: Used to create and manipulate dynamic arrays.\n",
        "HashSet: Used to store unique elements, ensuring that duplicates are automatically removed.\n",
        "List: Provides utility methods for working with lists.\n",
        "\n",
        "2. removeDuplicates Method:\n",
        "\n",
        "This method takes an ArrayList of integers (arr) as input and returns another ArrayList containing unique elements while maintaining their original order.\n",
        "It initializes an empty ArrayList called result to store the unique elements and a HashSet called set to keep track of elements we have encountered.\n",
        "It iterates over each element (num) in the input ArrayList (arr).\n",
        "For each element, if it is not present in the HashSet (set), it adds it to both the result ArrayList and the HashSet to mark it as encountered.\n",
        "Finally, it returns the result ArrayList containing unique elements.\n",
        "\n",
        "3. main Method:\n",
        "\n",
        "This method serves as the entry point of the program.\n",
        "It demonstrates the usage of the removeDuplicates method with sample inputs and prints the corresponding outputs.\n",
        "Two sample ArrayLists (input1 and input2) are created using the List.of method, which initializes the ArrayList with the specified elements.\n",
        "The removeDuplicates method is called for each input ArrayList, and the resulting ArrayLists (output1 and output2) are printed to the console."
      ]
    },
    {
      "cell_type": "markdown",
      "metadata": {},
      "source": [
        "### **3. Triangle Star Pattern**"
      ]
    },
    {
      "cell_type": "code",
      "execution_count": null,
      "metadata": {},
      "outputs": [],
      "source": [
        "import java.util.Scanner;\n",
        "public class Solution {\n",
        "\tpublic static void main(String[] args) {\n",
        "\t\t Scanner scanner = new Scanner(System.in);\n",
        "\n",
        "        // Read the number of rows\n",
        "        int N = scanner.nextInt();\n",
        "\n",
        "        // Loop through each row\n",
        "        for (int i = 1; i <= N; i++) {\n",
        "            // Loop through each column in the current row\n",
        "            for (int j = 1; j <= i; j++) {\n",
        "                System.out.print(\"*\"); // Print a star for each column\n",
        "            }\n",
        "            System.out.println(); // Move to the next line after printing stars for the current row\n",
        "        }\n",
        "\n",
        "        scanner.close();\n",
        "    }\n",
        "}"
      ]
    },
    {
      "cell_type": "markdown",
      "metadata": {},
      "source": [
        "We use a nested loop structure to iterate over each row and each column within the row.\n",
        "The outer loop runs from 1 to N, representing the row number.\n",
        "The inner loop runs from 1 to the current row number (i), representing the number of stars to print in that row.\n",
        "Inside the inner loop, we print a star (*) for each column.\n",
        "After printing the stars for each row, we move to the next line (System.out.println()) to start printing stars for the next row.\n",
        "This process repeats until we have printed the required number of rows specified by the user input (N)."
      ]
    }
  ],
  "metadata": {
    "colab": {
      "cell_execution_strategy": "setup",
      "provenance": []
    },
    "kernelspec": {
      "display_name": "java",
      "name": "java"
    },
    "language_info": {
      "name": "java"
    }
  },
  "nbformat": 4,
  "nbformat_minor": 0
}
