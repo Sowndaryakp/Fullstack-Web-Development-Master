{
  "cells": [
    {
      "cell_type": "markdown",
      "metadata": {
        "id": "ZoITrd8MsApt"
      },
      "source": [
        "Install Java kernal to run java code here."
      ]
    },
    {
      "cell_type": "code",
      "execution_count": null,
      "metadata": {
        "id": "rscw4ZMMNO-5"
      },
      "outputs": [],
      "source": [
        "!wget https://github.com/SpencerPark/IJava/releases/download/v1.3.0/ijava-1.3.0.zip\n",
        "!unzip ijava-1.3.0.zip\n",
        "!python install.py"
      ]
    },
    {
      "cell_type": "markdown",
      "metadata": {
        "id": "i6W-h4RTVSgk"
      },
      "source": [
        "ROUND 2(Coded Paded)\n",
        "Question 1\n",
        "* Search an element in sorted rotated array\n",
        "Question 2\n",
        "* find first non-repeating character in and array\n",
        "\n",
        "ROUND 3(Problem Solving and Basic Concepts)\n",
        "Question 1\n",
        "Concepts related pagination in both backend and frontend\n",
        "Questions regarding spring boots pagination library\n",
        "\n",
        "Question 2\n",
        "Find next greater number that can be formed using same digits of given number.\n",
        "eg input 123\n",
        "output 132\n",
        "\n",
        "Question 3\n",
        "Have you heard about Zeus Framework by google.\n",
        "\n",
        "Round 4 (Problem Solvinf DSA)\n",
        "Question 1\n",
        "* Write code for matrix multiplication\n",
        "\n",
        "Question 2\n",
        "* Flat Binary Tree into LinkedList in any order(pre-order traversal)\n",
        "\n",
        "\n",
        "Round 5(Design Round ) \n",
        "Design a CAB booking application like Uber\n",
        "Expectations\n",
        "Come up with Requirements\n",
        "Detailed components\n",
        "How Driver and User separation as user will be done.\n",
        "Write imporatnant APIS\n",
        "How will you store data\n",
        "\n",
        "\n",
        "\n"
      ]
    },
    {
      "cell_type": "markdown",
      "metadata": {},
      "source": []
    }
  ],
  "metadata": {
    "colab": {
      "cell_execution_strategy": "setup",
      "provenance": []
    },
    "kernelspec": {
      "display_name": "java",
      "name": "java"
    },
    "language_info": {
      "name": "java"
    }
  },
  "nbformat": 4,
  "nbformat_minor": 0
}
