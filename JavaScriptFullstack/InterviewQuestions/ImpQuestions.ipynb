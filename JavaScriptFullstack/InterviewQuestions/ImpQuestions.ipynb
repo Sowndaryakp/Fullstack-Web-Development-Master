{
  "cells": [
    {
      "cell_type": "markdown",
      "metadata": {
        "id": "ZoITrd8MsApt"
      },
      "source": [
        "Install Java kernal to run java code here."
      ]
    },
    {
      "cell_type": "code",
      "execution_count": null,
      "metadata": {
        "id": "rscw4ZMMNO-5"
      },
      "outputs": [],
      "source": [
        "!wget https://github.com/SpencerPark/IJava/releases/download/v1.3.0/ijava-1.3.0.zip\n",
        "!unzip ijava-1.3.0.zip\n",
        "!python install.py"
      ]
    },
    {
      "cell_type": "markdown",
      "metadata": {
        "id": "i6W-h4RTVSgk"
      },
      "source": [
        "# **Altimetric**"
      ]
    },
    {
      "cell_type": "markdown",
      "metadata": {},
      "source": [
        "## **Callback**\n",
        "* `Callback is a funcion passed as an arguement to the another function, which will be invoked or executed later.`\n",
        "* It is comonly used in **asynchronous programming** to **handle tasks** that need to **wait some operation to complete**.\n"
      ]
    },
    {
      "cell_type": "code",
      "execution_count": null,
      "metadata": {},
      "outputs": [],
      "source": [
        "// Function with a callback parameter\n",
        "function fetchData(callback) {\n",
        "    // Simulating an asynchronous operation\n",
        "    setTimeout(() => {\n",
        "      const data = \"Hello, callback!\";\n",
        "      callback(data); // Invoke the callback with the data\n",
        "    }, 1000);\n",
        "  }\n",
        "  \n",
        "  // Callback function to handle the data\n",
        "  function handleData(result) {\n",
        "    console.log(result);\n",
        "  }\n",
        "  \n",
        "  // Using the callback\n",
        "  fetchData(handleData);"
      ]
    },
    {
      "cell_type": "markdown",
      "metadata": {},
      "source": [
        "* The `fetchData` function takes a callback function as a parameter. Inside it, there's a simulated asynchronous operation using `setTimeout`.\n",
        "* After the asynchronous operation is completed, the fetchData function invokes the provided callback (`callback(data)`), passing the data as an argument to the callback.\n",
        "* The `handleData` function is defined separately as the callback to handle the data. In this case, it simply logs the data to the console.\n",
        "* Finally, the `fetchData` function is called, passing the `handleData` function as the callback. This is a common pattern in callback-based asynchronous programming.\n",
        "* Callbacks are functions `passed as arguments to be executed later`, allowing for better handling of asynchronous tasks and promoting modularity in code."
      ]
    },
    {
      "cell_type": "markdown",
      "metadata": {},
      "source": [
        "## **Merge Arrays using JavaSript and Java**\n",
        "\n",
        "* How to merge two sorted Arrays into a Sorted Array?\n",
        "* sort, merge, duplicate remove\n",
        "    let Array1 = [10, 15, 22, 80];\n",
        "    \n",
        "    let Array2 = [5, 8, 11, 15, 70];"
      ]
    },
    {
      "cell_type": "code",
      "execution_count": null,
      "metadata": {},
      "outputs": [],
      "source": [
        "//JavaSCript\n",
        "function mergeArray(arr1, arr2){\n",
        "    let mergedArray = []\n",
        "    let i=0;j=0;\n",
        "\n",
        "    while(i<arr1.length && j< arr2.length){\n",
        "        if(arr1[i]<arr2[j]){\n",
        "            mergedArray.push(arr1[i]);\n",
        "            i++;\n",
        "        }else{\n",
        "            mergedArray.push(arr2[j]);\n",
        "            j++;\n",
        "        }\n",
        "    }\n",
        "\n",
        "    for(;i<arr1.length;i++){\n",
        "        mergedArray.push(arr1[i])\n",
        "    }\n",
        "    for(;j<arr2.length;j++){\n",
        "        mergedArray.push(arr2[j]);\n",
        "    }\n",
        "    return mergedArray;\n",
        "\n",
        "}\n",
        "\n",
        "let Array1 = [10, 15, 22, 80];\n",
        "let Array2 = [5, 8, 11, 15, 70];\n",
        "console.log(mergeArray(Array1, Array2));"
      ]
    },
    {
      "cell_type": "code",
      "execution_count": null,
      "metadata": {},
      "outputs": [],
      "source": [
        "//Java Language\n",
        "import java.util.ArrayList;\n",
        "import java.util.List;\n",
        "\n",
        "public class MergeArrays {\n",
        "\n",
        "    public static List<Integer> mergeArray(int[] arr1, int[] arr2) {\n",
        "        List<Integer> mergedArray = new ArrayList<>();\n",
        "        int i = 0, j = 0;\n",
        "\n",
        "        while (i < arr1.length && j < arr2.length) {\n",
        "            if (arr1[i] < arr2[j]) {\n",
        "                mergedArray.add(arr1[i]);\n",
        "                i++;\n",
        "            } else {\n",
        "                mergedArray.add(arr2[j]);\n",
        "                j++;\n",
        "            }\n",
        "        }\n",
        "\n",
        "        for (; i < arr1.length; i++) {\n",
        "            mergedArray.add(arr1[i]);\n",
        "        }\n",
        "        for (; j < arr2.length; j++) {\n",
        "            mergedArray.add(arr2[j]);\n",
        "        }\n",
        "        return mergedArray;\n",
        "    }\n",
        "\n",
        "    public static void main(String[] args) {\n",
        "        int[] array1 = {10, 15, 22, 80};\n",
        "        int[] array2 = {5, 8, 11, 15, 70};\n",
        "        List<Integer> mergedList = mergeArray(array1, array2);\n",
        "        System.out.println(mergedList);\n",
        "    }\n",
        "}\n"
      ]
    }
  ],
  "metadata": {
    "colab": {
      "cell_execution_strategy": "setup",
      "provenance": []
    },
    "kernelspec": {
      "display_name": "java",
      "name": "java"
    },
    "language_info": {
      "name": "java"
    }
  },
  "nbformat": 4,
  "nbformat_minor": 0
}
