{
  "cells": [
    {
      "cell_type": "markdown",
      "metadata": {
        "id": "pcm5PWg2GQv0"
      },
      "source": [
        "# **JavaScript**"
      ]
    },
    {
      "cell_type": "markdown",
      "metadata": {
        "id": "ZoITrd8MsApt"
      },
      "source": [
        "Install Java kernal to run java code here."
      ]
    },
    {
      "cell_type": "code",
      "execution_count": null,
      "metadata": {
        "id": "rscw4ZMMNO-5"
      },
      "outputs": [],
      "source": [
        "!wget https://github.com/SpencerPark/IJava/releases/download/v1.3.0/ijava-1.3.0.zip\n",
        "!unzip ijava-1.3.0.zip\n",
        "!python install.py"
      ]
    },
    {
      "cell_type": "markdown",
      "metadata": {},
      "source": [
        "# **Difference between server side scripting and client side scripting language**\n",
        "\n",
        "* Server-side scripting and client-side scripting refer to the execution of scripts on different sides of a web application – on the server or on the client (browser).\n",
        "\n",
        "**1. Server-Side Scripting:**\n",
        "* Code is executed on the server before the page is sent to the client.\n",
        "* Commonly used for processing data, handling database operations, and generating dynamic content."
      ]
    },
    {
      "cell_type": "code",
      "execution_count": null,
      "metadata": {},
      "outputs": [],
      "source": [
        "// Node.js example for server-side scripting\n",
        "const http = require('http');\n",
        "http.createServer((req, res) => {\n",
        "  res.end('Hello from the server!');\n",
        "}).listen(3000);"
      ]
    },
    {
      "cell_type": "markdown",
      "metadata": {},
      "source": [
        "**2. Client-Side Scripting:**\n",
        "\n",
        "* Code is executed on the client's browser after receiving the HTML document.\n",
        "* Used for enhancing user interfaces, dynamic content manipulation, and user interactions."
      ]
    },
    {
      "cell_type": "code",
      "execution_count": null,
      "metadata": {},
      "outputs": [],
      "source": [
        "<!-- HTML with client-side JavaScript -->\n",
        "<!DOCTYPE html>\n",
        "<html>\n",
        "<body>\n",
        "\n",
        "<h1>Client-Side Scripting</h1>\n",
        "<p id=\"demo\">Hello from the client!</p>\n",
        "\n",
        "<script>\n",
        "  document.getElementById(\"demo\").innerHTML = \"Updated by client-side script\";\n",
        "</script>\n",
        "\n",
        "</body>\n",
        "</html>\n"
      ]
    },
    {
      "cell_type": "markdown",
      "metadata": {},
      "source": [
        "* In the client-side example, the JavaScript code runs in the user's browser, dynamically updating the content of the HTML page after it has been received from the server. \n",
        "* In contrast, the server-side example showcases a basic Node.js server that responds with \"Hello from the server!\" to incoming requests."
      ]
    },
    {
      "cell_type": "markdown",
      "metadata": {},
      "source": [
        "# **javascript is server side or client side scripting**\n",
        "\n",
        "* JavaScript can be used for both server-side scripting and client-side scripting, depending on the context and environment.\n",
        "\n",
        "**1. Client-Side Scripting:**\n",
        "\n",
        "* When JavaScript is used in the context of a web browser, it is considered client-side scripting.\n",
        "* It runs on the user's browser, allowing developers to enhance the user interface, manipulate the DOM, and handle user interactions without requiring a round-trip to the server for every action.\n",
        "\n",
        "**2. Server-Side Scripting:**\n",
        "\n",
        "JavaScript can also be used for server-side scripting when executed on the server using platforms like Node.js.\n",
        "In this scenario, JavaScript is used to handle server-side logic, process data, and generate dynamic content before sending the HTML response to the client."
      ]
    },
    {
      "cell_type": "code",
      "execution_count": null,
      "metadata": {},
      "outputs": [],
      "source": [
        "const http = require('http');\n",
        "http.createServer((req, res) => {\n",
        "  res.end('Hello from the server!');\n",
        "}).listen(3000);\n"
      ]
    },
    {
      "cell_type": "markdown",
      "metadata": {},
      "source": [
        "* In summary, JavaScript is versatile and can be employed for both client-side and server-side scripting, making it a crucial language for full-stack development."
      ]
    },
    {
      "cell_type": "markdown",
      "metadata": {},
      "source": [
        "**in client side secure or insecure.**\n",
        "* The security of client-side code (JavaScript running in a user's browser) depends on how it is implemented and the precautions taken by developers. \n",
        "* Generally, client-side code is considered potentially insecure because it is visible and accessible to users, making it susceptible to manipulation or exploitation. Here are some considerations:\n",
        "Code Visibility:\n",
        "Code Manipulation:\n",
        "Data Exposure:\n"
      ]
    },
    {
      "cell_type": "markdown",
      "metadata": {},
      "source": [
        "## 1. Each JavaScript single thread or moody's writing?\n",
        "\n",
        "* JavaScript is `single-threaded`, meaning it has only `one execution thread`. or\n",
        "* JavaScript is single-threaded, meaning it `executes one operation at a time` in a single sequence. \n",
        "\n",
        "**Thread**: A thread is the `smallest unit of execution within a process`, representing an `independent` sequence of instructions that can be scheduled and executed by the operating system.( or `execution` or `Sequential flow``.)\n",
        "\n",
        " \n",
        "* However, it supports `asynchronous programming` through features like `callbacks, Promises, and async/await`.\n",
        "\n",
        "* This enables `non-blocking behavior`, allowing certain tasks, such as I/O operations, to be handled asynchronously.\n",
        "\n",
        "* Here's a simple example using setTimeout to illustrate asynchronous behavior:"
      ]
    },
    {
      "cell_type": "code",
      "execution_count": null,
      "metadata": {},
      "outputs": [],
      "source": [
        "console.log(\"Start\");\n",
        "\n",
        "// Asynchronous operation with a callback\n",
        "setTimeout(() => {\n",
        "    console.log(\"Async operation completed after 1000 milliseconds\");\n",
        "}, 1000);\n",
        "\n",
        "console.log(\"End\");"
      ]
    },
    {
      "cell_type": "markdown",
      "metadata": {},
      "source": [
        "* In this example, the **setTimeout function `schedules` the callback to run after 1000 milliseconds**.\n",
        "* While waiting for the timeout, other synchronous code continues to execute, demonstrating the `non-blocking` nature of JavaScript.\n",
        "\n",
        "* **Note**: Although JavaScript itself is `single-threaded`, **modern web browsers leverage `multi-threading`** for tasks like **rendering and handling events in the background**.\n",
        "\n",
        "**`Non-Blocking`**:\n",
        "* Non-blocking behavior refers to the ability of a program to `continue executing other tasks while waiting for certain operations to complete`.\n",
        "\n",
        "* Here's a simple example in JavaScript using asynchronous code with callbacks:"
      ]
    },
    {
      "cell_type": "code",
      "execution_count": null,
      "metadata": {},
      "outputs": [],
      "source": [
        "console.log(\"Start\");\n",
        "\n",
        "setTimeout(() => {\n",
        "  console.log(\"Async operation completed\");\n",
        "}, 1000);\n",
        "\n",
        "console.log(\"End\");"
      ]
    },
    {
      "cell_type": "markdown",
      "metadata": {},
      "source": [
        "* In this example, the `setTimeout` function is asynchronous and non-blocking. \n",
        "* While waiting for the timer to complete (1 second in this case), the program continues executing the next line of code (`console.log(\"End\")`) without waiting for the asynchronous operation to finish."
      ]
    },
    {
      "cell_type": "markdown",
      "metadata": {},
      "source": [
        "# **Callback**\n",
        "\n",
        "* A callback is a function `passed as an argument to another function`, which will be `invoked` or `executed later`. \n",
        "* It is commonly used in `asynchronous programming` to **handle tasks** that need to **wait for some operation to complete**.\n"
      ]
    },
    {
      "cell_type": "code",
      "execution_count": null,
      "metadata": {},
      "outputs": [],
      "source": [
        "// Function with a callback parameter\n",
        "function fetchData(callback) {\n",
        "  // Simulating an asynchronous operation\n",
        "  setTimeout(() => {\n",
        "    const data = \"Hello, callback!\";\n",
        "    callback(data); // Invoke the callback with the data\n",
        "  }, 1000);\n",
        "}\n",
        "\n",
        "// Callback function to handle the data\n",
        "function handleData(result) {\n",
        "  console.log(result);\n",
        "}\n",
        "\n",
        "// Using the callback\n",
        "fetchData(handleData);"
      ]
    },
    {
      "cell_type": "markdown",
      "metadata": {},
      "source": [
        "* The `fetchData` function takes a callback function as a parameter. Inside it, there's a simulated asynchronous operation using `setTimeout`.\n",
        "* After the asynchronous operation is completed, the fetchData function invokes the provided callback (`callback(data)`), passing the data as an argument to the callback.\n",
        "* The `handleData` function is defined separately as the callback to handle the data. In this case, it simply logs the data to the console.\n",
        "* Finally, the `fetchData` function is called, passing the `handleData` function as the callback. This is a common pattern in callback-based asynchronous programming.\n",
        "* Callbacks are functions `passed as arguments to be executed later`, allowing for better handling of asynchronous tasks and promoting modularity in code."
      ]
    },
    {
      "cell_type": "markdown",
      "metadata": {},
      "source": [
        "# **Promises:**\n",
        "* Promises are `objects` that represent the eventual `completion or failure of an asynchronous operation`. \n",
        "* They provide a `cleaner` and `more structured way` to `handle asynchronous code compared to callbacks`, allowing for better `error handling` and `chaining` of multiple asynchronous operations."
      ]
    },
    {
      "cell_type": "code",
      "execution_count": null,
      "metadata": {},
      "outputs": [],
      "source": [
        "// Function that returns a promise\n",
        "function fetchData() {\n",
        "    return new Promise((resolve, reject) => {\n",
        "      // Simulating an asynchronous operation\n",
        "      setTimeout(() => {\n",
        "        const success = true;\n",
        "        if (success) {\n",
        "          const data = \"Hello, promises!\";\n",
        "          resolve(data); // Resolve the promise with the data\n",
        "        } else {\n",
        "          reject(new Error(\"Failed to fetch data\")); // Reject the promise with an error\n",
        "        }\n",
        "      }, 1000);\n",
        "    });\n",
        "  }\n",
        "  \n",
        "  // Using the promise\n",
        "  fetchData()\n",
        "    .then((result) => {\n",
        "      console.log(result); // Handle the resolved data\n",
        "    })\n",
        "    .catch((error) => {\n",
        "      console.error(error.message); // Handle any errors\n",
        "    });\n",
        "  "
      ]
    },
    {
      "cell_type": "markdown",
      "metadata": {},
      "source": [
        "* The `fetchData` function returns a new Promise, taking two arguments: `resolve` and `reject`. Inside the promise, there's a simulated asynchronous operation using `setTimeout`.\n",
        "* If the operation is successful (`success` is `true`), the promise is resolved with the data using `resolve(data)`; otherwise, it is rejected with an error using `reject(new Error(\"Failed to fetch data\"))`.\n",
        "* The `then` method is used to **handle the resolved data** when the promise is successful. In this case, it logs the result to the console.\n",
        "* The `catch` method is used to **handle errors** if the promise is rejected. It logs the error message to the console.\n",
        "* This structure allows for a more organized and readable way to handle asynchronous operations and their outcomes."
      ]
    },
    {
      "cell_type": "markdown",
      "metadata": {},
      "source": [
        "# **1. Synchronous:**\n",
        "**Execution Order:** In synchronous JavaScript, code is `executed sequentially`, `one operation at a time`. Each operation **must wait** for the previous one to complete before moving on.\n",
        "\n",
        "**Blocking:** Synchronous code blocks the execution of the program during `time-consuming tasks`, such as **I/O operations or network requests**. This can lead to potential **`delays`** and inefficiencies."
      ]
    },
    {
      "cell_type": "code",
      "execution_count": null,
      "metadata": {},
      "outputs": [],
      "source": [
        "console.log(\"Start\");\n",
        "\n",
        "// Synchronous operation\n",
        "for (let i = 0; i < 3; i++) {\n",
        "    console.log(i);\n",
        "}\n",
        "\n",
        "console.log(\"End\");"
      ]
    },
    {
      "cell_type": "markdown",
      "metadata": {},
      "source": [
        "# **2. Asynchronous:**\n",
        "**Execution Order:** In asynchronous JavaScript, code is `executed non-sequentially`. Asynchronous operations, such as fetching data or reading files, **do not block** the program's execution. Instead, they are **scheduled and handled independently**.\n",
        "\n",
        "**Non-blocking:** Asynchronous code allows the `program to continue executing other tasks` while waiting for time-consuming operations to complete, preventing blocking of the entire program.\n",
        "\n",
        "Example : \n",
        "\n",
        "**Using Callbacks:**"
      ]
    },
    {
      "cell_type": "code",
      "execution_count": null,
      "metadata": {},
      "outputs": [],
      "source": [
        "console.log(\"Start\");\n",
        "\n",
        "// Asynchronous operation with a callback\n",
        "setTimeout(() => {\n",
        "    console.log(\"Async operation completed after 1000 milliseconds\");\n",
        "}, 1000);\n",
        "\n",
        "console.log(\"End\");"
      ]
    },
    {
      "cell_type": "markdown",
      "metadata": {},
      "source": [
        "**Using Promises or Async/Await:**"
      ]
    },
    {
      "cell_type": "code",
      "execution_count": null,
      "metadata": {},
      "outputs": [],
      "source": [
        "console.log(\"Start\");\n",
        "\n",
        "// Asynchronous operation with a Promise\n",
        "function fetchData() {\n",
        "    return new Promise(resolve => {\n",
        "        setTimeout(() => {\n",
        "            console.log(\"Data fetched!\");\n",
        "            resolve();\n",
        "        }, 1000);\n",
        "    });\n",
        "}\n",
        "\n",
        "fetchData().then(() => {\n",
        "    console.log(\"Promise resolved\");\n",
        "});\n",
        "\n",
        "console.log(\"End\");\n"
      ]
    },
    {
      "cell_type": "markdown",
      "metadata": {},
      "source": [
        "* In summary, synchronous code executes sequentially and blocks the program during time-consuming tasks, while `asynchronous code allows non-blocking execution`, enabling the program to `perform other tasks` while waiting for asynchronous operations to complete."
      ]
    },
    {
      "cell_type": "markdown",
      "metadata": {},
      "source": [
        "**Async/Await**\n",
        "* `async/await` is a syntactic feature in JavaScript that simplifies asynchronous code by allowing developers to write asynchronous operations in a more synchronous style. \n",
        "* The `async` keyword is used to declare a function as asynchronous, and the `await` keyword is used to pause the execution of the function until a Promise is resolved, providing a cleaner and more readable way to handle asynchronous tasks."
      ]
    },
    {
      "cell_type": "code",
      "execution_count": null,
      "metadata": {},
      "outputs": [],
      "source": [
        "async function fetchData() {\n",
        "    try {\n",
        "      const result = await fetch('https://api.example.com/data');\n",
        "      const data = await result.json();\n",
        "      console.log(data);\n",
        "    } catch (error) {\n",
        "      console.error('Error fetching data:', error);\n",
        "    }\n",
        "  }\n",
        "  \n",
        "  fetchData();  "
      ]
    },
    {
      "cell_type": "markdown",
      "metadata": {},
      "source": [
        "**1. Async Function Declaration:**\n",
        "* The `async` keyword is used to declare the fetchData function as an asynchronous function. \n",
        "* This means it will always return a Promise.\n",
        "\n",
        "**2. Asynchronous Operations with await:**\n",
        "* Inside the fetchData function, two asynchronous operations are performed using the await keyword.\n",
        "* `await` fetch('https://api.example.com/data'): Pauses the execution of the function until the fetch operation is complete, and the result is obtained.\n",
        "* `await` result.json(): Pauses again until the JSON parsing of the result is complete.\n",
        "\n",
        "**3. Error Handling with try-catch:**\n",
        "* A try block is used to wrap the asynchronous operations, and a catch block handles any errors that may occur during the execution of the asynchronous code.\n",
        "\n",
        "**4. Logging or Handling Data:**\n",
        "*If the asynchronous operations are successful, the data is logged to the console using console.log(data).\n",
        "\n",
        "**5. Error Logging:**\n",
        "* If any error occurs during the asynchronous operations, it is caught in the catch block, and an error message is logged to the console using console.error('Error fetching data:', error).\n",
        "\n",
        "**6. Function Invocation:**\n",
        "* Finally, the `fetchData` function is invoked, initiating the asynchronous operations.\n",
        "* In summary, this code demonstrates the use of async/await to handle asynchronous operations, making the code appear more synchronous and easier to read. \n",
        "* The fetchData function fetches data from an API, parses it as JSON, and logs the result or any errors."
      ]
    },
    {
      "cell_type": "markdown",
      "metadata": {},
      "source": [
        "# **2. how to handle asynchronous operation like promises, timers**\n",
        "\n",
        "* **Handling asynchronous operations** in JavaScript can be done using various techniques, such as `Promises, timers (like setTimeout), and async/await`. \n",
        "* Below are examples demonstrating how to handle asynchronous operations with each approach:\n",
        "\n",
        "**Using Promises:**\n",
        "* Promises are `objects` representing the eventual `completion or failure` of an asynchronous operation. \n",
        "* They provide a **cleaner syntax** for handling asynchronous code, allowing **chaining** of `.then()` and `.catch()` methods."
      ]
    },
    {
      "cell_type": "code",
      "execution_count": null,
      "metadata": {},
      "outputs": [],
      "source": [
        "function fetchData() {\n",
        "    return new Promise((resolve, reject) => {\n",
        "        // Simulating an asynchronous operation\n",
        "        setTimeout(() => {\n",
        "            const success = true; // Set to false for demonstration of rejection\n",
        "            if (success) {\n",
        "                console.log(\"Data fetched!\");\n",
        "                resolve(\"Data\");\n",
        "            } else {\n",
        "                reject(\"Error fetching data\");\n",
        "            }\n",
        "        }, 1000);\n",
        "    });\n",
        "}\n",
        "\n",
        "// Consuming the Promise\n",
        "fetchData()\n",
        "    .then(data => {\n",
        "        console.log(\"Promise resolved:\", data);\n",
        "    })\n",
        "    .catch(error => {\n",
        "        console.error(\"Promise rejected:\", error);\n",
        "    });"
      ]
    },
    {
      "cell_type": "markdown",
      "metadata": {},
      "source": [
        "**Using Timers:**\n",
        "* Timers in JavaScript, like `setTimeout`, allow **scheduling the execution of a function after a specified delay**. \n",
        "* They are commonly used to simulate asynchronous operations, such as `fetching data or handling timeouts`."
      ]
    },
    {
      "cell_type": "code",
      "execution_count": null,
      "metadata": {},
      "outputs": [],
      "source": [
        "console.log(\"Start\");\n",
        "\n",
        "// Asynchronous operation with a timer\n",
        "setTimeout(() => {\n",
        "    console.log(\"Async operation completed after 1000 milliseconds\");\n",
        "}, 1000);\n",
        "\n",
        "console.log(\"End\");\n"
      ]
    },
    {
      "cell_type": "markdown",
      "metadata": {},
      "source": [
        "**Using Async/Await with Promises:**\n",
        "* Async/Await is a syntactic **sugar built on top of Promises**, making asynchronous code look more **like synchronous code**. \n",
        "* The async keyword is **used to define a function that returns a Promise**, and await is used to wait for the resolution of a Promise, enhancing code readability."
      ]
    },
    {
      "cell_type": "code",
      "execution_count": null,
      "metadata": {},
      "outputs": [],
      "source": [
        "async function fetchData() {\n",
        "    return new Promise(resolve => {\n",
        "        // Simulating an asynchronous operation\n",
        "        setTimeout(() => {\n",
        "            console.log(\"Data fetched!\");\n",
        "            resolve(\"Data\");\n",
        "        }, 1000);\n",
        "    });\n",
        "}\n",
        "\n",
        "// Using async/await to handle the Promise\n",
        "async function fetchDataAndLog() {\n",
        "    try {\n",
        "        const data = await fetchData();\n",
        "        console.log(\"Async/Await completed:\", data);\n",
        "    } catch (error) {\n",
        "        console.error(\"Async/Await error:\", error);\n",
        "    }\n",
        "}\n",
        "\n",
        "fetchDataAndLog();\n"
      ]
    },
    {
      "cell_type": "markdown",
      "metadata": {},
      "source": [
        "**Call Stack**\n",
        "* The call stack in JavaScript is a data structure that keeps track of function calls during the execution of a program. \n",
        "* It follows the Last In, First Out (LIFO) principle, where the last function that gets pushed onto the stack is the first one to be popped off."
      ]
    },
    {
      "cell_type": "code",
      "execution_count": null,
      "metadata": {},
      "outputs": [],
      "source": [
        "function func1() {\n",
        "    console.log(\"Inside func1\");\n",
        "    func2();\n",
        "}\n",
        "\n",
        "function func2() {\n",
        "    console.log(\"Inside func2\");\n",
        "}\n",
        "\n",
        "func1();\n"
      ]
    },
    {
      "cell_type": "markdown",
      "metadata": {},
      "source": [
        "In this example, when `func1` is called, it gets pushed onto the call stack. Inside `func1`, `func2` is called, and it also gets pushed onto the stack. The stack is then popped in reverse order, executing `func2` and then `func1`."
      ]
    },
    {
      "cell_type": "markdown",
      "metadata": {},
      "source": [
        "# **Code stack, browising apis using event queses.**\n",
        "\n",
        "* JavaScript uses the event loop to `manage asynchronous operations`, and the `Promise mechanism plays a crucial role in this process`. \n",
        "* When a Promise is resolved or rejected, its callback is queued in the microtask queue.\n",
        "* The event loop picks up `microtasks` after each stack execution, ensuring timely execution of Promise callbacks."
      ]
    },
    {
      "cell_type": "code",
      "execution_count": null,
      "metadata": {},
      "outputs": [],
      "source": [
        "console.log(\"Start\");\n",
        "\n",
        "// Asynchronous operation with a Promise\n",
        "const fetchData = () => new Promise(resolve => setTimeout(() => resolve(\"Data\"), 1000));\n",
        "\n",
        "fetchData().then(data => {\n",
        "    console.log(\"Promise resolved:\", data);\n",
        "    console.log(\"Microtask executed\");\n",
        "});\n",
        "\n",
        "console.log(\"End\");\n"
      ]
    },
    {
      "cell_type": "markdown",
      "metadata": {},
      "source": [
        "**Event Loop**\n",
        "\n",
        "* The event loop in JavaScript is a `continuous process that handles the execution of code, events, and asynchronous tasks`. It ensures that asynchronous operations, like `timers` and `promises`, are processed in a non-blocking manner. \n",
        "* The loop repeatedly checks the `call stack`, `processes tasks`, and `executes callbacks` from the task queues."
      ]
    },
    {
      "cell_type": "code",
      "execution_count": null,
      "metadata": {},
      "outputs": [],
      "source": [
        "console.log(\"Start\");\n",
        "\n",
        "// Asynchronous operation with a timer\n",
        "setTimeout(() => {\n",
        "    console.log(\"Async operation completed after 1000 milliseconds\");\n",
        "}, 1000);\n",
        "\n",
        "console.log(\"End\");"
      ]
    },
    {
      "cell_type": "markdown",
      "metadata": {},
      "source": [
        "* In this example, the event loop allows the program to continue executing after initiating the timer, and the timer's callback is placed in the task queue. \n",
        "* The event loop then picks up and executes the callback after the current stack is empty.\n",
        "\n",
        "**This keyword**\n",
        "* In JavaScript, the `this` keyword refers to the object that the function is a property of or the object that is currently executing the function. \n",
        "* It provides a way to access the context in which a function is called."
      ]
    },
    {
      "cell_type": "code",
      "execution_count": null,
      "metadata": {},
      "outputs": [],
      "source": [
        "// Using 'this' in an object method\n",
        "const person = {\n",
        "    name: \"John\",\n",
        "    greet: function() {\n",
        "      console.log(\"Hello, \" + this.name + \"!\");\n",
        "    }\n",
        "  };\n",
        "  \n",
        "  person.greet(); // Output: Hello, John!\n",
        "  \n",
        "  // 'this' in a function (default context is the global object in this case)\n",
        "  function sayHello() {\n",
        "    console.log(\"Hello, \" + this.name + \"!\");\n",
        "  }\n",
        "  \n",
        "  // 'this' is different in this context, as 'sayHello' is not a method of an object\n",
        "  sayHello(); // Output: Hello, undefined!  "
      ]
    },
    {
      "cell_type": "markdown",
      "metadata": {},
      "source": [
        "* In the first example, `this.name` inside the `greet` method refers to the `name` property of the `person` object. \n",
        "* In the second example, when `sayHello` is called as a standalone function, `this` refers to the global object (in a browser environment, it could be the `window` object). \n",
        "* In this case, this.name is `undefined` since there is no `name` property in the global object."
      ]
    },
    {
      "cell_type": "markdown",
      "metadata": {},
      "source": [
        "# **3. how javascript knows that promises just finish and set them push the coreset.** or\n",
        "**how js knows that promises ended and to execute the callaback.**\n",
        "\n",
        "* In JavaScript, promises notify the completion of their execution through the `resolve` and `reject` callbacks. \n",
        "* The `then` and `catch` methods are used to handle these resolutions or rejections. \n",
        "* When a promise is settled (either resolved or rejected), it triggers the associated callback functions.\n",
        "\n",
        "Here's a simple code example:"
      ]
    },
    {
      "cell_type": "code",
      "execution_count": null,
      "metadata": {},
      "outputs": [],
      "source": [
        "const myPromise = new Promise((resolve, reject) => {\n",
        "    // Simulating an asynchronous operation\n",
        "    setTimeout(() => {\n",
        "      const success = true;\n",
        "      if (success) {\n",
        "        resolve(\"Promise resolved!\");\n",
        "      } else {\n",
        "        reject(new Error(\"Promise rejected!\"));\n",
        "      }\n",
        "    }, 1000);\n",
        "  });\n",
        "  \n",
        "  // Handling the settled promise\n",
        "  myPromise\n",
        "    .then((result) => {\n",
        "      console.log(result); // Executed when the promise is resolved\n",
        "    })\n",
        "    .catch((error) => {\n",
        "      console.error(error.message); // Executed when the promise is rejected\n",
        "    });\n",
        "  "
      ]
    },
    {
      "cell_type": "markdown",
      "metadata": {},
      "source": [
        "* In this example, the myPromise is settled (either resolved or rejected) after the asynchronous operation completes. \n",
        "* The then method is called if the promise is resolved, and the catch method is called if the promise is rejected. \n",
        "* The JavaScript runtime knows that the promise has finished when it executes the appropriate callback based on the promise's settlement. \n",
        "* This asynchronous nature allows for non-blocking code execution, promoting more efficient handling of operations that take time to complete."
      ]
    },
    {
      "cell_type": "markdown",
      "metadata": {},
      "source": [
        "# **4. Difference between Promises and Observables**\n",
        "\n",
        "**Promises:**\n",
        "* **Usage:** Promises represent a single value that will be available in the future, either resolved with a value or rejected with a reason.\n",
        "* **Handling:** Promises are typically used for handling asynchronous operations and are resolved once, either successfully or with an error."
      ]
    },
    {
      "cell_type": "code",
      "execution_count": null,
      "metadata": {},
      "outputs": [],
      "source": [
        "const fetchData = () => new Promise(resolve => setTimeout(() => resolve(\"Data\"), 1000));\n",
        "\n",
        "fetchData()\n",
        "    .then(data => console.log(\"Promise resolved:\", data))\n",
        "    .catch(error => console.error(\"Promise rejected:\", error));\n"
      ]
    },
    {
      "cell_type": "markdown",
      "metadata": {},
      "source": [
        "**Observables:**\n",
        "* **Usage:** Observables represent a stream of values over time. They can emit multiple values and are used for handling asynchronous events and data.\n",
        "* **Handling:** Observables are more powerful, supporting multiple values over time and various operators for transforming and combining streams."
      ]
    },
    {
      "cell_type": "code",
      "execution_count": null,
      "metadata": {},
      "outputs": [],
      "source": [
        "import { Observable } from 'rxjs';\n",
        "\n",
        "const fetchDataObservable = new Observable(observer => {\n",
        "    setTimeout(() => {\n",
        "        observer.next(\"Data 1\");\n",
        "        observer.next(\"Data 2\");\n",
        "        observer.complete();\n",
        "    }, 1000);\n",
        "});\n",
        "\n",
        "fetchDataObservable.subscribe(\n",
        "    data => console.log(\"Observable next:\", data),\n",
        "    error => console.error(\"Observable error:\", error),\n",
        "    () => console.log(\"Observable complete\")\n",
        ");\n"
      ]
    },
    {
      "cell_type": "markdown",
      "metadata": {},
      "source": [
        "* In summary, Promises handle a single future value, while Observables handle streams of values over time, providing more flexibility for handling asynchronous events. Observables are part of the RxJS library, offering powerful features for reactive programming."
      ]
    },
    {
      "cell_type": "markdown",
      "metadata": {},
      "source": [
        "# **5. Difference between prompts.all and prompts.allSettled.**\n",
        " `Promise.all` and `Promise.allSettled` are both methods in JavaScript for handling multiple promises, but they differ in how they handle the resolution or rejection of the promises.\n",
        "\n",
        "**1. Promise.all:**\n",
        "* Resolves when all promises in the iterable argument have been fulfilled or rejects if any of the promises are rejected.\n",
        "* If any promise is rejected, the entire `Promise.all` is rejected, and the first rejection reason is returned."
      ]
    },
    {
      "cell_type": "code",
      "execution_count": null,
      "metadata": {},
      "outputs": [],
      "source": [
        "const promise1 = Promise.resolve(\"Hello\");\n",
        "const promise2 = Promise.resolve(\"World\");\n",
        "\n",
        "Promise.all([promise1, promise2])\n",
        "  .then((values) => {\n",
        "    console.log(values); // Output: [\"Hello\", \"World\"]\n",
        "  })\n",
        "  .catch((error) => {\n",
        "    console.error(error); // Not executed in this case\n",
        "  });\n"
      ]
    },
    {
      "cell_type": "markdown",
      "metadata": {},
      "source": [
        "**2. Promise.allSettled:**\n",
        "* Resolves when all promises in the iterable argument have been settled (fulfilled or rejected).\n",
        "* Returns an array of objects representing the fulfillment or rejection status of each promise, allowing handling of individual results, even if some promises are rejected."
      ]
    },
    {
      "cell_type": "code",
      "execution_count": null,
      "metadata": {},
      "outputs": [],
      "source": [
        "const promise1 = Promise.resolve(\"Hello\");\n",
        "const promise2 = Promise.reject(new Error(\"Error\"));\n",
        "\n",
        "Promise.allSettled([promise1, promise2])\n",
        "  .then((results) => {\n",
        "    console.log(results);\n",
        "    /*\n",
        "    Output:\n",
        "    [\n",
        "      { status: 'fulfilled', value: 'Hello' },\n",
        "      { status: 'rejected', reason: Error: Error }\n",
        "    ]\n",
        "    */\n",
        "  });"
      ]
    },
    {
      "cell_type": "markdown",
      "metadata": {},
      "source": [
        "* In summary, `Promise.all` is suitable when you want to know if all promises are successfully fulfilled or if any one of them is rejected. \n",
        "* On the other hand, `Promise.allSettled` is useful when you want to handle each promise's result individually, regardless of whether it was fulfilled or rejected."
      ]
    },
    {
      "cell_type": "markdown",
      "metadata": {},
      "source": [
        "# **6. Event emitters:** \n",
        "* In JavaScript are objects that facilitate the implementation of the observer pattern. \n",
        "* They emit events, and functions (listeners) can be attached to handle these events. \n",
        "* Node.js commonly uses event emitters for handling asynchronous operations and building scalable applications.\n",
        "\n",
        "Example using Node.js's built-in `EventEmitter`:"
      ]
    },
    {
      "cell_type": "code",
      "execution_count": null,
      "metadata": {},
      "outputs": [],
      "source": [
        "const EventEmitter = require('events');\n",
        "\n",
        "// Creating an instance of EventEmitter\n",
        "const myEmitter = new EventEmitter();\n",
        "\n",
        "// Attaching an event listener\n",
        "myEmitter.on('myEvent', (data) => {\n",
        "  console.log('Event triggered:', data);\n",
        "});\n",
        "\n",
        "// Emitting the event\n",
        "myEmitter.emit('myEvent', 'Hello, Event Emitters!');"
      ]
    },
    {
      "cell_type": "markdown",
      "metadata": {},
      "source": [
        "In this example, we create an instance of EventEmitter named myEmitter. We attach an event listener using the on method for the custom event named 'myEvent'. When we emit the event with myEmitter.emit('myEvent', 'Hello, Event Emitters!'), the attached listener executes and logs the event data. Event emitters are useful for decoupling components and creating modular, event-driven architectures."
      ]
    },
    {
      "cell_type": "markdown",
      "metadata": {},
      "source": [
        "# **8. what is the difference between call and apply**\n",
        "* `call` and `apply` are both methods in JavaScript that are used to invoke a function, but they differ in how they pass arguments to the function.\n",
        "\n",
        "**1. call:**\n",
        "The call method is used to invoke a function with a specified this value and individual arguments passed as comma-separated values."
      ]
    },
    {
      "cell_type": "code",
      "execution_count": null,
      "metadata": {},
      "outputs": [],
      "source": [
        "function greet(name) {\n",
        "    console.log(`Hello, ${name}! This is ${this.title}.`);\n",
        "  }\n",
        "  \n",
        "  const person = { title: 'Mr.' };\n",
        "  \n",
        "  greet.call(person, 'John');\n",
        "  // Output: Hello, John! This is Mr.  "
      ]
    },
    {
      "cell_type": "markdown",
      "metadata": {},
      "source": [
        "**2. apply:**\n",
        "* The apply method is similar to call but takes an array or array-like object as the second argument, which is used as the arguments to the function."
      ]
    },
    {
      "cell_type": "code",
      "execution_count": null,
      "metadata": {},
      "outputs": [],
      "source": [
        "function greet(name, greeting) {\n",
        "    console.log(`${greeting}, ${name}! This is ${this.title}.`);\n",
        "  }\n",
        "  \n",
        "  const person = { title: 'Mr.' };\n",
        "  \n",
        "  greet.apply(person, ['John', 'Hi']);\n",
        "  // Output: Hi, John! This is Mr.  "
      ]
    },
    {
      "cell_type": "markdown",
      "metadata": {},
      "source": [
        "In summary, both `call` and `apply` allow you to set the this value for a function, but `call` takes individual arguments, while apply takes an array of arguments. The choice between them depends on the format in which you have your arguments available."
      ]
    },
    {
      "cell_type": "markdown",
      "metadata": {},
      "source": [
        "# **9. whats the difference between const, object and freeze**\n",
        "\n",
        "**1.const:**\n",
        "const is used to declare a variable with a constant value, meaning the identifier cannot be reassigned. However, it does not make the value itself immutable."
      ]
    },
    {
      "cell_type": "code",
      "execution_count": null,
      "metadata": {},
      "outputs": [],
      "source": [
        "const pi = 3.14;\n",
        "// Valid:\n",
        "// pi = 3.141; // Error: Assignment to a constant variable\n"
      ]
    },
    {
      "cell_type": "markdown",
      "metadata": {},
      "source": [
        "**2. Object:**\n",
        "Objects in JavaScript are mutable. Their properties can be modified, added, or deleted after creation."
      ]
    },
    {
      "cell_type": "code",
      "execution_count": null,
      "metadata": {},
      "outputs": [],
      "source": [
        "const person = { name: 'John', age: 30 };\n",
        "person.age = 31; // Valid: Modifying a property\n",
        "person.city = 'New York'; // Valid: Adding a new property\n"
      ]
    },
    {
      "cell_type": "markdown",
      "metadata": {},
      "source": [
        "**3. Object.freeze:**\n",
        "Object.freeze is a method that makes an object immutable by preventing modifications to its properties. It recursively freezes nested objects."
      ]
    },
    {
      "cell_type": "code",
      "execution_count": null,
      "metadata": {},
      "outputs": [],
      "source": [
        "const frozenPerson = Object.freeze({ name: 'John', age: 30 });\n",
        "// The following will throw an error in strict mode:\n",
        "// frozenPerson.age = 31; // Error: Cannot assign to read-only property\n",
        "// frozenPerson.city = 'New York'; // Error: Cannot add property\n"
      ]
    },
    {
      "cell_type": "markdown",
      "metadata": {},
      "source": [
        "In summary, while const ensures that a variable identifier cannot be reassigned, it doesn't make the content of the variable (such as an object) immutable. Object.freeze is a way to make an entire object (and its nested objects) immutable by preventing any modifications to its properties."
      ]
    },
    {
      "cell_type": "markdown",
      "metadata": {},
      "source": [
        "# **10. difference between map and weak map**\n",
        "**1. Map:**\n",
        "Map in JavaScript is a collection of key-value pairs where keys can be any data type. It holds strong references to its keys, preventing their automatic garbage collection."
      ]
    },
    {
      "cell_type": "code",
      "execution_count": null,
      "metadata": {},
      "outputs": [],
      "source": [
        "const myMap = new Map();\n",
        "const keyObj = { key: 'value' };\n",
        "myMap.set(keyObj, 'Hello');\n",
        "console.log(myMap.get(keyObj)); // Output: Hello\n"
      ]
    },
    {
      "cell_type": "markdown",
      "metadata": {},
      "source": [
        "**2. WeakMap:**\n",
        "WeakMap is similar to Map but allows only objects as keys. It holds weak references to its keys, meaning it does not prevent the keys from being garbage collected if there are no other references."
      ]
    },
    {
      "cell_type": "code",
      "execution_count": null,
      "metadata": {},
      "outputs": [],
      "source": [
        "const myWeakMap = new WeakMap();\n",
        "const keyObj = { key: 'value' };\n",
        "myWeakMap.set(keyObj, 'Hello');\n",
        "console.log(myWeakMap.get(keyObj)); // Output: Hello\n",
        "// The keyObj can be garbage collected, and the entry will be automatically removed from the WeakMap.\n"
      ]
    },
    {
      "cell_type": "markdown",
      "metadata": {},
      "source": [
        "* In summary, Map allows any data type as keys and holds strong references, while WeakMap allows only objects as keys and holds weak references, allowing for automatic garbage collection of keys with no external references."
      ]
    },
    {
      "cell_type": "markdown",
      "metadata": {},
      "source": [
        "# **Top 10 Important Coding Questions**"
      ]
    },
    {
      "cell_type": "markdown",
      "metadata": {},
      "source": [
        "**1. Write a function that returns the reverse of a string?**\n",
        "\n",
        "**Test Case 1:**\n",
        "* **Input** : \"Love Coding\"\n",
        "* **output** : \"gnidoc evol\"\n",
        "\n",
        "**Test Case 2:**\n",
        "* **Input** : \"Love Coding\"\n",
        "* **Output** : \"Coding Love\""
      ]
    },
    {
      "cell_type": "code",
      "execution_count": null,
      "metadata": {},
      "outputs": [],
      "source": [
        "//reverse character String using for loop\n",
        "function reverseString(str){\n",
        "    let reversed = \" \";\n",
        "    for(let i=str.length-1;i--){\n",
        "        reveresed += str[i];\n",
        "    }\n",
        "    return reversed;\n",
        "}\n",
        "\n",
        "const str = \"Love Coding\";\n",
        "const reveresedString = reveresString(str);\n",
        "console.log(reversedString);\n",
        "\n",
        "//using inbuilt function\n",
        "function reveresString(str){\n",
        "    return str.split(\"\").reverse().join(\"\");\n",
        "}"
      ]
    },
    {
      "cell_type": "code",
      "execution_count": null,
      "metadata": {},
      "outputs": [],
      "source": [
        "function reverseWords(str){\n",
        "    let reversedWords = \" \";\n",
        "    let currentWord = \" \";\n",
        "    \n",
        "    for(let i=0;i<str.length;i++){\n",
        "        if(str[i]!== ' '){\n",
        "            currentWord += str[i];\n",
        "        }else{\n",
        "            reversedWords = currentWord + ' ' + reversedWords;\n",
        "            currentWord=\"\";\n",
        "        }\n",
        "    }\n",
        "    reversedWords = currentWord + ' '+ reversedWords; \n",
        "        return reversedWords.trim();\n",
        "}\n",
        "const str = \"Love Coding\";\n",
        "const reveresedWords = reverseWords(str);\n",
        "console.log(reveresedWords);\n",
        "  "
      ]
    },
    {
      "cell_type": "markdown",
      "metadata": {},
      "source": [
        "**2. Write a function that returns the longest word in the sentence.**\n",
        "\n",
        "* **Input:** \"I Love JavaScript Coding\"\n",
        "* **Output:** JavaScript"
      ]
    },
    {
      "cell_type": "code",
      "execution_count": null,
      "metadata": {},
      "outputs": [],
      "source": [
        "function findLongestWords(sentence){\n",
        "    const words = sentence.split(\" \");\n",
        "    let longestWord = ' ';\n",
        "\n",
        "    for(let word of words){\n",
        "        if(word.length > longestWord.length){\n",
        "            longestWord = word;\n",
        "        }\n",
        "    }\n",
        "    return longestWord\n",
        "}\n",
        "\n",
        "const sentence = \"I Love JavaScript Coding\";\n",
        "const largestWord = findLongestWords(sentence);\n",
        "console.log(largestWord);"
      ]
    },
    {
      "cell_type": "markdown",
      "metadata": {},
      "source": [
        "**3. Write a function that checks whether a given string is a palindrome or not?**\n",
        "\n",
        "* Palindrome is a word that reads the same forward and backward.\n",
        "\n",
        "* **Input:** \"racecar\"\n",
        "* **Output:** racecar"
      ]
    },
    {
      "cell_type": "code",
      "execution_count": null,
      "metadata": {},
      "outputs": [],
      "source": [
        "function isPalindrome(word){\n",
        "    let reversePalindrome = \"\";\n",
        "\n",
        "    for(let i=word.length-1;i>=0;i--){\n",
        "        reversePalindrome += word[i];\n",
        "    }\n",
        "    if(word === reversePalindrome){\n",
        "        console.log(\"True\");\n",
        "    }\n",
        "    else{\n",
        "        console.log(\"False\");\n",
        "    }\n",
        "    return reversePalindrome;\n",
        "\n",
        "    //or \n",
        "    // return word===reversePalindrome;\n",
        "}\n",
        "const word = \"racecar\";\n",
        "const reversedPalindrome = isPalindrome(word);\n",
        "console.log(reversedPalindrome);"
      ]
    },
    {
      "cell_type": "markdown",
      "metadata": {},
      "source": [
        "**4. Write a function to remove duplicate elements from an array**\n",
        "\n",
        "* **Input:** [1,2,3,4,5,4,6,6]\n",
        "* **Output:** True"
      ]
    },
    {
      "cell_type": "code",
      "execution_count": null,
      "metadata": {},
      "outputs": [],
      "source": [
        "function removeDulpicates(arr){\n",
        "    const uniqueElements = [];\n",
        "\n",
        "    for(let i=0;i<arr.length;i++){\n",
        "        if(uniqueElements.indexOf(arr[i]) === -1){\n",
        "            uniqueElements.push(arr[i]);\n",
        "        }\n",
        "    }\n",
        "    return uniqueElements;\n",
        "}\n",
        "\n",
        "const arr = [1,2,3,4,4,5,6,6];\n",
        "console.log(removeDulpicates(arr)); \n",
        "\n",
        "//using inbuilt method\n",
        "function removeDuplicates(arr){\n",
        "    return[...Set(arr)];\n",
        "}"
      ]
    },
    {
      "cell_type": "markdown",
      "metadata": {},
      "source": [
        "**5. Write a function that checks whether two srings are anagrams or not?**\n",
        "\n",
        "* An anagram is a word formed by rearranging the letters of another word.\n",
        "\n",
        "* **Input:** (\"listen\",\"silent\")\n",
        "*  **Output:** True"
      ]
    },
    {
      "cell_type": "code",
      "execution_count": null,
      "metadata": {},
      "outputs": [],
      "source": []
    },
    {
      "cell_type": "markdown",
      "metadata": {},
      "source": [
        "**6. Write a function that returns the number of vowels in a string**\n",
        "\n",
        "* **Input:** \"Hello, vowels\"\n",
        "* **Output:** 4"
      ]
    },
    {
      "cell_type": "code",
      "execution_count": null,
      "metadata": {},
      "outputs": [],
      "source": [
        "function countVowels(str){\n",
        "    const vowels = [\"a\",\"e\",\"i\",\"o\",\"u\"];\n",
        "    let count = 0;\n",
        "\n",
        "    for(let char of str.toLowerCase()){\n",
        "        if(vowels.includes(char)){\n",
        "            count++;\n",
        "        }\n",
        "    }\n",
        "    return count;\n",
        "}\n",
        "const str = \"Hello, Vowels\";\n",
        "console.log(countVowels(str));"
      ]
    },
    {
      "cell_type": "markdown",
      "metadata": {},
      "source": [
        "**7. Write a function to find the largest number in an array**"
      ]
    },
    {
      "cell_type": "markdown",
      "metadata": {},
      "source": [
        "**8. Write a function to check if a given number is prime or not?**"
      ]
    },
    {
      "cell_type": "markdown",
      "metadata": {},
      "source": [
        "**9. Write a function to calculate the factorial of a number.**"
      ]
    },
    {
      "cell_type": "markdown",
      "metadata": {},
      "source": [
        "**10. Write a program to remove all whitespace characters from a string.**"
      ]
    }
  ],
  "metadata": {
    "colab": {
      "cell_execution_strategy": "setup",
      "provenance": []
    },
    "kernelspec": {
      "display_name": "java",
      "name": "java"
    },
    "language_info": {
      "name": "java"
    }
  },
  "nbformat": 4,
  "nbformat_minor": 0
}
