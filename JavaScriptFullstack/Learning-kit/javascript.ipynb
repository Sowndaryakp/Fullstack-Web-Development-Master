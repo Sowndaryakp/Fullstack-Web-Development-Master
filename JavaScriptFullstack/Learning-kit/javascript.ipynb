{
  "cells": [
    {
      "cell_type": "markdown",
      "metadata": {
        "id": "pcm5PWg2GQv0"
      },
      "source": [
        "# **JavaScript**"
      ]
    },
    {
      "cell_type": "markdown",
      "metadata": {
        "id": "ZoITrd8MsApt"
      },
      "source": [
        "Install Java kernal to run java code here."
      ]
    },
    {
      "cell_type": "code",
      "execution_count": null,
      "metadata": {
        "id": "rscw4ZMMNO-5"
      },
      "outputs": [],
      "source": [
        "!wget https://github.com/SpencerPark/IJava/releases/download/v1.3.0/ijava-1.3.0.zip\n",
        "!unzip ijava-1.3.0.zip\n",
        "!python install.py"
      ]
    },
    {
      "cell_type": "markdown",
      "metadata": {},
      "source": [
        "## 1. Each JavaScript single thread or moody's writing? give 3 to 4 lines explanantion with simple code.\n",
        "\n",
        "* JavaScript is `single-threaded`, meaning it has only `one execution thread`. or\n",
        "* JavaScript is single-threaded, meaning it `executes one operation at a time` in a single sequence. \n",
        "\n",
        "**Thread**: A thread is the `smallest unit of execution within a process`, representing an `independent` sequence of instructions that can be scheduled and executed by the operating system.( or execu`tion or `Sequential flow`.)\n",
        "\n",
        " \n",
        "* However, it supports `asynchronous programming` through features like `callbacks, Promises, and async/await`.\n",
        "\n",
        "* This enables `non-blocking behavior`, allowing certain tasks, such as I/O operations, to be handled asynchronously.\n",
        "\n",
        "* Here's a simple example using setTimeout to illustrate asynchronous behavior:"
      ]
    },
    {
      "cell_type": "code",
      "execution_count": null,
      "metadata": {},
      "outputs": [],
      "source": [
        "console.log(\"Start\");\n",
        "\n",
        "// Asynchronous operation with a callback\n",
        "setTimeout(() => {\n",
        "    console.log(\"Async operation completed after 1000 milliseconds\");\n",
        "}, 1000);\n",
        "\n",
        "console.log(\"End\");"
      ]
    },
    {
      "cell_type": "markdown",
      "metadata": {},
      "source": [
        "* In this example, the **setTimeout function `schedules` the callback to run after 1000 milliseconds**.\n",
        "* While waiting for the timeout, other synchronous code continues to execute, demonstrating the `non-blocking` nature of JavaScript.\n",
        "\n",
        "* **Note**: Although JavaScript itself is `single-threaded`, **modern web browsers leverage `multi-threading`** for tasks like r**endering and handling events in the background**.\n",
        "\n",
        "**`Non-Blocking`**:\n",
        "* Non-blocking behavior refers to the ability of a program to `continue executing other tasks while waiting for certain operations to complete`.\n",
        "\n",
        "* Here's a simple example in JavaScript using asynchronous code with callbacks:"
      ]
    },
    {
      "cell_type": "code",
      "execution_count": null,
      "metadata": {},
      "outputs": [],
      "source": [
        "console.log(\"Start\");\n",
        "\n",
        "setTimeout(() => {\n",
        "  console.log(\"Async operation completed\");\n",
        "}, 1000);\n",
        "\n",
        "console.log(\"End\");"
      ]
    },
    {
      "cell_type": "markdown",
      "metadata": {},
      "source": [
        "* In this example, the `setTimeout` function is asynchronous and non-blocking. \n",
        "* While waiting for the timer to complete (1 second in this case), the program continues executing the next line of code (`console.log(\"End\")`) without waiting for the asynchronous operation to finish."
      ]
    },
    {
      "cell_type": "markdown",
      "metadata": {},
      "source": [
        "# **Callback**\n",
        "\n",
        "* A callback is a function `passed as an argument to another function`, which will be `invoked` or `executed later`. \n",
        "* It is commonly used in `asynchronous programming` to **handle tasks** that need to **wait for some operation to complete**.\n"
      ]
    },
    {
      "cell_type": "code",
      "execution_count": null,
      "metadata": {},
      "outputs": [],
      "source": [
        "// Function with a callback parameter\n",
        "function fetchData(callback) {\n",
        "  // Simulating an asynchronous operation\n",
        "  setTimeout(() => {\n",
        "    const data = \"Hello, callback!\";\n",
        "    callback(data); // Invoke the callback with the data\n",
        "  }, 1000);\n",
        "}\n",
        "\n",
        "// Callback function to handle the data\n",
        "function handleData(result) {\n",
        "  console.log(result);\n",
        "}\n",
        "\n",
        "// Using the callback\n",
        "fetchData(handleData);"
      ]
    },
    {
      "cell_type": "markdown",
      "metadata": {},
      "source": [
        "* The `fetchData` function takes a callback function as a parameter. Inside it, there's a simulated asynchronous operation using `setTimeout`.\n",
        "* After the asynchronous operation is completed, the fetchData function invokes the provided callback (`callback(data)`), passing the data as an argument to the callback.\n",
        "* The `handleData` function is defined separately as the callback to handle the data. In this case, it simply logs the data to the console.\n",
        "* Finally, the `fetchData` function is called, passing the `handleData` function as the callback. This is a common pattern in callback-based asynchronous programming.\n",
        "* Callbacks are functions `passed as arguments to be executed later`, allowing for better handling of asynchronous tasks and promoting modularity in code."
      ]
    },
    {
      "cell_type": "markdown",
      "metadata": {},
      "source": [
        "# **Promises:**\n",
        "* Promises are `objects` that represent the eventual `completion or failure of an asynchronous operation`. \n",
        "* They provide a `cleaner` and `more structured way` to `handle asynchronous code compared to callbacks`, allowing for better `error handling` and `chaining` of multiple asynchronous operations."
      ]
    },
    {
      "cell_type": "code",
      "execution_count": null,
      "metadata": {},
      "outputs": [],
      "source": [
        "// Function that returns a promise\n",
        "function fetchData() {\n",
        "    return new Promise((resolve, reject) => {\n",
        "      // Simulating an asynchronous operation\n",
        "      setTimeout(() => {\n",
        "        const success = true;\n",
        "        if (success) {\n",
        "          const data = \"Hello, promises!\";\n",
        "          resolve(data); // Resolve the promise with the data\n",
        "        } else {\n",
        "          reject(new Error(\"Failed to fetch data\")); // Reject the promise with an error\n",
        "        }\n",
        "      }, 1000);\n",
        "    });\n",
        "  }\n",
        "  \n",
        "  // Using the promise\n",
        "  fetchData()\n",
        "    .then((result) => {\n",
        "      console.log(result); // Handle the resolved data\n",
        "    })\n",
        "    .catch((error) => {\n",
        "      console.error(error.message); // Handle any errors\n",
        "    });\n",
        "  "
      ]
    },
    {
      "cell_type": "markdown",
      "metadata": {},
      "source": [
        "* The `fetchData` function returns a new Promise, taking two arguments: `resolve` and `reject`. Inside the promise, there's a simulated asynchronous operation using `setTimeout`.\n",
        "* If the operation is successful (`success` is `true`), the promise is resolved with the data using `resolve(data)`; otherwise, it is rejected with an error using `reject(new Error(\"Failed to fetch data\"))`.\n",
        "* The `then` method is used to **handle the resolved data** when the promise is successful. In this case, it logs the result to the console.\n",
        "* The `catch` method is used to **handle errors** if the promise is rejected. It logs the error message to the console.\n",
        "* This structure allows for a more organized and readable way to handle asynchronous operations and their outcomes."
      ]
    },
    {
      "cell_type": "markdown",
      "metadata": {},
      "source": [
        "# **1. Synchronous:**\n",
        "**Execution Order:** In synchronous JavaScript, code is `executed sequentially`, one `operation at a time`. Each operation **must wait** for the previous one to complete before moving on.\n",
        "\n",
        "**Blocking:** Synchronous code blocks the execution of the program during `time-consuming tasks`, such as **I/O operations or network requests**. This can lead to potential `delays` and inefficiencies."
      ]
    },
    {
      "cell_type": "code",
      "execution_count": null,
      "metadata": {},
      "outputs": [],
      "source": [
        "console.log(\"Start\");\n",
        "\n",
        "// Synchronous operation\n",
        "for (let i = 0; i < 3; i++) {\n",
        "    console.log(i);\n",
        "}\n",
        "\n",
        "console.log(\"End\");"
      ]
    },
    {
      "cell_type": "markdown",
      "metadata": {},
      "source": [
        "# **2. Asynchronous:**\n",
        "**Execution Order:** In asynchronous JavaScript, code is `executed non-sequentially`. Asynchronous operations, such as *fetching data or reading files, **do not block** the program's execution*. Instead, they are **scheduled and handled independently**.\n",
        "\n",
        "**Non-blocking:** Asynchronous code allows the `program to continue executing other tasks` while waiting for time-consuming operations to complete, preventing blocking of the entire program.\n",
        "\n",
        "Example : \n",
        "\n",
        "**Using Callbacks:**"
      ]
    },
    {
      "cell_type": "code",
      "execution_count": null,
      "metadata": {},
      "outputs": [],
      "source": [
        "console.log(\"Start\");\n",
        "\n",
        "// Asynchronous operation with a callback\n",
        "setTimeout(() => {\n",
        "    console.log(\"Async operation completed after 1000 milliseconds\");\n",
        "}, 1000);\n",
        "\n",
        "console.log(\"End\");"
      ]
    },
    {
      "cell_type": "markdown",
      "metadata": {},
      "source": [
        "**Using Promises or Async/Await:**"
      ]
    },
    {
      "cell_type": "code",
      "execution_count": null,
      "metadata": {},
      "outputs": [],
      "source": [
        "console.log(\"Start\");\n",
        "\n",
        "// Asynchronous operation with a Promise\n",
        "function fetchData() {\n",
        "    return new Promise(resolve => {\n",
        "        setTimeout(() => {\n",
        "            console.log(\"Data fetched!\");\n",
        "            resolve();\n",
        "        }, 1000);\n",
        "    });\n",
        "}\n",
        "\n",
        "fetchData().then(() => {\n",
        "    console.log(\"Promise resolved\");\n",
        "});\n",
        "\n",
        "console.log(\"End\");\n"
      ]
    },
    {
      "cell_type": "markdown",
      "metadata": {},
      "source": [
        "* In summary, synchronous code executes sequentially and blocks the program during time-consuming tasks, while `asynchronous code allows non-blocking execution`, enabling the program to `perform other tasks` while waiting for asynchronous operations to complete."
      ]
    },
    {
      "cell_type": "markdown",
      "metadata": {},
      "source": [
        "**how to handle asynchronous operation like promises, timers**\n",
        "\n",
        "* **Handling asynchronous operations** in JavaScript can be done using various techniques, such as `Promises, timers (like setTimeout), and async/await`. \n",
        "* Below are examples demonstrating how to handle asynchronous operations with each approach:\n",
        "\n",
        "**Using Promises:**\n",
        "* Promises are `objects` representing the eventual `completion or failure` of an asynchronous operation. \n",
        "* They provide a **cleaner syntax** for handling asynchronous code, allowing **chaining** of `.then()` and `.catch()` methods."
      ]
    },
    {
      "cell_type": "code",
      "execution_count": null,
      "metadata": {},
      "outputs": [],
      "source": [
        "function fetchData() {\n",
        "    return new Promise((resolve, reject) => {\n",
        "        // Simulating an asynchronous operation\n",
        "        setTimeout(() => {\n",
        "            const success = true; // Set to false for demonstration of rejection\n",
        "            if (success) {\n",
        "                console.log(\"Data fetched!\");\n",
        "                resolve(\"Data\");\n",
        "            } else {\n",
        "                reject(\"Error fetching data\");\n",
        "            }\n",
        "        }, 1000);\n",
        "    });\n",
        "}\n",
        "\n",
        "// Consuming the Promise\n",
        "fetchData()\n",
        "    .then(data => {\n",
        "        console.log(\"Promise resolved:\", data);\n",
        "    })\n",
        "    .catch(error => {\n",
        "        console.error(\"Promise rejected:\", error);\n",
        "    });"
      ]
    },
    {
      "cell_type": "markdown",
      "metadata": {},
      "source": [
        "**Using Timers:**\n",
        "* Timers in JavaScript, like `setTimeout`, allow **scheduling the execution of a function after a specified delay**. \n",
        "* They are commonly used to simulate asynchronous operations, such as `fetching data or handling timeouts`."
      ]
    },
    {
      "cell_type": "code",
      "execution_count": null,
      "metadata": {},
      "outputs": [],
      "source": [
        "console.log(\"Start\");\n",
        "\n",
        "// Asynchronous operation with a timer\n",
        "setTimeout(() => {\n",
        "    console.log(\"Async operation completed after 1000 milliseconds\");\n",
        "}, 1000);\n",
        "\n",
        "console.log(\"End\");\n"
      ]
    },
    {
      "cell_type": "markdown",
      "metadata": {},
      "source": [
        "**Using Async/Await with Promises:**\n",
        "* Async/Await is a syntactic **sugar built on top of Promises**, making asynchronous code look more **like synchronous code**. \n",
        "* The async keyword is **used to define a function that returns a Promise**, and await is used to wait for the resolution of a Promise, enhancing code readability."
      ]
    },
    {
      "cell_type": "code",
      "execution_count": null,
      "metadata": {},
      "outputs": [],
      "source": [
        "const fetchData = () => new Promise(resolve => setTimeout(() => resolve(\"Data\"), 1000));\n",
        "\n",
        "async function fetchDataAndLog() {\n",
        "    try {\n",
        "        const data = await fetchData();\n",
        "        console.log(\"Async/Await completed:\", data);\n",
        "    } catch (error) {\n",
        "        console.error(\"Async/Await error:\", error);\n",
        "    }\n",
        "}\n",
        "\n",
        "fetchDataAndLog();\n"
      ]
    },
    {
      "cell_type": "code",
      "execution_count": null,
      "metadata": {},
      "outputs": [],
      "source": [
        "async function fetchData() {\n",
        "    return new Promise(resolve => {\n",
        "        // Simulating an asynchronous operation\n",
        "        setTimeout(() => {\n",
        "            console.log(\"Data fetched!\");\n",
        "            resolve(\"Data\");\n",
        "        }, 1000);\n",
        "    });\n",
        "}\n",
        "\n",
        "// Using async/await to handle the Promise\n",
        "async function fetchDataAndLog() {\n",
        "    try {\n",
        "        const data = await fetchData();\n",
        "        console.log(\"Async/Await completed:\", data);\n",
        "    } catch (error) {\n",
        "        console.error(\"Async/Await error:\", error);\n",
        "    }\n",
        "}\n",
        "\n",
        "fetchDataAndLog();\n"
      ]
    },
    {
      "cell_type": "markdown",
      "metadata": {},
      "source": [
        "* These examples demonstrate the basic usage of Promises, timers, and async/await to handle asynchronous operations in JavaScript. Choose the approach that fits your use case and coding style."
      ]
    },
    {
      "cell_type": "markdown",
      "metadata": {},
      "source": [
        "**Call Stack**\n",
        "* The call stack in JavaScript is a data structure that keeps track of function calls during the execution of a program. \n",
        "* It follows the Last In, First Out (LIFO) principle, where the last function that gets pushed onto the stack is the first one to be popped off."
      ]
    },
    {
      "cell_type": "code",
      "execution_count": null,
      "metadata": {},
      "outputs": [],
      "source": [
        "function func1() {\n",
        "    console.log(\"Inside func1\");\n",
        "    func2();\n",
        "}\n",
        "\n",
        "function func2() {\n",
        "    console.log(\"Inside func2\");\n",
        "}\n",
        "\n",
        "func1();\n"
      ]
    },
    {
      "cell_type": "markdown",
      "metadata": {},
      "source": [
        "In this example, when `func1` is called, it gets pushed onto the call stack. Inside `func1`, `func2` is called, and it also gets pushed onto the stack. The stack is then popped in reverse order, executing `func2` and then `func1`."
      ]
    },
    {
      "cell_type": "markdown",
      "metadata": {},
      "source": [
        "code stack, browising apis using event queses.\n",
        "how javascript knows that promises ended and execute the callback. give 3 to 4 lines explanantion with simple code.\n",
        "\n",
        "\n",
        "* JavaScript uses the event loop to manage asynchronous operations, and the Promise mechanism plays a crucial role in this process. \n",
        "* When a Promise is resolved or rejected, its callback is queued in the microtask queue.\n",
        "* The event loop picks up microtasks after each stack execution, ensuring timely execution of Promise callbacks."
      ]
    },
    {
      "cell_type": "code",
      "execution_count": null,
      "metadata": {},
      "outputs": [],
      "source": [
        "console.log(\"Start\");\n",
        "\n",
        "// Asynchronous operation with a Promise\n",
        "const fetchData = () => new Promise(resolve => setTimeout(() => resolve(\"Data\"), 1000));\n",
        "\n",
        "fetchData().then(data => {\n",
        "    console.log(\"Promise resolved:\", data);\n",
        "    console.log(\"Microtask executed\");\n",
        "});\n",
        "\n",
        "console.log(\"End\");\n"
      ]
    },
    {
      "cell_type": "markdown",
      "metadata": {},
      "source": [
        "**Event Loop**\n",
        "\n",
        "* The event loop in JavaScript is a continuous process that handles the execution of code, events, and asynchronous tasks. * It ensures that asynchronous operations, like timers and promises, are processed in a non-blocking manner. \n",
        "* The loop repeatedly checks the call stack, processes tasks, and executes callbacks from the task queues."
      ]
    },
    {
      "cell_type": "code",
      "execution_count": null,
      "metadata": {},
      "outputs": [],
      "source": [
        "console.log(\"Start\");\n",
        "\n",
        "// Asynchronous operation with a timer\n",
        "setTimeout(() => {\n",
        "    console.log(\"Async operation completed after 1000 milliseconds\");\n",
        "}, 1000);\n",
        "\n",
        "console.log(\"End\");"
      ]
    },
    {
      "cell_type": "markdown",
      "metadata": {},
      "source": [
        "* In this example, the event loop allows the program to continue executing after initiating the timer, and the timer's callback is placed in the task queue. \n",
        "* The event loop then picks up and executes the callback after the current stack is empty."
      ]
    },
    {
      "cell_type": "markdown",
      "metadata": {},
      "source": [
        "**Difference between Promises and Observables**\n",
        "\n",
        "**Promises:**\n",
        "* **Usage:** Promises represent a single value that will be available in the future, either resolved with a value or rejected with a reason.\n",
        "* **Handling:** Promises are typically used for handling asynchronous operations and are resolved once, either successfully or with an error."
      ]
    },
    {
      "cell_type": "code",
      "execution_count": null,
      "metadata": {},
      "outputs": [],
      "source": [
        "const fetchData = () => new Promise(resolve => setTimeout(() => resolve(\"Data\"), 1000));\n",
        "\n",
        "fetchData()\n",
        "    .then(data => console.log(\"Promise resolved:\", data))\n",
        "    .catch(error => console.error(\"Promise rejected:\", error));\n"
      ]
    },
    {
      "cell_type": "markdown",
      "metadata": {},
      "source": [
        "**Observables:**\n",
        "* **Usage:** Observables represent a stream of values over time. They can emit multiple values and are used for handling asynchronous events and data.\n",
        "* **Handling:** Observables are more powerful, supporting multiple values over time and various operators for transforming and combining streams."
      ]
    },
    {
      "cell_type": "code",
      "execution_count": null,
      "metadata": {},
      "outputs": [],
      "source": [
        "import { Observable } from 'rxjs';\n",
        "\n",
        "const fetchDataObservable = new Observable(observer => {\n",
        "    setTimeout(() => {\n",
        "        observer.next(\"Data 1\");\n",
        "        observer.next(\"Data 2\");\n",
        "        observer.complete();\n",
        "    }, 1000);\n",
        "});\n",
        "\n",
        "fetchDataObservable.subscribe(\n",
        "    data => console.log(\"Observable next:\", data),\n",
        "    error => console.error(\"Observable error:\", error),\n",
        "    () => console.log(\"Observable complete\")\n",
        ");\n"
      ]
    },
    {
      "cell_type": "markdown",
      "metadata": {},
      "source": [
        "* In summary, Promises handle a single future value, while Observables handle streams of values over time, providing more flexibility for handling asynchronous events. Observables are part of the RxJS library, offering powerful features for reactive programming."
      ]
    }
  ],
  "metadata": {
    "colab": {
      "cell_execution_strategy": "setup",
      "provenance": []
    },
    "kernelspec": {
      "display_name": "java",
      "name": "java"
    },
    "language_info": {
      "name": "java"
    }
  },
  "nbformat": 4,
  "nbformat_minor": 0
}
