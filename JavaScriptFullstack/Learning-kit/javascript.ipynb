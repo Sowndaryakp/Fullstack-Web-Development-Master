{
  "cells": [
    {
      "cell_type": "markdown",
      "metadata": {
        "id": "pcm5PWg2GQv0"
      },
      "source": [
        "# **JavaScript**"
      ]
    },
    {
      "cell_type": "markdown",
      "metadata": {
        "id": "ZoITrd8MsApt"
      },
      "source": [
        "Install Java kernal to run java code here."
      ]
    },
    {
      "cell_type": "code",
      "execution_count": null,
      "metadata": {
        "id": "rscw4ZMMNO-5"
      },
      "outputs": [],
      "source": [
        "!wget https://github.com/SpencerPark/IJava/releases/download/v1.3.0/ijava-1.3.0.zip\n",
        "!unzip ijava-1.3.0.zip\n",
        "!python install.py"
      ]
    },
    {
      "cell_type": "markdown",
      "metadata": {},
      "source": [
        "## 1. Each js single thread or moody's writing? give 3 to 4 lines explanantion with simple code.\n",
        "\n",
        "* JavaScript is `single-threaded`, meaning it has only `one execution thread`. or\n",
        "* JavaScript is single-threaded, meaning it executes one operation at a time in a single sequence. \n",
        "\n",
        "**Thread**: A thread is the smallest unit of execution within a process, representing an independent sequence of instructions that can be scheduled and executed by the operating system.( or execution or Sequential flow.)\n",
        "\n",
        " \n",
        "* However, it supports asynchronous programming through features like callbacks, Promises, and async/await. \n",
        "* This enables non-blocking behavior, allowing certain tasks, such as I/O operations, to be handled asynchronously.\n",
        "\n",
        "* Here's a simple example using setTimeout to illustrate asynchronous behavior:"
      ]
    },
    {
      "cell_type": "code",
      "execution_count": null,
      "metadata": {},
      "outputs": [],
      "source": [
        "console.log(\"Start\");\n",
        "\n",
        "// Asynchronous operation with a callback\n",
        "setTimeout(() => {\n",
        "    console.log(\"Async operation completed after 1000 milliseconds\");\n",
        "}, 1000);\n",
        "\n",
        "console.log(\"End\");"
      ]
    },
    {
      "cell_type": "markdown",
      "metadata": {},
      "source": [
        "* In this example, the setTimeout function schedules the callback to run after 1000 milliseconds.\n",
        "* While waiting for the timeout, other synchronous code continues to execute, demonstrating the non-blocking nature of JavaScript.\n",
        "\n",
        "* **Note**: Although JavaScript itself is single-threaded, modern web browsers leverage multi-threading for tasks like rendering and handling events in the background."
      ]
    },
    {
      "cell_type": "markdown",
      "metadata": {},
      "source": [
        "# **1. Synchronous:**\n",
        "**Execution Order:** In synchronous JavaScript, code is executed sequentially, one operation at a time. Each operation must wait for the previous one to complete before moving on.\n",
        "\n",
        "**Blocking:** Synchronous code blocks the execution of the program during time-consuming tasks, such as I/O operations or network requests. This can lead to potential delays and inefficiencies."
      ]
    },
    {
      "cell_type": "code",
      "execution_count": null,
      "metadata": {},
      "outputs": [],
      "source": [
        "console.log(\"Start\");\n",
        "\n",
        "// Synchronous operation\n",
        "for (let i = 0; i < 3; i++) {\n",
        "    console.log(i);\n",
        "}\n",
        "\n",
        "console.log(\"End\");"
      ]
    },
    {
      "cell_type": "markdown",
      "metadata": {},
      "source": [
        "# **2. Asynchronous:**\n",
        "**Execution Order: **In asynchronous JavaScript, code is executed non-sequentially. Asynchronous operations, such as fetching data or reading files, do not block the program's execution. Instead, they are scheduled and handled independently.\n",
        "\n",
        "**Non-blocking:** Asynchronous code allows the program to continue executing other tasks while waiting for time-consuming operations to complete, preventing blocking of the entire program.\n",
        "\n",
        "Example : \n",
        "Using Callbacks:"
      ]
    },
    {
      "cell_type": "code",
      "execution_count": null,
      "metadata": {},
      "outputs": [],
      "source": [
        "console.log(\"Start\");\n",
        "\n",
        "// Asynchronous operation with a callback\n",
        "setTimeout(() => {\n",
        "    console.log(\"Async operation completed after 1000 milliseconds\");\n",
        "}, 1000);\n",
        "\n",
        "console.log(\"End\");"
      ]
    },
    {
      "cell_type": "markdown",
      "metadata": {},
      "source": [
        "Using Promises or Async/Await:"
      ]
    },
    {
      "cell_type": "code",
      "execution_count": null,
      "metadata": {},
      "outputs": [],
      "source": [
        "console.log(\"Start\");\n",
        "\n",
        "// Asynchronous operation with a Promise\n",
        "function fetchData() {\n",
        "    return new Promise(resolve => {\n",
        "        setTimeout(() => {\n",
        "            console.log(\"Data fetched!\");\n",
        "            resolve();\n",
        "        }, 1000);\n",
        "    });\n",
        "}\n",
        "\n",
        "fetchData().then(() => {\n",
        "    console.log(\"Promise resolved\");\n",
        "});\n",
        "\n",
        "console.log(\"End\");\n"
      ]
    },
    {
      "cell_type": "markdown",
      "metadata": {},
      "source": [
        "* In summary, synchronous code executes sequentially and blocks the program during time-consuming tasks, while asynchronous code allows non-blocking execution, enabling the program to perform other tasks while waiting for asynchronous operations to complete."
      ]
    }
  ],
  "metadata": {
    "colab": {
      "cell_execution_strategy": "setup",
      "provenance": []
    },
    "kernelspec": {
      "display_name": "java",
      "name": "java"
    },
    "language_info": {
      "name": "java"
    }
  },
  "nbformat": 4,
  "nbformat_minor": 0
}
