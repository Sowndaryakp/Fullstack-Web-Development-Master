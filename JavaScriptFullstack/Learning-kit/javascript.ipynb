{
  "cells": [
    {
      "cell_type": "markdown",
      "metadata": {
        "id": "pcm5PWg2GQv0"
      },
      "source": [
        "# **JavaScript**"
      ]
    },
    {
      "cell_type": "markdown",
      "metadata": {
        "id": "ZoITrd8MsApt"
      },
      "source": [
        "Install Java kernal to run java code here."
      ]
    },
    {
      "cell_type": "code",
      "execution_count": null,
      "metadata": {
        "id": "rscw4ZMMNO-5"
      },
      "outputs": [],
      "source": [
        "!wget https://github.com/SpencerPark/IJava/releases/download/v1.3.0/ijava-1.3.0.zip\n",
        "!unzip ijava-1.3.0.zip\n",
        "!python install.py"
      ]
    },
    {
      "cell_type": "markdown",
      "metadata": {},
      "source": [
        "## 1. Each js single thread or moody's writing? give 3 to 4 lines explanantion with simple code.\n",
        "\n",
        "* JavaScript is `single-threaded`, meaning it has only `one execution thread`. or\n",
        "* JavaScript is single-threaded, meaning it executes one operation at a time in a single sequence. \n",
        "\n",
        "**Thread**: A thread is the smallest unit of execution within a process, representing an independent sequence of instructions that can be scheduled and executed by the operating system.( or execution or Sequential flow.)\n",
        "\n",
        " \n",
        "* However, it supports asynchronous programming through features like callbacks, Promises, and async/await. \n",
        "* This enables non-blocking behavior, allowing certain tasks, such as I/O operations, to be handled asynchronously.\n",
        "\n",
        "* Here's a simple example using setTimeout to illustrate asynchronous behavior:"
      ]
    },
    {
      "cell_type": "code",
      "execution_count": null,
      "metadata": {},
      "outputs": [],
      "source": [
        "console.log(\"Start\");\n",
        "\n",
        "// Asynchronous operation with a callback\n",
        "setTimeout(() => {\n",
        "    console.log(\"Async operation completed after 1000 milliseconds\");\n",
        "}, 1000);\n",
        "\n",
        "console.log(\"End\");"
      ]
    },
    {
      "cell_type": "markdown",
      "metadata": {},
      "source": [
        "* In this example, the setTimeout function schedules the callback to run after 1000 milliseconds.\n",
        "* While waiting for the timeout, other synchronous code continues to execute, demonstrating the non-blocking nature of JavaScript.\n",
        "\n",
        "* **Note**: Although JavaScript itself is single-threaded, modern web browsers leverage multi-threading for tasks like rendering and handling events in the background."
      ]
    },
    {
      "cell_type": "markdown",
      "metadata": {},
      "source": [
        "# **1. Synchronous:**\n",
        "**Execution Order:** In synchronous JavaScript, code is executed sequentially, one operation at a time. Each operation must wait for the previous one to complete before moving on.\n",
        "\n",
        "**Blocking:** Synchronous code blocks the execution of the program during time-consuming tasks, such as I/O operations or network requests. This can lead to potential delays and inefficiencies."
      ]
    },
    {
      "cell_type": "code",
      "execution_count": null,
      "metadata": {},
      "outputs": [],
      "source": [
        "console.log(\"Start\");\n",
        "\n",
        "// Synchronous operation\n",
        "for (let i = 0; i < 3; i++) {\n",
        "    console.log(i);\n",
        "}\n",
        "\n",
        "console.log(\"End\");"
      ]
    },
    {
      "cell_type": "markdown",
      "metadata": {},
      "source": [
        "# **2. Asynchronous:**\n",
        "**Execution Order:** In asynchronous JavaScript, code is executed non-sequentially. Asynchronous operations, such as fetching data or reading files, do not block the program's execution. Instead, they are scheduled and handled independently.\n",
        "\n",
        "**Non-blocking:** Asynchronous code allows the program to continue executing other tasks while waiting for time-consuming operations to complete, preventing blocking of the entire program.\n",
        "\n",
        "Example : \n",
        "Using Callbacks:"
      ]
    },
    {
      "cell_type": "code",
      "execution_count": null,
      "metadata": {},
      "outputs": [],
      "source": [
        "console.log(\"Start\");\n",
        "\n",
        "// Asynchronous operation with a callback\n",
        "setTimeout(() => {\n",
        "    console.log(\"Async operation completed after 1000 milliseconds\");\n",
        "}, 1000);\n",
        "\n",
        "console.log(\"End\");"
      ]
    },
    {
      "cell_type": "markdown",
      "metadata": {},
      "source": [
        "Using Promises or Async/Await:"
      ]
    },
    {
      "cell_type": "code",
      "execution_count": null,
      "metadata": {},
      "outputs": [],
      "source": [
        "console.log(\"Start\");\n",
        "\n",
        "// Asynchronous operation with a Promise\n",
        "function fetchData() {\n",
        "    return new Promise(resolve => {\n",
        "        setTimeout(() => {\n",
        "            console.log(\"Data fetched!\");\n",
        "            resolve();\n",
        "        }, 1000);\n",
        "    });\n",
        "}\n",
        "\n",
        "fetchData().then(() => {\n",
        "    console.log(\"Promise resolved\");\n",
        "});\n",
        "\n",
        "console.log(\"End\");\n"
      ]
    },
    {
      "cell_type": "markdown",
      "metadata": {},
      "source": [
        "* In summary, synchronous code executes sequentially and blocks the program during time-consuming tasks, while asynchronous code allows non-blocking execution, enabling the program to perform other tasks while waiting for asynchronous operations to complete."
      ]
    },
    {
      "cell_type": "markdown",
      "metadata": {},
      "source": [
        "**how to handle asynchronous operation like promises, timers**\n",
        "\n",
        "* Handling asynchronous operations in JavaScript can be done using various techniques, such as Promises, timers (like setTimeout), and async/await. \n",
        "* Below are examples demonstrating how to handle asynchronous operations with each approach:\n",
        "\n",
        "**Using Promises:**\n",
        "* Promises are objects representing the eventual completion or failure of an asynchronous operation. \n",
        "* They provide a cleaner syntax for handling asynchronous code, allowing chaining of `.then()` and `.catch()` methods."
      ]
    },
    {
      "cell_type": "code",
      "execution_count": null,
      "metadata": {},
      "outputs": [],
      "source": [
        "function fetchData() {\n",
        "    return new Promise((resolve, reject) => {\n",
        "        // Simulating an asynchronous operation\n",
        "        setTimeout(() => {\n",
        "            const success = true; // Set to false for demonstration of rejection\n",
        "            if (success) {\n",
        "                console.log(\"Data fetched!\");\n",
        "                resolve(\"Data\");\n",
        "            } else {\n",
        "                reject(\"Error fetching data\");\n",
        "            }\n",
        "        }, 1000);\n",
        "    });\n",
        "}\n",
        "\n",
        "// Consuming the Promise\n",
        "fetchData()\n",
        "    .then(data => {\n",
        "        console.log(\"Promise resolved:\", data);\n",
        "    })\n",
        "    .catch(error => {\n",
        "        console.error(\"Promise rejected:\", error);\n",
        "    });"
      ]
    },
    {
      "cell_type": "markdown",
      "metadata": {},
      "source": [
        "**Using Timers:**\n",
        "* Timers in JavaScript, like `setTimeout`, allow scheduling the execution of a function after a specified delay. \n",
        "* They are commonly used to simulate asynchronous operations, such as fetching data or handling timeouts."
      ]
    },
    {
      "cell_type": "code",
      "execution_count": null,
      "metadata": {},
      "outputs": [],
      "source": [
        "console.log(\"Start\");\n",
        "\n",
        "// Asynchronous operation with a timer\n",
        "setTimeout(() => {\n",
        "    console.log(\"Async operation completed after 1000 milliseconds\");\n",
        "}, 1000);\n",
        "\n",
        "console.log(\"End\");\n"
      ]
    },
    {
      "cell_type": "markdown",
      "metadata": {},
      "source": [
        "**Using Async/Await with Promises:**\n",
        "* Async/Await is a syntactic sugar built on top of Promises, making asynchronous code look more like synchronous code. \n",
        "* The async keyword is used to define a function that returns a Promise, and await is used to wait for the resolution of a Promise, enhancing code readability."
      ]
    },
    {
      "cell_type": "code",
      "execution_count": null,
      "metadata": {},
      "outputs": [],
      "source": [
        "const fetchData = () => new Promise(resolve => setTimeout(() => resolve(\"Data\"), 1000));\n",
        "\n",
        "async function fetchDataAndLog() {\n",
        "    try {\n",
        "        const data = await fetchData();\n",
        "        console.log(\"Async/Await completed:\", data);\n",
        "    } catch (error) {\n",
        "        console.error(\"Async/Await error:\", error);\n",
        "    }\n",
        "}\n",
        "\n",
        "fetchDataAndLog();\n"
      ]
    },
    {
      "cell_type": "code",
      "execution_count": null,
      "metadata": {},
      "outputs": [],
      "source": [
        "async function fetchData() {\n",
        "    return new Promise(resolve => {\n",
        "        // Simulating an asynchronous operation\n",
        "        setTimeout(() => {\n",
        "            console.log(\"Data fetched!\");\n",
        "            resolve(\"Data\");\n",
        "        }, 1000);\n",
        "    });\n",
        "}\n",
        "\n",
        "// Using async/await to handle the Promise\n",
        "async function fetchDataAndLog() {\n",
        "    try {\n",
        "        const data = await fetchData();\n",
        "        console.log(\"Async/Await completed:\", data);\n",
        "    } catch (error) {\n",
        "        console.error(\"Async/Await error:\", error);\n",
        "    }\n",
        "}\n",
        "\n",
        "fetchDataAndLog();\n"
      ]
    },
    {
      "cell_type": "markdown",
      "metadata": {},
      "source": [
        "* These examples demonstrate the basic usage of Promises, timers, and async/await to handle asynchronous operations in JavaScript. Choose the approach that fits your use case and coding style."
      ]
    },
    {
      "cell_type": "markdown",
      "metadata": {},
      "source": [
        "**Call Stack**\n",
        "* The call stack in JavaScript is a data structure that keeps track of function calls during the execution of a program. \n",
        "* It follows the Last In, First Out (LIFO) principle, where the last function that gets pushed onto the stack is the first one to be popped off."
      ]
    },
    {
      "cell_type": "code",
      "execution_count": null,
      "metadata": {},
      "outputs": [],
      "source": [
        "function func1() {\n",
        "    console.log(\"Inside func1\");\n",
        "    func2();\n",
        "}\n",
        "\n",
        "function func2() {\n",
        "    console.log(\"Inside func2\");\n",
        "}\n",
        "\n",
        "func1();\n"
      ]
    },
    {
      "cell_type": "markdown",
      "metadata": {},
      "source": [
        "In this example, when `func1` is called, it gets pushed onto the call stack. Inside `func1`, `func2` is called, and it also gets pushed onto the stack. The stack is then popped in reverse order, executing `func2` and then `func1`."
      ]
    },
    {
      "cell_type": "markdown",
      "metadata": {},
      "source": [
        "code stack, browising apis using event queses.\n",
        "how javascript knows that promises ended and execute the callback. give 3 to 4 lines explanantion with simple code.\n",
        "\n",
        "\n",
        "* JavaScript uses the event loop to manage asynchronous operations, and the Promise mechanism plays a crucial role in this process. \n",
        "* When a Promise is resolved or rejected, its callback is queued in the microtask queue.\n",
        "* The event loop picks up microtasks after each stack execution, ensuring timely execution of Promise callbacks."
      ]
    },
    {
      "cell_type": "code",
      "execution_count": null,
      "metadata": {},
      "outputs": [],
      "source": [
        "console.log(\"Start\");\n",
        "\n",
        "// Asynchronous operation with a Promise\n",
        "const fetchData = () => new Promise(resolve => setTimeout(() => resolve(\"Data\"), 1000));\n",
        "\n",
        "fetchData().then(data => {\n",
        "    console.log(\"Promise resolved:\", data);\n",
        "    console.log(\"Microtask executed\");\n",
        "});\n",
        "\n",
        "console.log(\"End\");\n"
      ]
    },
    {
      "cell_type": "markdown",
      "metadata": {},
      "source": [
        "**Event Loop**\n",
        "\n",
        "* The event loop in JavaScript is a continuous process that handles the execution of code, events, and asynchronous tasks. * It ensures that asynchronous operations, like timers and promises, are processed in a non-blocking manner. \n",
        "* The loop repeatedly checks the call stack, processes tasks, and executes callbacks from the task queues."
      ]
    },
    {
      "cell_type": "code",
      "execution_count": null,
      "metadata": {},
      "outputs": [],
      "source": [
        "console.log(\"Start\");\n",
        "\n",
        "// Asynchronous operation with a timer\n",
        "setTimeout(() => {\n",
        "    console.log(\"Async operation completed after 1000 milliseconds\");\n",
        "}, 1000);\n",
        "\n",
        "console.log(\"End\");"
      ]
    },
    {
      "cell_type": "markdown",
      "metadata": {},
      "source": [
        "* In this example, the event loop allows the program to continue executing after initiating the timer, and the timer's callback is placed in the task queue. \n",
        "* The event loop then picks up and executes the callback after the current stack is empty."
      ]
    }
  ],
  "metadata": {
    "colab": {
      "cell_execution_strategy": "setup",
      "provenance": []
    },
    "kernelspec": {
      "display_name": "java",
      "name": "java"
    },
    "language_info": {
      "name": "java"
    }
  },
  "nbformat": 4,
  "nbformat_minor": 0
}
