{
  "cells": [
    {
      "cell_type": "markdown",
      "metadata": {
        "id": "pcm5PWg2GQv0"
      },
      "source": [
        "# **Core Java**"
      ]
    },
    {
      "cell_type": "markdown",
      "metadata": {
        "id": "ZoITrd8MsApt"
      },
      "source": [
        "Install Java kernal to run java code here."
      ]
    },
    {
      "cell_type": "code",
      "execution_count": null,
      "metadata": {
        "id": "rscw4ZMMNO-5"
      },
      "outputs": [],
      "source": [
        "!wget https://github.com/SpencerPark/IJava/releases/download/v1.3.0/ijava-1.3.0.zip\n",
        "!unzip ijava-1.3.0.zip\n",
        "!python install.py"
      ]
    },
    {
      "cell_type": "markdown",
      "metadata": {
        "id": "thQ76D_ldBmm"
      },
      "source": [
        "Basic Java program"
      ]
    },
    {
      "cell_type": "markdown",
      "metadata": {
        "id": "VoQbwkkRG4lj"
      },
      "source": [
        "# **Why java is Famous?**\n",
        " Java has multiple features which helps it to be used in the enterprise market not just only enterprise market, it can be used for **mobile development**, **web development** and **enterprise application**.\n",
        "\n",
        "# **What is JVM(Java Virtual Machine)?**\n",
        "It is a virtual machine that enables Java **bytecode** to be executed on a variety of platforms, providing the \"write once, run anywhere\" capability. The JVM interprets compiled Java bytecode and translates it into machine code that can be executed by the underlying hardware.\n",
        "\n",
        "# **History of Java.**\n",
        "Java was developed by James Gosling and Mike Sheridan at Sun Microsystems in the early 1990s. It was officially released by Sun Microsystems in 1995. In 2010, Oracle Corporation acquired Sun Microsystems, becoming the owner of Java.\n",
        "\n",
        "* The latest version of Java is **Java 21** or **JDK 21** released on September, 19th 2023.\n",
        "* Java is difficult but java is most **readable** language you can read the java code line by line.\n",
        "* IDE(**Integrated Development Environment**), is a software application aiding developers with tools like code editors, debuggers, and compilers for software creation. It includes features such as version control and project management for a streamlined development experience.\n",
        "Ex: Eclipse, IntelliJ IDEA, etc.\n",
        "\n",
        "# **WORA(Write once run anywhere)**\n",
        "Java's WORA principle allows developers to write code that can run on any platform. It supports multithreading, enabling concurrent execution for efficient parallel processing. The Collection API simplifies data manipulation with a rich set of data structures. Java's robust exception handling enhances code reliability by effectively managing runtime errors.\n",
        "1.**Writing Code**: Developers write Java code using a text editor or an Integrated Development Environment (IDE).\n",
        "\n",
        "2.**Compilation**: The Java compiler (part of the JDK - Java Development Kit) translates the human-readable Java code into bytecode. Bytecode is an intermediate, platform-independent representation of the code.\n",
        "\n",
        "3.**Bytecode**: Instead of native machine code, Java produces bytecode, a set of instructions for the Java Virtual Machine (JVM) to execute.\n",
        "\n",
        "4.**Java Virtual Machine (JVM)**: The JVM is responsible for running Java bytecode. It interprets the bytecode or, in some cases, Just-In-Time (JIT) compiles it into native machine code for the specific platform. This enables Java's \"Write Once, Run Anywhere\" capability.\n",
        "\n",
        "5.**Execution**: The JVM executes the bytecode, interacting with the underlying operating system and hardware to produce the desired output. The Java runtime environment (JRE) provides the necessary libraries and resources during execution.\n",
        "\n",
        "[how-java-program-run-image](https://www.google.com/url?sa=i&url=https%3A%2F%2Ftutorial.eyehunts.com%2Fjava%2Fhow-java-program-run-java-work-compiler%2F&psig=AOvVaw0Od5W78aVGeCnJ4fP0s3rG&ust=1705820266822000&source=images&cd=vfe&opi=89978449&ved=0CBMQjRxqFwoTCNjRhJGy64MDFQAAAAAdAAAAABAD)\n",
        "\n",
        "# **JVM (Java Virtual Machine):**\n",
        "It is a virtualized runtime environment that **executes Java bytecode**. JVM abstracts the hardware and operating system details, allowing Java programs to run on any device with a compatible JVM.\n",
        "\n",
        "# **JRE (Java Runtime Environment):**\n",
        "It includes the **JVM along with libraries** and components necessary for running Java applications. JRE is intended for end-users who need to run Java programs but may not be involved in Java development.\n",
        "\n",
        "# **JDK (Java Development Kit):**\n",
        "It is a comprehensive software development kit that includes the **JRE along with development tools** such as **compilers**, **debuggers**, and other utilities. JDK is for developers who create Java applications and applets.\n",
        "\n",
        "# **public static void main(String args[])**\n",
        "* **public**: Indicates that the following method is accessible from outside the class.\n",
        "* **static**: Denotes that the method belongs to the class, not to instances of the class, allowing it to be called without creating an object.\n",
        "* **void**: Specifies that the method does not return any value.\n",
        "* main: The name of the method that serves as the entry point when the program is executed.\n",
        "* **String args[]**: Declares a parameter named args, an array of strings, which allows the passing of command-line arguments to the program.\n",
        "\n"
      ]
    },
    {
      "cell_type": "markdown",
      "metadata": {
        "id": "sYRmHq8manOF"
      },
      "source": [
        "## **Visual Studio Code**\n",
        " * Install Extension pack for java"
      ]
    },
    {
      "cell_type": "markdown",
      "metadata": {
        "id": "bMXPKnTt2ZXt"
      },
      "source": [
        "# **Variables**\n",
        "* **What**: A variable is a named storage location in a program that holds a value, allowing data manipulation and storage.\n",
        "* **Why Use Variables**: Variables enable programmers to store and manage data in their programs. They make code more readable, flexible, and dynamic by allowing values to be easily referenced and updated.\n",
        "* **How to Use a Variable (Simple Code Example in Java)**:"
      ]
    },
    {
      "cell_type": "code",
      "execution_count": null,
      "metadata": {
        "id": "-QKJQWL03qTH"
      },
      "outputs": [],
      "source": [
        "public class Example {\n",
        "    public static void main(String[] args) {\n",
        "        // Declaration and initialization of a variable\n",
        "        int age = 25;\n",
        "\n",
        "        // Using the variable in a print statement\n",
        "        System.out.println(\"My age is: \" + age);\n",
        "\n",
        "        // Updating the variable\n",
        "        age = 26;\n",
        "\n",
        "        // Printing the updated value\n",
        "        System.out.println(\"My age is now: \" + age);\n",
        "    }\n",
        "}\n"
      ]
    },
    {
      "cell_type": "markdown",
      "metadata": {
        "id": "_nok7JEd30y7"
      },
      "source": [
        "* **int** age declares a variable named **age** of type integer.\n",
        "* **age = 25** initializes the variable with the value 25.\n",
        "* **System.out.println(\"My age is: \" + age)** prints the value of the variable in a statement.\n",
        "* **age** = 26 updates the variable with a new value.\n",
        "* **System.out.println(\"My age is now: \" + age)** prints the updated value."
      ]
    },
    {
      "cell_type": "markdown",
      "metadata": {
        "id": "Pn-AwmfZ4ZEj"
      },
      "source": [
        "# **Data Types**\n",
        "# **What is a Data Type:**\n",
        "A data type defines the nature of data that a variable can hold in a programming language.\n",
        "\n",
        "# **Why Use Data Types:**\n",
        "Data types ensure clarity and efficiency in programming by specifying the kind of values a variable can store, enabling proper memory allocation and manipulation.\n",
        "\n",
        "# **How to Use Data Types (Simple Code Example in Java):**\n"
      ]
    },
    {
      "cell_type": "code",
      "execution_count": null,
      "metadata": {},
      "outputs": [],
      "source": [
        "// Declaration and initialization of an integer variable\n",
        "int myNumber = 42;"
      ]
    },
    {
      "cell_type": "markdown",
      "metadata": {},
      "source": [
        "In this example:\n",
        "* **What:** int is the data type specifying the variable holds integer values.\n",
        "* **Why:** Ensures the variable myNumber can only store whole numbers.\n",
        "* **How:** Declaring and initializing the variable with an integer value (42).\n",
        "\n",
        "There are two main categories of data types: primitive data types and reference data types.\n",
        "# **Primitive Datatypes**:\n",
        "1. **byte**:\n",
        "   * Size: 8 bits\n",
        "   * Range: -128 to 127\n",
        "2. **short**:\n",
        "   * Size: 16 bits\n",
        "   * Range: -32,768 to 32,767\n",
        "3. **int**: Represents whole numbers without decimal points.\n",
        "   * Size: 32 bits(4 byte)\n",
        "   * Range: -2^31 to 2^31 - 1\n",
        "4. **long**:\n",
        "   * Size: 64 bits\n",
        "   * Range: -2^63 to 2^63 - 1\n",
        "5. **float**:\n",
        "   * Size: 32 bits\n",
        "   * Range: Approximately ±3.4E38 (with 7 decimal digits of precision)\n",
        "6. **double**: Represents floating-point numbers with decimal places.\n",
        "   * Size: 64 bits\n",
        "   * Range: Approximately ±1.7E308 (with 15 decimal digits of precision)\n",
        "7. **char**: Represents a single character.\n",
        "   * Size: 16 bits\n",
        "   * Range: 0 to 65,535 (Unicode characters)\n",
        "8. **boolean**: Represents true or false values.\n",
        "   * Size: Not precisely defined\n",
        "   * Range: true or false\n"
      ]
    },
    {
      "cell_type": "code",
      "execution_count": null,
      "metadata": {},
      "outputs": [],
      "source": [
        "//byte example\n",
        "byte myByte = 100;\n",
        "\n",
        "//short example \n",
        "short myShort = 1000;\n",
        "\n",
        "//int example\n",
        " int myInt = 10000;\n",
        "\n",
        " //long example\n",
        " long myLong = 100000L;\n",
        "\n",
        "//float example\n",
        " float myFloat = 3.14f;\n",
        "\n",
        " //double example\n",
        " double myDouble = 3.14;\n",
        "\n",
        " //char example\n",
        " char myChar = 'A';\n",
        "\n",
        " //boolean example\n",
        " boolean isJavaFun = true;"
      ]
    },
    {
      "cell_type": "markdown",
      "metadata": {},
      "source": [
        "# **Type Conversion and Casting**\n",
        "**1. Type Conversion:**\n",
        " * Changing the data type of a variable to another compatible type.\n",
        "\n",
        "**2. Casting:**\n",
        " * Explicitly converting a variable from one data type to another.\n"
      ]
    },
    {
      "cell_type": "code",
      "execution_count": null,
      "metadata": {},
      "outputs": [],
      "source": [
        "// Type conversion example\n",
        "int myInt = 42;\n",
        "double myDouble = (double) myInt; // Type conversion from int to double\n",
        "\n",
        "//casting example\n",
        "double myDouble = 3.14;\n",
        "int myInt = (int) myDouble; // Casting from double to int\n"
      ]
    },
    {
      "cell_type": "markdown",
      "metadata": {},
      "source": [
        "# **Operators**\n",
        "* Operators in Java are symbols or keywords that perform operations on variables or values. \n",
        "\n",
        "**1. Arithmetic Operators:**\n",
        "* Perform mathematical operations.\n",
        "* Examples: +, -, *, /, %\n",
        "\n",
        "**2. Relational Operators:**\n",
        "* Compare two values and return a boolean result.\n",
        "* Examples: ==, !=, >, <, >=, <=\n",
        "\n",
        "**3. Logical Operators:**\n",
        "* Combine boolean expressions.\n",
        "* Examples: && (AND), || (OR), ! (NOT)\n",
        "\n",
        "**4. Bitwise Operators:**\n",
        "* Perform operations at the bit level.\n",
        "* Examples: &, |, ^ (XOR), ~ (bitwise NOT), << (left shift), >> (right shift)\n",
        "\n",
        "**5. Assignment Operators:**\n",
        "* Assign values and perform operations in a single step.\n",
        "* Examples: =, +=, -=, *=, /=, %=, &=, |=, ^=, <<=, >>=\n",
        "\n",
        "**6. Unary Operators:**\n",
        "* Operate on a single operand.\n",
        "* Examples: ++, --, - (negation), + (unary plus), ! (logical NOT)\n",
        "\n",
        "**7. Conditional (Ternary) Operator:**\n",
        "* Provides a shorthand way of writing if-else statements.\n",
        "* Example: result = (a > b) ? a : b;\n",
        "\n",
        "**8. instanceof Operator:**\n",
        "* Checks whether an object is an instance of a particular class or interface.\n",
        "* Example: if (obj instanceof MyClass) { /* code */ }\n"
      ]
    },
    {
      "cell_type": "code",
      "execution_count": null,
      "metadata": {},
      "outputs": [],
      "source": [
        "public class AllOperatorsExample  {\n",
        "    public static void main(String[] args) {\n",
        "        // 1. Arithmetic Operators:\n",
        "        // Addition (+)\n",
        "        int sum = 5 + 3;\n",
        "        System.out.println(\"Addition result: \" + sum);\n",
        "\n",
        "        // Subtraction (-)\n",
        "        int difference = 7 - 4;\n",
        "        System.out.println(\"Subtraction result: \" + difference);\n",
        "\n",
        "        // Multiplication (*)\n",
        "        int product = 2 * 6;\n",
        "        System.out.println(\"Multiplication result: \" + product);\n",
        "\n",
        "        // Division (/)\n",
        "        double quotient = 10.0 / 2.5;\n",
        "        System.out.println(\"Division result: \" + quotient);\n",
        "\n",
        "        // Modulus (%)\n",
        "        int remainder = 15 % 4;\n",
        "        System.out.println(\"Modulus result: \" + remainder);\n",
        "\n",
        "        // 2. Relational Operators:\n",
        "        // Equal to (==)\n",
        "        int num1 = 10, num2 = 20;\n",
        "        boolean isEqual = (num1 == num2);\n",
        "        System.out.println(\"Equal to result: \" + isEqual);\n",
        "\n",
        "        // Not equal to (!=)\n",
        "        boolean isNotEqual = (num1 != num2);\n",
        "        System.out.println(\"Not equal to result: \" + isNotEqual);\n",
        "\n",
        "        // Greater than (>)\n",
        "        boolean isGreaterThan = (num1 > num2);\n",
        "        System.out.println(\"Greater than result: \" + isGreaterThan);\n",
        "\n",
        "        // Less than (<)\n",
        "        boolean isLessThan = (num1 < num2);\n",
        "        System.out.println(\"Less than result: \" + isLessThan);\n",
        "\n",
        "        // Greater than or equal to (>=)\n",
        "        boolean isGreaterOrEqual = (num1 >= num2);\n",
        "        System.out.println(\"Greater than or equal to result: \" + isGreaterOrEqual);\n",
        "\n",
        "        // Less than or equal to (<=)\n",
        "        boolean isLessOrEqual = (num1 <= num2);\n",
        "        System.out.println(\"Less than or equal to result: \" + isLessOrEqual);\n",
        "\n",
        "        // 3. Logical Operators:\n",
        "        // Logical AND (&&)\n",
        "        boolean isTrue = true;\n",
        "        boolean isFalse = false;\n",
        "        boolean andResult = isTrue && isFalse;\n",
        "        System.out.println(\"Logical AND result: \" + andResult);\n",
        "\n",
        "        // Logical OR (||)\n",
        "        boolean orResult = isTrue || isFalse;\n",
        "        System.out.println(\"Logical OR result: \" + orResult);\n",
        "\n",
        "        // Logical NOT (!)\n",
        "        boolean notResult = !isTrue;\n",
        "        System.out.println(\"Logical NOT result: \" + notResult);\n",
        "\n",
        "        // 4. Bitwise operators\n",
        "        // Bitwise AND (&)\n",
        "        int bitwiseAndResult = 5 & 3;\n",
        "        System.out.println(\"Bitwise AND result: \" + bitwiseAndResult);\n",
        "\n",
        "        // Bitwise OR (|)\n",
        "        int bitwiseOrResult = 5 | 3;\n",
        "        System.out.println(\"Bitwise OR result: \" + bitwiseOrResult);\n",
        "\n",
        "        // Bitwise XOR (^)\n",
        "        int bitwiseXorResult = 5 ^ 3;\n",
        "        System.out.println(\"Bitwise XOR result: \" + bitwiseXorResult);\n",
        "\n",
        "        // Bitwise NOT (~)\n",
        "        int bitwiseNotResult = ~5;\n",
        "        System.out.println(\"Bitwise NOT result: \" + bitwiseNotResult);\n",
        "\n",
        "        // Left Shift (<<)\n",
        "        int leftShiftResult = 8 << 2;\n",
        "        System.out.println(\"Left Shift result: \" + leftShiftResult);\n",
        "\n",
        "        // Right Shift (>>)\n",
        "        int rightShiftResult = 16 >> 2;\n",
        "        System.out.println(\"Right Shift result: \" + rightShiftResult);\n",
        "\n",
        "        // 5. Assignment operators\n",
        "        // Assignment (=)\n",
        "        int a = 5;\n",
        "        int b = a; // b is assigned the value of a\n",
        "        System.out.println(\"Value of b after assignment: \" + b);\n",
        "\n",
        "        // Addition and assignment (+=)\n",
        "        int c = 10;\n",
        "        c += 5; // equivalent to c = c + 5\n",
        "        System.out.println(\"Value of c after addition and assignment: \" + c);\n",
        "\n",
        "        // Subtraction and assignment (-=)\n",
        "        int d = 8;\n",
        "        d -= 3; // equivalent to d = d - 3\n",
        "        System.out.println(\"Value of d after subtraction and assignment: \" + d);\n",
        "\n",
        "        // Multiplication and assignment (*=)\n",
        "        int e = 6;\n",
        "        e *= 4; // equivalent to e = e * 4\n",
        "        System.out.println(\"Value of e after multiplication and assignment: \" + e);\n",
        "\n",
        "        // Division and assignment (/=)\n",
        "        double f = 15.0;\n",
        "        f /= 3.0; // equivalent to f = f / 3.0\n",
        "        System.out.println(\"Value of f after division and assignment: \" + f);\n",
        "\n",
        "        // Modulus and assignment (%=)\n",
        "        int g = 17;\n",
        "        g %= 5; // equivalent to g = g % 5\n",
        "        System.out.println(\"Value of g after modulus and assignment: \" + g);\n",
        "\n",
        "        // 6. Unary operators\n",
        "        // Unary Plus (+)\n",
        "        int positiveValue = +5;\n",
        "        System.out.println(\"Unary Plus result: \" + positiveValue);\n",
        "\n",
        "        // Unary Minus (-)\n",
        "        int negativeValue = -8;\n",
        "        System.out.println(\"Unary Minus result: \" + negativeValue);\n",
        "\n",
        "        // Increment (++)\n",
        "        int x = 10;\n",
        "        x++;\n",
        "        System.out.println(\"Increment result: \" + x);\n",
        "\n",
        "        // Decrement (--)\n",
        "        int y = 7;\n",
        "        y--;\n",
        "        System.out.println(\"Decrement result: \" + y);\n",
        "\n",
        "        // Logical NOT (!)\n",
        "        boolean isTrue = true;\n",
        "        boolean notResult = !isTrue;\n",
        "        System.out.println(\"Logical NOT result: \" + notResult);\n",
        "        // 7. Conditional (Ternary) Operator (? :)\n",
        "        int a = 10, b = 20;\n",
        "        int max = (a > b) ? a : b;\n",
        "        System.out.println(\"Maximum value: \" + max);\n",
        "\n",
        "        // 8. instanceof Operator\n",
        "        Object obj = \"Hello, Java!\";\n",
        "        if (obj instanceof String) {\n",
        "            System.out.println(\"obj is an instance of String\");\n",
        "        }\n",
        "    }\n",
        "}\n"
      ]
    },
    {
      "cell_type": "markdown",
      "metadata": {},
      "source": [
        "# **Conditional Statements**\n",
        "* Conditional statements are programming constructs that allow you to execute different blocks of code based on certain conditions, enabling dynamic decision-making in a program.\n",
        "\n",
        "**Why We Use:**\n",
        "* Conditional statements are used to control the flow of a program, making it responsive to varying situations and ensuring specific code blocks are executed only when specific conditions are met.\n",
        "\n",
        "There are primarily two types of conditional statements: if-else and switch.\n",
        "\n",
        "**1. if-else Statement**:\n",
        "* Executes one block of code if a specified condition is true and another block if the condition is false."
      ]
    },
    {
      "cell_type": "code",
      "execution_count": null,
      "metadata": {},
      "outputs": [],
      "source": [
        "int number = 10;\n",
        "if (number > 0) {\n",
        "    System.out.println(\"The number is positive.\");\n",
        "} else {\n",
        "    System.out.println(\"The number is non-positive.\");\n",
        "}"
      ]
    },
    {
      "cell_type": "markdown",
      "metadata": {},
      "source": [
        "**2. Switch Statement**\n",
        "* Selects one of many code blocks to execute based on the value of an expression."
      ]
    },
    {
      "cell_type": "code",
      "execution_count": null,
      "metadata": {},
      "outputs": [],
      "source": [
        "int dayOfWeek = 3;\n",
        "switch (dayOfWeek) {\n",
        "    case 1:\n",
        "        System.out.println(\"Monday\");\n",
        "        break;\n",
        "    case 2:\n",
        "        System.out.println(\"Tuesday\");\n",
        "        break;\n",
        "    // ... (cases for other days)\n",
        "    default:\n",
        "        System.out.println(\"Invalid day\");\n",
        "}"
      ]
    },
    {
      "cell_type": "markdown",
      "metadata": {},
      "source": [
        "# **Loops**\n",
        "* Loops in programming are constructs that repeatedly execute a block of code as long as a certain condition is met, providing a way to efficiently perform repetitive tasks.\n",
        "\n",
        "**Why We Use Loops:**\n",
        "* Loops help automate repetitive tasks, reduce redundancy in code, and allow for more efficient processing of data or actions that need to be repeated.\n",
        "\n",
        "# **Types of Loops:**\n",
        "**1. for Loop:**\n",
        "* Executes a block of code for a specified number of iterations."
      ]
    },
    {
      "cell_type": "code",
      "execution_count": null,
      "metadata": {},
      "outputs": [],
      "source": [
        "for (int i = 1; i <= 3; i++) {\n",
        "    System.out.println(\"Iteration \" + i);\n",
        "}"
      ]
    },
    {
      "cell_type": "markdown",
      "metadata": {},
      "source": [
        "**2. while Loop:**\n",
        "* Repeatedly executes a block of code as long as a specified condition is true."
      ]
    },
    {
      "cell_type": "code",
      "execution_count": null,
      "metadata": {},
      "outputs": [],
      "source": [
        "int count = 1;\n",
        "while (count <= 3) {\n",
        "    System.out.println(\"Count is \" + count);\n",
        "    count++;\n",
        "}"
      ]
    },
    {
      "cell_type": "markdown",
      "metadata": {},
      "source": [
        "**3. do-while Loop:**\n",
        "* Similar to a while loop, but the block of code is executed at least once, even if the condition is initially false."
      ]
    },
    {
      "cell_type": "code",
      "execution_count": null,
      "metadata": {},
      "outputs": [],
      "source": [
        "int x = 1;\n",
        "do {\n",
        "    System.out.println(\"Value of x: \" + x);\n",
        "    x++;\n",
        "} while (x <= 3);"
      ]
    },
    {
      "cell_type": "markdown",
      "metadata": {},
      "source": [
        "# **Object Oriented Programming**\n",
        "\n",
        "**What is OOPs**: \n",
        "* OOPs is a programming paradigm that uses objects, which encapsulate data and behavior, to design and organize code. \n",
        "* It emphasizes concepts like encapsulation, inheritance, polymorphism, and abstraction.\n",
        "\n",
        "**Why we need OOPs:**\n",
        "* OOPs provides a modular and structured approach, enhancing code reusability, maintainability, and scalability. \n",
        "* It models real-world entities and relationships, making it easier to conceptualize and design complex systems.\n",
        "\n",
        "**How to use OOPs in real-time:**\n",
        "* In real-time applications, OOPs is applied by creating classes and objects that represent entities and their interactions. \n",
        "* For example, in Java, consider a simple \"Person\" class:"
      ]
    },
    {
      "cell_type": "code",
      "execution_count": null,
      "metadata": {},
      "outputs": [],
      "source": [
        "public class Person {\n",
        "    // Attributes\n",
        "    private String name;\n",
        "    private int age;\n",
        "\n",
        "    // Constructor\n",
        "    public Person(String name, int age) {\n",
        "        this.name = name;\n",
        "        this.age = age;\n",
        "    }\n",
        "\n",
        "    // Method\n",
        "    public void displayInfo() {\n",
        "        System.out.println(\"Name: \" + name + \", Age: \" + age);\n",
        "    }\n",
        "\n",
        "    public static void main(String[] args) {\n",
        "        // Creating an object of the Person class\n",
        "        Person person1 = new Person(\"John\", 25);\n",
        "\n",
        "        // Calling a method on the object\n",
        "        person1.displayInfo();\n",
        "    }\n",
        "}"
      ]
    },
    {
      "cell_type": "markdown",
      "metadata": {},
      "source": [
        "* In this example, the `Person` class encapsulates attributes (name, age) and behavior (displayInfo method). \n",
        "* Objects of this class represent real-world persons, showcasing the principles of encapsulation and abstraction in OOPs.\n",
        "* The four main principles of Object-Oriented Programming (OOP) are:\n",
        "[oops-types-image](https://media.geeksforgeeks.org/wp-content/uploads/2-241.png)\n",
        "\n",
        "# **1. Class Objects:**\n",
        "* **Class:** A class is a `blueprint` or template that defines the attributes and behaviors common to all objects of that type.\n",
        "* **Objects:** Objects are `instances of a class`, representing specific entities with unique characteristics.\n",
        "\n",
        "**Real-time Example:**\n",
        "* Consider the class `Car` as a blueprint for all cars. An object of the \"Car\" class could represent a specific car, such as a `red Honda Accord`."
      ]
    },
    {
      "cell_type": "code",
      "execution_count": null,
      "metadata": {},
      "outputs": [],
      "source": [
        "// Class definition\n",
        "public class Car {\n",
        "    // Attributes\n",
        "    private String color;\n",
        "    private String model;\n",
        "\n",
        "    // Constructor\n",
        "    public Car(String color, String model) {\n",
        "        this.color = color;\n",
        "        this.model = model;\n",
        "    }\n",
        "\n",
        "    // Method to display car information\n",
        "    public void displayInfo() {\n",
        "        System.out.println(\"Car Model: \" + model + \", Color: \" + color);\n",
        "    }\n",
        "\n",
        "    // Main method to demonstrate class and object\n",
        "    public static void main(String[] args) {\n",
        "        // Creating an object of the Car class\n",
        "        Car myCar = new Car(\"Red\", \"Honda Accord\");\n",
        "\n",
        "        // Accessing the object's method\n",
        "        myCar.displayInfo();\n",
        "    }\n",
        "}\n",
        "//take another ex Employee with name, id, role"
      ]
    },
    {
      "cell_type": "markdown",
      "metadata": {},
      "source": [
        "* In this example, the \"Car\" class defines attributes like color and model and a method displayInfo() to show the car details. \n",
        "* The main method demonstrates creating an object of the \"Car\" class (myCar) and accessing its method.\n",
        "\n",
        "# **2. Encapsulation:**\n",
        "* Bundling data (attributes) and methods (functions) that operate on the data into a single unit, known as a class.\n",
        "* Example: In a `Car` class, encapsulation involves combining attributes like `speed` and methods like `accelerate()` within the class.\n",
        "* A smartphone is an example of encapsulation where the internal components (hardware) are hidden from the user. The user interacts with the device through an interface (touchscreen) without needing to know the internal workings."
      ]
    },
    {
      "cell_type": "code",
      "execution_count": null,
      "metadata": {},
      "outputs": [],
      "source": [
        "public class Smartphone {\n",
        "    private String brand;\n",
        "    private int batteryLevel;\n",
        "\n",
        "    public Smartphone(String brand) {\n",
        "        this.brand = brand;\n",
        "        this.batteryLevel = 100;\n",
        "    }\n",
        "\n",
        "    public void useApp(String appName) {\n",
        "        // Code to use the specified app\n",
        "        System.out.println(brand + \" is using \" + appName);\n",
        "        batteryLevel -= 5;\n",
        "    }\n",
        "}"
      ]
    },
    {
      "cell_type": "markdown",
      "metadata": {},
      "source": [
        "# **3. Inheritance:**\n",
        "[Inheritance-image](https://media.geeksforgeeks.org/wp-content/uploads/4-104.png)\n",
        "* The mechanism by which a new class (subclass or derived class) inherits properties and behaviors from an existing class (superclass or base class).\n",
        "* Example: If there's a `Vehicle` class, a `Car` class can inherit characteristics from it, inheriting attributes like `fuelType` and methods like `startEngine()`.\n",
        "* In a company, there may be a base class `Employee`, and specific types of employees (e.g., `Manager` and `Developer`) can inherit properties and methods from the base class."
      ]
    },
    {
      "cell_type": "code",
      "execution_count": null,
      "metadata": {},
      "outputs": [],
      "source": [
        "public class Employee {\n",
        "    protected String name;\n",
        "    protected int employeeId;\n",
        "\n",
        "    public Employee(String name, int employeeId) {\n",
        "        this.name = name;\n",
        "        this.employeeId = employeeId;\n",
        "    }\n",
        "\n",
        "    public void displayInfo() {\n",
        "        System.out.println(\"Name: \" + name + \", Employee ID: \" + employeeId);\n",
        "    }\n",
        "}\n",
        "\n",
        "// Subclass inheriting from Employee\n",
        "public class Manager extends Employee {\n",
        "    private String department;\n",
        "\n",
        "    public Manager(String name, int employeeId, String department) {\n",
        "        super(name, employeeId);\n",
        "        this.department = department;\n",
        "    }\n",
        "\n",
        "    // Additional methods specific to Manager\n",
        "    public void manageTeam() {\n",
        "        System.out.println(name + \" is managing the \" + department + \" team.\");\n",
        "    }\n",
        "}"
      ]
    },
    {
      "cell_type": "markdown",
      "metadata": {},
      "source": [
        "# **4. Polymorphism**\n",
        "[Inheritance-image](https://media.geeksforgeeks.org/wp-content/uploads/5-77.png)\n",
        "* The ability of objects of different classes to be treated as objects of a common super class. It allows a single interface to represent various types of entities.\n",
        "* Example: A `Shape` class with a `draw()` method can have subclasses like `Circle` and `Square,` each implementing its own version of the `draw()` method.\n",
        "* A `drawing` application can have a common interface for various tools like `pencil, eraser, and brush`. Each tool behaves differently but follows the same interface."
      ]
    },
    {
      "cell_type": "code",
      "execution_count": null,
      "metadata": {},
      "outputs": [],
      "source": [
        "public interface DrawingTool {\n",
        "    void draw();\n",
        "}\n",
        "\n",
        "public class Pencil implements DrawingTool {\n",
        "    @Override\n",
        "    public void draw() {\n",
        "        System.out.println(\"Drawing with a pencil\");\n",
        "    }\n",
        "}\n",
        "\n",
        "public class Brush implements DrawingTool {\n",
        "    @Override\n",
        "    public void draw() {\n",
        "        System.out.println(\"Painting with a brush\");\n",
        "    }\n",
        "}"
      ]
    },
    {
      "cell_type": "markdown",
      "metadata": {},
      "source": [
        "# **5. Data Abstraction**\n",
        "[Data-Abstraction-image](https://media.geeksforgeeks.org/wp-content/uploads/3-173.png)\n",
        "* The process of hiding the complex reality while exposing only the essential parts. It involves creating abstract classes or interfaces that define a common structure for derived classes.\n",
        " * Example: An abstract class `BankAccount` might have abstract methods like `deposit()` and `withdraw()`, which are implemented by specific types of bank accounts like `SavingsAccount` and `CheckingAccount`.\n",
        " * A `remote` control is an abstraction of a TV. Users interact with the remote `control's buttons` without knowing the complex operations happening inside the TV."
      ]
    },
    {
      "cell_type": "code",
      "execution_count": null,
      "metadata": {},
      "outputs": [],
      "source": [
        "public abstract class RemoteControl {\n",
        "    // Abstract method representing a common action\n",
        "    public abstract void pressButton();\n",
        "}\n",
        "\n",
        "public class TVRemoteControl extends RemoteControl {\n",
        "    @Override\n",
        "    public void pressButton() {\n",
        "        System.out.println(\"Changing TV channel\");\n",
        "        // Additional code for channel changing\n",
        "    }\n",
        "}"
      ]
    },
    {
      "cell_type": "markdown",
      "metadata": {},
      "source": [
        "## Some important points to know about OOP: \n",
        "\n",
        "* OOP treats data as a critical element. \n",
        "* Emphasis is on data rather than procedure. \n",
        "* Decomposition of the problem into simpler modules. \n",
        "* Doesn’t allow data to freely flow in the entire system, ie localized control flow. \n",
        "* Data is protected from external functions. "
      ]
    },
    {
      "cell_type": "markdown",
      "metadata": {},
      "source": [
        "## Advantages of OOPs – \n",
        "\n",
        "* It models the real world very well. \n",
        "* With OOP, programs are easy to understand and maintain. \n",
        "* OOP offers code reusability. Already created classes can be reused without having to write them again. \n",
        "* OOP facilitates the quick development of programs where parallel development of classes is possible. \n",
        "* With OOP, programs are easier to test, manage and debug. "
      ]
    },
    {
      "cell_type": "markdown",
      "metadata": {},
      "source": [
        "## Disadvantages of OOP – \n",
        " \n",
        "* With OOP, classes sometimes tend to be over-generalized. \n",
        "* The relations among classes become superficial at times. \n",
        "* The OOP design is tricky and requires appropriate knowledge. Also, one needs to do proper planning and design for OOP programming. \n",
        "* To program with OOP, the programmer needs proper skills such as design, programming, and thinking in terms of objects and classes, etc. "
      ]
    }
  ],
  "metadata": {
    "colab": {
      "cell_execution_strategy": "setup",
      "provenance": []
    },
    "kernelspec": {
      "display_name": "java",
      "name": "java"
    },
    "language_info": {
      "name": "java"
    }
  },
  "nbformat": 4,
  "nbformat_minor": 0
}
