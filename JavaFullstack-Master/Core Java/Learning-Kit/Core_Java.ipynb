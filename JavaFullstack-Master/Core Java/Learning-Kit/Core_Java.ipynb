{
  "cells": [
    {
      "cell_type": "markdown",
      "metadata": {
        "id": "pcm5PWg2GQv0"
      },
      "source": [
        "# **Core Java**"
      ]
    },
    {
      "cell_type": "markdown",
      "metadata": {
        "id": "ZoITrd8MsApt"
      },
      "source": [
        "Install Java kernal to run java code here."
      ]
    },
    {
      "cell_type": "code",
      "execution_count": null,
      "metadata": {
        "id": "rscw4ZMMNO-5"
      },
      "outputs": [],
      "source": [
        "!wget https://github.com/SpencerPark/IJava/releases/download/v1.3.0/ijava-1.3.0.zip\n",
        "!unzip ijava-1.3.0.zip\n",
        "!python install.py"
      ]
    },
    {
      "cell_type": "markdown",
      "metadata": {
        "id": "thQ76D_ldBmm"
      },
      "source": [
        "Basic Java program"
      ]
    },
    {
      "cell_type": "markdown",
      "metadata": {
        "id": "VoQbwkkRG4lj"
      },
      "source": [
        "# **Why java is Famous?**\n",
        " Java has multiple features which helps it to be used in the enterprise market not just only enterprise market, it can be used for **mobile development**, **web development** and **enterprise application**.\n",
        "\n",
        "# **What is JVM(Java Virtual Machine)?**\n",
        "It is a virtual machine that enables Java **bytecode** to be executed on a variety of platforms, providing the \"write once, run anywhere\" capability. The JVM interprets compiled Java bytecode and translates it into machine code that can be executed by the underlying hardware.\n",
        "\n",
        "# **History of Java.**\n",
        "Java was developed by James Gosling and Mike Sheridan at Sun Microsystems in the early 1990s. It was officially released by Sun Microsystems in 1995. In 2010, Oracle Corporation acquired Sun Microsystems, becoming the owner of Java.\n",
        "\n",
        "* The latest version of Java is **Java 21** or **JDK 21** released on September, 19th 2023.\n",
        "* Java is difficult but java is most **readable** language you can read the java code line by line.\n",
        "* IDE(**Integrated Development Environment**), is a software application aiding developers with tools like code editors, debuggers, and compilers for software creation. It includes features such as version control and project management for a streamlined development experience.\n",
        "Ex: Eclipse, IntelliJ IDEA, etc.\n",
        "\n",
        "# **WORA(Write once run anywhere)**\n",
        "Java's WORA principle allows developers to write code that can run on any platform. It supports multithreading, enabling concurrent execution for efficient parallel processing. The Collection API simplifies data manipulation with a rich set of data structures. Java's robust exception handling enhances code reliability by effectively managing runtime errors.\n",
        "1.**Writing Code**: Developers write Java code using a text editor or an Integrated Development Environment (IDE).\n",
        "\n",
        "2.**Compilation**: The Java compiler (part of the JDK - Java Development Kit) translates the human-readable Java code into bytecode. Bytecode is an intermediate, platform-independent representation of the code.\n",
        "\n",
        "3.**Bytecode**: Instead of native machine code, Java produces bytecode, a set of instructions for the Java Virtual Machine (JVM) to execute.\n",
        "\n",
        "4.**Java Virtual Machine (JVM)**: The JVM is responsible for running Java bytecode. It interprets the bytecode or, in some cases, Just-In-Time (JIT) compiles it into native machine code for the specific platform. This enables Java's \"Write Once, Run Anywhere\" capability.\n",
        "\n",
        "5.**Execution**: The JVM executes the bytecode, interacting with the underlying operating system and hardware to produce the desired output. The Java runtime environment (JRE) provides the necessary libraries and resources during execution.\n",
        "\n",
        "[how-java-program-run-image](https://www.google.com/url?sa=i&url=https%3A%2F%2Ftutorial.eyehunts.com%2Fjava%2Fhow-java-program-run-java-work-compiler%2F&psig=AOvVaw0Od5W78aVGeCnJ4fP0s3rG&ust=1705820266822000&source=images&cd=vfe&opi=89978449&ved=0CBMQjRxqFwoTCNjRhJGy64MDFQAAAAAdAAAAABAD)\n",
        "\n",
        "# **JVM (Java Virtual Machine):**\n",
        "It is a virtualized runtime environment that **executes Java bytecode**. JVM abstracts the hardware and operating system details, allowing Java programs to run on any device with a compatible JVM.\n",
        "\n",
        "# **JRE (Java Runtime Environment):**\n",
        "It includes the **JVM along with libraries** and components necessary for running Java applications. JRE is intended for end-users who need to run Java programs but may not be involved in Java development.\n",
        "\n",
        "# **JDK (Java Development Kit):**\n",
        "It is a comprehensive software development kit that includes the **JRE along with development tools** such as **compilers**, **debuggers**, and other utilities. JDK is for developers who create Java applications and applets.\n",
        "\n",
        "# **public static void main(String args[])**\n",
        "* **public**: Indicates that the following method is accessible from outside the class.\n",
        "* **static**: Denotes that the method belongs to the class, not to instances of the class, allowing it to be called without creating an object.\n",
        "* **void**: Specifies that the method does not return any value.\n",
        "* main: The name of the method that serves as the entry point when the program is executed.\n",
        "* **String args[]**: Declares a parameter named args, an array of strings, which allows the passing of command-line arguments to the program.\n",
        "\n"
      ]
    },
    {
      "cell_type": "markdown",
      "metadata": {
        "id": "sYRmHq8manOF"
      },
      "source": [
        "## **Visual Studio Code**\n",
        " * Install Extension pack for java"
      ]
    },
    {
      "cell_type": "markdown",
      "metadata": {
        "id": "bMXPKnTt2ZXt"
      },
      "source": [
        "# **Variables**\n",
        "* **What**: A variable is a named storage location in a program that holds a value, allowing data manipulation and storage.\n",
        "* **Why Use Variables**: Variables enable programmers to store and manage data in their programs. They make code more readable, flexible, and dynamic by allowing values to be easily referenced and updated.\n",
        "* **How to Use a Variable (Simple Code Example in Java)**:"
      ]
    },
    {
      "cell_type": "code",
      "execution_count": null,
      "metadata": {
        "id": "-QKJQWL03qTH"
      },
      "outputs": [],
      "source": [
        "public class Example {\n",
        "    public static void main(String[] args) {\n",
        "        // Declaration and initialization of a variable\n",
        "        int age = 25;\n",
        "\n",
        "        // Using the variable in a print statement\n",
        "        System.out.println(\"My age is: \" + age);\n",
        "\n",
        "        // Updating the variable\n",
        "        age = 26;\n",
        "\n",
        "        // Printing the updated value\n",
        "        System.out.println(\"My age is now: \" + age);\n",
        "    }\n",
        "}\n"
      ]
    },
    {
      "cell_type": "markdown",
      "metadata": {
        "id": "_nok7JEd30y7"
      },
      "source": [
        "* **int** age declares a variable named **age** of type integer.\n",
        "* **age = 25** initializes the variable with the value 25.\n",
        "* **System.out.println(\"My age is: \" + age)** prints the value of the variable in a statement.\n",
        "* **age** = 26 updates the variable with a new value.\n",
        "* **System.out.println(\"My age is now: \" + age)** prints the updated value."
      ]
    },
    {
      "cell_type": "markdown",
      "metadata": {
        "id": "Pn-AwmfZ4ZEj"
      },
      "source": [
        "# **Data Types**\n",
        "# **What is a Data Type:**\n",
        "A data type defines the nature of data that a variable can hold in a programming language.\n",
        "\n",
        "# **Why Use Data Types:**\n",
        "Data types ensure clarity and efficiency in programming by specifying the kind of values a variable can store, enabling proper memory allocation and manipulation.\n",
        "\n",
        "# **How to Use Data Types (Simple Code Example in Java):**\n"
      ]
    },
    {
      "cell_type": "code",
      "execution_count": null,
      "metadata": {},
      "outputs": [],
      "source": [
        "// Declaration and initialization of an integer variable\n",
        "int myNumber = 42;"
      ]
    },
    {
      "cell_type": "markdown",
      "metadata": {},
      "source": [
        "In this example:\n",
        "* **What:** int is the data type specifying the variable holds integer values.\n",
        "* **Why:** Ensures the variable myNumber can only store whole numbers.\n",
        "* **How:** Declaring and initializing the variable with an integer value (42).\n",
        "\n",
        "There are two main categories of data types: primitive data types and reference data types.\n",
        "# **Primitive Datatypes**:\n",
        "1. **byte**:\n",
        "   * Size: 8 bits\n",
        "   * Range: -128 to 127\n",
        "2. **short**:\n",
        "   * Size: 16 bits\n",
        "   * Range: -32,768 to 32,767\n",
        "3. **int**: Represents whole numbers without decimal points.\n",
        "   * Size: 32 bits(4 byte)\n",
        "   * Range: -2^31 to 2^31 - 1\n",
        "4. **long**:\n",
        "   * Size: 64 bits\n",
        "   * Range: -2^63 to 2^63 - 1\n",
        "5. **float**:\n",
        "   * Size: 32 bits\n",
        "   * Range: Approximately ±3.4E38 (with 7 decimal digits of precision)\n",
        "6. **double**: Represents floating-point numbers with decimal places.\n",
        "   * Size: 64 bits\n",
        "   * Range: Approximately ±1.7E308 (with 15 decimal digits of precision)\n",
        "7. **char**: Represents a single character.\n",
        "   * Size: 16 bits\n",
        "   * Range: 0 to 65,535 (Unicode characters)\n",
        "8. **boolean**: Represents true or false values.\n",
        "   * Size: Not precisely defined\n",
        "   * Range: true or false\n"
      ]
    },
    {
      "cell_type": "code",
      "execution_count": null,
      "metadata": {},
      "outputs": [],
      "source": [
        "//byte example\n",
        "byte myByte = 100;\n",
        "\n",
        "//short example \n",
        "short myShort = 1000;\n",
        "\n",
        "//int example\n",
        " int myInt = 10000;\n",
        "\n",
        " //long example\n",
        " long myLong = 100000L;\n",
        "\n",
        "//float example\n",
        " float myFloat = 3.14f;\n",
        "\n",
        " //double example\n",
        " double myDouble = 3.14;\n",
        "\n",
        " //char example\n",
        " char myChar = 'A';\n",
        "\n",
        " //boolean example\n",
        " boolean isJavaFun = true;"
      ]
    },
    {
      "cell_type": "markdown",
      "metadata": {},
      "source": [
        "# **Type Conversion and Casting**\n",
        "**1. Type Conversion:**\n",
        " * Changing the data type of a variable to another compatible type.\n",
        "\n",
        "**2. Casting:**\n",
        " * Explicitly converting a variable from one data type to another.\n"
      ]
    },
    {
      "cell_type": "code",
      "execution_count": null,
      "metadata": {},
      "outputs": [],
      "source": [
        "// Type conversion example\n",
        "int myInt = 42;\n",
        "double myDouble = (double) myInt; // Type conversion from int to double\n",
        "\n",
        "//casting example\n",
        "double myDouble = 3.14;\n",
        "int myInt = (int) myDouble; // Casting from double to int\n"
      ]
    },
    {
      "cell_type": "markdown",
      "metadata": {},
      "source": [
        "# **Operators**\n",
        "* Operators in Java are symbols or keywords that perform operations on variables or values. \n",
        "\n",
        "**1. Arithmetic Operators:**\n",
        "* Perform mathematical operations.\n",
        "* Examples: +, -, *, /, %\n",
        "\n",
        "**2. Relational Operators:**\n",
        "* Compare two values and return a boolean result.\n",
        "* Examples: ==, !=, >, <, >=, <=\n",
        "\n",
        "**3. Logical Operators:**\n",
        "* Combine boolean expressions.\n",
        "* Examples: && (AND), || (OR), ! (NOT)\n",
        "\n",
        "**4. Bitwise Operators:**\n",
        "* Perform operations at the bit level.\n",
        "* Examples: &, |, ^ (XOR), ~ (bitwise NOT), << (left shift), >> (right shift)\n",
        "\n",
        "**5. Assignment Operators:**\n",
        "* Assign values and perform operations in a single step.\n",
        "* Examples: =, +=, -=, *=, /=, %=, &=, |=, ^=, <<=, >>=\n",
        "\n",
        "**6. Unary Operators:**\n",
        "* Operate on a single operand.\n",
        "* Examples: ++, --, - (negation), + (unary plus), ! (logical NOT)\n",
        "\n",
        "**7. Conditional (Ternary) Operator:**\n",
        "* Provides a shorthand way of writing if-else statements.\n",
        "* Example: result = (a > b) ? a : b;\n",
        "\n",
        "**8. instanceof Operator:**\n",
        "* Checks whether an object is an instance of a particular class or interface.\n",
        "* Example: if (obj instanceof MyClass) { /* code */ }\n"
      ]
    },
    {
      "cell_type": "code",
      "execution_count": null,
      "metadata": {},
      "outputs": [],
      "source": [
        "public class AllOperatorsExample  {\n",
        "    public static void main(String[] args) {\n",
        "        // 1. Arithmetic Operators:\n",
        "        // Addition (+)\n",
        "        int sum = 5 + 3;\n",
        "        System.out.println(\"Addition result: \" + sum);\n",
        "\n",
        "        // Subtraction (-)\n",
        "        int difference = 7 - 4;\n",
        "        System.out.println(\"Subtraction result: \" + difference);\n",
        "\n",
        "        // Multiplication (*)\n",
        "        int product = 2 * 6;\n",
        "        System.out.println(\"Multiplication result: \" + product);\n",
        "\n",
        "        // Division (/)\n",
        "        double quotient = 10.0 / 2.5;\n",
        "        System.out.println(\"Division result: \" + quotient);\n",
        "\n",
        "        // Modulus (%)\n",
        "        int remainder = 15 % 4;\n",
        "        System.out.println(\"Modulus result: \" + remainder);\n",
        "\n",
        "        // 2. Relational Operators:\n",
        "        // Equal to (==)\n",
        "        int num1 = 10, num2 = 20;\n",
        "        boolean isEqual = (num1 == num2);\n",
        "        System.out.println(\"Equal to result: \" + isEqual);\n",
        "\n",
        "        // Not equal to (!=)\n",
        "        boolean isNotEqual = (num1 != num2);\n",
        "        System.out.println(\"Not equal to result: \" + isNotEqual);\n",
        "\n",
        "        // Greater than (>)\n",
        "        boolean isGreaterThan = (num1 > num2);\n",
        "        System.out.println(\"Greater than result: \" + isGreaterThan);\n",
        "\n",
        "        // Less than (<)\n",
        "        boolean isLessThan = (num1 < num2);\n",
        "        System.out.println(\"Less than result: \" + isLessThan);\n",
        "\n",
        "        // Greater than or equal to (>=)\n",
        "        boolean isGreaterOrEqual = (num1 >= num2);\n",
        "        System.out.println(\"Greater than or equal to result: \" + isGreaterOrEqual);\n",
        "\n",
        "        // Less than or equal to (<=)\n",
        "        boolean isLessOrEqual = (num1 <= num2);\n",
        "        System.out.println(\"Less than or equal to result: \" + isLessOrEqual);\n",
        "\n",
        "        // 3. Logical Operators:\n",
        "        // Logical AND (&&)\n",
        "        boolean isTrue = true;\n",
        "        boolean isFalse = false;\n",
        "        boolean andResult = isTrue && isFalse;\n",
        "        System.out.println(\"Logical AND result: \" + andResult);\n",
        "\n",
        "        // Logical OR (||)\n",
        "        boolean orResult = isTrue || isFalse;\n",
        "        System.out.println(\"Logical OR result: \" + orResult);\n",
        "\n",
        "        // Logical NOT (!)\n",
        "        boolean notResult = !isTrue;\n",
        "        System.out.println(\"Logical NOT result: \" + notResult);\n",
        "\n",
        "        // 4. Bitwise operators\n",
        "        // Bitwise AND (&)\n",
        "        int bitwiseAndResult = 5 & 3;\n",
        "        System.out.println(\"Bitwise AND result: \" + bitwiseAndResult);\n",
        "\n",
        "        // Bitwise OR (|)\n",
        "        int bitwiseOrResult = 5 | 3;\n",
        "        System.out.println(\"Bitwise OR result: \" + bitwiseOrResult);\n",
        "\n",
        "        // Bitwise XOR (^)\n",
        "        int bitwiseXorResult = 5 ^ 3;\n",
        "        System.out.println(\"Bitwise XOR result: \" + bitwiseXorResult);\n",
        "\n",
        "        // Bitwise NOT (~)\n",
        "        int bitwiseNotResult = ~5;\n",
        "        System.out.println(\"Bitwise NOT result: \" + bitwiseNotResult);\n",
        "\n",
        "        // Left Shift (<<)\n",
        "        int leftShiftResult = 8 << 2;\n",
        "        System.out.println(\"Left Shift result: \" + leftShiftResult);\n",
        "\n",
        "        // Right Shift (>>)\n",
        "        int rightShiftResult = 16 >> 2;\n",
        "        System.out.println(\"Right Shift result: \" + rightShiftResult);\n",
        "\n",
        "        // 5. Assignment operators\n",
        "        // Assignment (=)\n",
        "        int a = 5;\n",
        "        int b = a; // b is assigned the value of a\n",
        "        System.out.println(\"Value of b after assignment: \" + b);\n",
        "\n",
        "        // Addition and assignment (+=)\n",
        "        int c = 10;\n",
        "        c += 5; // equivalent to c = c + 5\n",
        "        System.out.println(\"Value of c after addition and assignment: \" + c);\n",
        "\n",
        "        // Subtraction and assignment (-=)\n",
        "        int d = 8;\n",
        "        d -= 3; // equivalent to d = d - 3\n",
        "        System.out.println(\"Value of d after subtraction and assignment: \" + d);\n",
        "\n",
        "        // Multiplication and assignment (*=)\n",
        "        int e = 6;\n",
        "        e *= 4; // equivalent to e = e * 4\n",
        "        System.out.println(\"Value of e after multiplication and assignment: \" + e);\n",
        "\n",
        "        // Division and assignment (/=)\n",
        "        double f = 15.0;\n",
        "        f /= 3.0; // equivalent to f = f / 3.0\n",
        "        System.out.println(\"Value of f after division and assignment: \" + f);\n",
        "\n",
        "        // Modulus and assignment (%=)\n",
        "        int g = 17;\n",
        "        g %= 5; // equivalent to g = g % 5\n",
        "        System.out.println(\"Value of g after modulus and assignment: \" + g);\n",
        "\n",
        "        // 6. Unary operators\n",
        "        // Unary Plus (+)\n",
        "        int positiveValue = +5;\n",
        "        System.out.println(\"Unary Plus result: \" + positiveValue);\n",
        "\n",
        "        // Unary Minus (-)\n",
        "        int negativeValue = -8;\n",
        "        System.out.println(\"Unary Minus result: \" + negativeValue);\n",
        "\n",
        "        // Increment (++)\n",
        "        int x = 10;\n",
        "        x++;\n",
        "        System.out.println(\"Increment result: \" + x);\n",
        "\n",
        "        // Decrement (--)\n",
        "        int y = 7;\n",
        "        y--;\n",
        "        System.out.println(\"Decrement result: \" + y);\n",
        "\n",
        "        // Logical NOT (!)\n",
        "        boolean isTrue = true;\n",
        "        boolean notResult = !isTrue;\n",
        "        System.out.println(\"Logical NOT result: \" + notResult);\n",
        "        // 7. Conditional (Ternary) Operator (? :)\n",
        "        int a = 10, b = 20;\n",
        "        int max = (a > b) ? a : b;\n",
        "        System.out.println(\"Maximum value: \" + max);\n",
        "\n",
        "        // 8. instanceof Operator\n",
        "        Object obj = \"Hello, Java!\";\n",
        "        if (obj instanceof String) {\n",
        "            System.out.println(\"obj is an instance of String\");\n",
        "        }\n",
        "    }\n",
        "}\n"
      ]
    },
    {
      "cell_type": "markdown",
      "metadata": {},
      "source": [
        "# **Conditional Statements**\n",
        "* Conditional statements are programming constructs that allow you to execute different blocks of code based on certain conditions, enabling dynamic decision-making in a program.\n",
        "\n",
        "**Why We Use:**\n",
        "* Conditional statements are used to control the flow of a program, making it responsive to varying situations and ensuring specific code blocks are executed only when specific conditions are met.\n",
        "\n",
        "There are primarily two types of conditional statements: if-else and switch.\n",
        "\n",
        "**1. if-else Statement**:\n",
        "* Executes one block of code if a specified condition is true and another block if the condition is false."
      ]
    },
    {
      "cell_type": "code",
      "execution_count": null,
      "metadata": {},
      "outputs": [],
      "source": [
        "int number = 10;\n",
        "if (number > 0) {\n",
        "    System.out.println(\"The number is positive.\");\n",
        "} else {\n",
        "    System.out.println(\"The number is non-positive.\");\n",
        "}"
      ]
    },
    {
      "cell_type": "markdown",
      "metadata": {},
      "source": [
        "**2. Switch Statement**\n",
        "* Selects one of many code blocks to execute based on the value of an expression."
      ]
    },
    {
      "cell_type": "code",
      "execution_count": null,
      "metadata": {},
      "outputs": [],
      "source": [
        "int dayOfWeek = 3;\n",
        "switch (dayOfWeek) {\n",
        "    case 1:\n",
        "        System.out.println(\"Monday\");\n",
        "        break;\n",
        "    case 2:\n",
        "        System.out.println(\"Tuesday\");\n",
        "        break;\n",
        "    // ... (cases for other days)\n",
        "    default:\n",
        "        System.out.println(\"Invalid day\");\n",
        "}"
      ]
    },
    {
      "cell_type": "markdown",
      "metadata": {},
      "source": [
        "# **Loops**\n",
        "* Loops in programming are constructs that repeatedly execute a block of code as long as a certain condition is met, providing a way to efficiently perform repetitive tasks.\n",
        "\n",
        "**Why We Use Loops:**\n",
        "* Loops help automate repetitive tasks, reduce redundancy in code, and allow for more efficient processing of data or actions that need to be repeated.\n",
        "\n",
        "# **Types of Loops:**\n",
        "**1. for Loop:**\n",
        "* Executes a block of code for a specified number of iterations."
      ]
    },
    {
      "cell_type": "code",
      "execution_count": null,
      "metadata": {},
      "outputs": [],
      "source": [
        "for (int i = 1; i <= 3; i++) {\n",
        "    System.out.println(\"Iteration \" + i);\n",
        "}"
      ]
    },
    {
      "cell_type": "markdown",
      "metadata": {},
      "source": [
        "**2. while Loop:**\n",
        "* Repeatedly executes a block of code as long as a specified condition is true."
      ]
    },
    {
      "cell_type": "code",
      "execution_count": null,
      "metadata": {},
      "outputs": [],
      "source": [
        "int count = 1;\n",
        "while (count <= 3) {\n",
        "    System.out.println(\"Count is \" + count);\n",
        "    count++;\n",
        "}"
      ]
    },
    {
      "cell_type": "markdown",
      "metadata": {},
      "source": [
        "**3. do-while Loop:**\n",
        "* Similar to a while loop, but the block of code is executed at least once, even if the condition is initially false."
      ]
    },
    {
      "cell_type": "code",
      "execution_count": null,
      "metadata": {},
      "outputs": [],
      "source": [
        "int x = 1;\n",
        "do {\n",
        "    System.out.println(\"Value of x: \" + x);\n",
        "    x++;\n",
        "} while (x <= 3);"
      ]
    },
    {
      "cell_type": "markdown",
      "metadata": {},
      "source": [
        "# **Object Oriented Programming**\n",
        "\n",
        "**What is OOPs**: \n",
        "* OOPs is a programming paradigm that uses objects, which encapsulate data and behavior, to design and organize code. \n",
        "* It emphasizes concepts like encapsulation, inheritance, polymorphism, and abstraction.\n",
        "\n",
        "**Why we need OOPs:**\n",
        "* OOPs provides a modular and structured approach, enhancing code reusability, maintainability, and scalability. \n",
        "* It models real-world entities and relationships, making it easier to conceptualize and design complex systems.\n",
        "\n",
        "**How to use OOPs in real-time:**\n",
        "* In real-time applications, OOPs is applied by creating classes and objects that represent entities and their interactions. \n",
        "* For example, in Java, consider a simple \"Person\" class:"
      ]
    },
    {
      "cell_type": "code",
      "execution_count": null,
      "metadata": {},
      "outputs": [],
      "source": [
        "public class Person {\n",
        "    // Attributes\n",
        "    private String name;\n",
        "    private int age;\n",
        "\n",
        "    // Constructor\n",
        "    public Person(String name, int age) {\n",
        "        this.name = name;\n",
        "        this.age = age;\n",
        "    }\n",
        "\n",
        "    // Method\n",
        "    public void displayInfo() {\n",
        "        System.out.println(\"Name: \" + name + \", Age: \" + age);\n",
        "    }\n",
        "\n",
        "    public static void main(String[] args) {\n",
        "        // Creating an object of the Person class\n",
        "        Person person1 = new Person(\"John\", 25);\n",
        "\n",
        "        // Calling a method on the object\n",
        "        person1.displayInfo();\n",
        "    }\n",
        "}"
      ]
    },
    {
      "cell_type": "markdown",
      "metadata": {},
      "source": [
        "* In this example, the `Person` class encapsulates attributes (name, age) and behavior (displayInfo method). \n",
        "* Objects of this class represent real-world persons, showcasing the principles of encapsulation and abstraction in OOPs.\n",
        "* The four main principles of Object-Oriented Programming (OOP) are:\n",
        "[oops-types-image](https://media.geeksforgeeks.org/wp-content/uploads/2-241.png)\n",
        "\n",
        "# **1. Class Objects:**\n",
        "* **Class:** A class is a `blueprint` or template that defines the attributes and behaviors common to all objects of that type.\n",
        "* **Objects:** Objects are `instances of a class`, representing specific entities with unique characteristics.\n",
        "* Object have Properties and Behaviours.\n",
        "\n",
        "**Real-time Example:**\n",
        "* Consider the class `Car` as a blueprint for all cars. An object of the \"Car\" class could represent a specific car, such as a `red Honda Accord`."
      ]
    },
    {
      "cell_type": "code",
      "execution_count": null,
      "metadata": {},
      "outputs": [],
      "source": [
        "// Class definition\n",
        "public class Car {\n",
        "    // Attributes\n",
        "    private String color;\n",
        "    private String model;\n",
        "\n",
        "    // Constructor\n",
        "    public Car(String color, String model) {\n",
        "        this.color = color;\n",
        "        this.model = model;\n",
        "    }\n",
        "\n",
        "    // Method to display car information\n",
        "    public void displayInfo() {\n",
        "        System.out.println(\"Car Model: \" + model + \", Color: \" + color);\n",
        "    }\n",
        "\n",
        "    // Main method to demonstrate class and object\n",
        "    public static void main(String[] args) {\n",
        "        // Creating an object of the Car class\n",
        "        Car myCar = new Car(\"Red\", \"Honda Accord\");\n",
        "\n",
        "        // Accessing the object's method\n",
        "        myCar.displayInfo();\n",
        "    }\n",
        "}\n",
        "\n",
        "//Example 2:\n",
        "//Consider a class \"Employee\" representing employees in an IT company. An object of this class could represent a specific software developer.\n",
        "// Class definition\n",
        "public class Employee {\n",
        "    // Attributes\n",
        "    private String name;\n",
        "    private int employeeId;\n",
        "    private String role;\n",
        "\n",
        "    // Constructor\n",
        "    public Employee(String name, int employeeId, String role) {\n",
        "        this.name = name;\n",
        "        this.employeeId = employeeId;\n",
        "        this.role = role;\n",
        "    }\n",
        "\n",
        "    // Method to display employee information\n",
        "    public void displayInfo() {\n",
        "        System.out.println(\"Employee ID: \" + employeeId + \", Name: \" + name + \", Role: \" + role);\n",
        "    }\n",
        "\n",
        "    // Main method to demonstrate class and object\n",
        "    public static void main(String[] args) {\n",
        "        // Creating an object of the Employee class\n",
        "        Employee softwareDeveloper = new Employee(\"Alice\", 101, \"Software Developer\");\n",
        "\n",
        "        // Accessing the object's method\n",
        "        softwareDeveloper.displayInfo();\n",
        "    }\n",
        "}\n"
      ]
    },
    {
      "cell_type": "markdown",
      "metadata": {},
      "source": [
        "* In this example, the \"Car\" class defines attributes like color and model and a method displayInfo() to show the car details. \n",
        "* The main method demonstrates creating an object of the \"Car\" class (myCar) and accessing its method.\n",
        "\n",
        "# **2. Encapsulation:**\n",
        "* Bundling data (attributes) and methods (functions) that operate on the data into a single unit, known as a class.\n",
        "* Example: In a `Car` class, encapsulation involves combining attributes like `speed` and methods like `accelerate()` within the class.\n",
        "* A smartphone is an example of encapsulation where the internal components (hardware) are hidden from the user. The user interacts with the device through an interface (touchscreen) without needing to know the internal workings."
      ]
    },
    {
      "cell_type": "code",
      "execution_count": null,
      "metadata": {},
      "outputs": [],
      "source": [
        "public class Smartphone {\n",
        "    private String brand;\n",
        "    private int batteryLevel;\n",
        "\n",
        "    public Smartphone(String brand) {\n",
        "        this.brand = brand;\n",
        "        this.batteryLevel = 100;\n",
        "    }\n",
        "\n",
        "    public void useApp(String appName) {\n",
        "        // Code to use the specified app\n",
        "        System.out.println(brand + \" is using \" + appName);\n",
        "        batteryLevel -= 5;\n",
        "    }\n",
        "}"
      ]
    },
    {
      "cell_type": "markdown",
      "metadata": {},
      "source": [
        "# **3. Inheritance:**\n",
        "[Inheritance-image](https://media.geeksforgeeks.org/wp-content/uploads/4-104.png)\n",
        "* The mechanism by which a new class (subclass or derived class) inherits properties and behaviors from an existing class (superclass or base class).\n",
        "* Example: If there's a `Vehicle` class, a `Car` class can inherit characteristics from it, inheriting attributes like `fuelType` and methods like `startEngine()`.\n",
        "* In a company, there may be a base class `Employee`, and specific types of employees (e.g., `Manager` and `Developer`) can inherit properties and methods from the base class."
      ]
    },
    {
      "cell_type": "code",
      "execution_count": null,
      "metadata": {},
      "outputs": [],
      "source": [
        "public class Employee {\n",
        "    protected String name;\n",
        "    protected int employeeId;\n",
        "\n",
        "    public Employee(String name, int employeeId) {\n",
        "        this.name = name;\n",
        "        this.employeeId = employeeId;\n",
        "    }\n",
        "\n",
        "    public void displayInfo() {\n",
        "        System.out.println(\"Name: \" + name + \", Employee ID: \" + employeeId);\n",
        "    }\n",
        "}\n",
        "\n",
        "// Subclass inheriting from Employee\n",
        "public class Manager extends Employee {\n",
        "    private String department;\n",
        "\n",
        "    public Manager(String name, int employeeId, String department) {\n",
        "        super(name, employeeId);\n",
        "        this.department = department;\n",
        "    }\n",
        "\n",
        "    // Additional methods specific to Manager\n",
        "    public void manageTeam() {\n",
        "        System.out.println(name + \" is managing the \" + department + \" team.\");\n",
        "    }\n",
        "}"
      ]
    },
    {
      "cell_type": "markdown",
      "metadata": {},
      "source": [
        "# **4. Polymorphism**\n",
        "[Inheritance-image](https://media.geeksforgeeks.org/wp-content/uploads/5-77.png)\n",
        "* The ability of objects of different classes to be treated as objects of a common super class. It allows a single interface to represent various types of entities.\n",
        "* Example: A `Shape` class with a `draw()` method can have subclasses like `Circle` and `Square,` each implementing its own version of the `draw()` method.\n",
        "* A `drawing` application can have a common interface for various tools like `pencil, eraser, and brush`. Each tool behaves differently but follows the same interface."
      ]
    },
    {
      "cell_type": "code",
      "execution_count": null,
      "metadata": {},
      "outputs": [],
      "source": [
        "public interface DrawingTool {\n",
        "    void draw();\n",
        "}\n",
        "\n",
        "public class Pencil implements DrawingTool {\n",
        "    @Override\n",
        "    public void draw() {\n",
        "        System.out.println(\"Drawing with a pencil\");\n",
        "    }\n",
        "}\n",
        "\n",
        "public class Brush implements DrawingTool {\n",
        "    @Override\n",
        "    public void draw() {\n",
        "        System.out.println(\"Painting with a brush\");\n",
        "    }\n",
        "}"
      ]
    },
    {
      "cell_type": "markdown",
      "metadata": {},
      "source": [
        "# **5. Data Abstraction**\n",
        "[Data-Abstraction-image](https://media.geeksforgeeks.org/wp-content/uploads/3-173.png)\n",
        "* The process of hiding the complex reality while exposing only the essential parts. It involves creating abstract classes or interfaces that define a common structure for derived classes.\n",
        " * Example: An abstract class `BankAccount` might have abstract methods like `deposit()` and `withdraw()`, which are implemented by specific types of bank accounts like `SavingsAccount` and `CheckingAccount`.\n",
        " * A `remote` control is an abstraction of a TV. Users interact with the remote `control's buttons` without knowing the complex operations happening inside the TV."
      ]
    },
    {
      "cell_type": "code",
      "execution_count": null,
      "metadata": {},
      "outputs": [],
      "source": [
        "public abstract class RemoteControl {\n",
        "    // Abstract method representing a common action\n",
        "    public abstract void pressButton();\n",
        "}\n",
        "\n",
        "public class TVRemoteControl extends RemoteControl {\n",
        "    @Override\n",
        "    public void pressButton() {\n",
        "        System.out.println(\"Changing TV channel\");\n",
        "        // Additional code for channel changing\n",
        "    }\n",
        "}"
      ]
    },
    {
      "cell_type": "markdown",
      "metadata": {},
      "source": [
        "## Some important points to know about OOP: \n",
        "\n",
        "* OOP treats data as a critical element. \n",
        "* Emphasis is on data rather than procedure. \n",
        "* Decomposition of the problem into simpler modules. \n",
        "* Doesn’t allow data to freely flow in the entire system, ie localized control flow. \n",
        "* Data is protected from external functions. "
      ]
    },
    {
      "cell_type": "markdown",
      "metadata": {},
      "source": [
        "## Advantages of OOPs – \n",
        "\n",
        "* It models the real world very well. \n",
        "* With OOP, programs are easy to understand and maintain. \n",
        "* OOP offers code reusability. Already created classes can be reused without having to write them again. \n",
        "* OOP facilitates the quick development of programs where parallel development of classes is possible. \n",
        "* With OOP, programs are easier to test, manage and debug. "
      ]
    },
    {
      "cell_type": "markdown",
      "metadata": {},
      "source": [
        "## Disadvantages of OOP – \n",
        " \n",
        "* With OOP, classes sometimes tend to be over-generalized. \n",
        "* The relations among classes become superficial at times. \n",
        "* The OOP design is tricky and requires appropriate knowledge. Also, one needs to do proper planning and design for OOP programming. \n",
        "* To program with OOP, the programmer needs proper skills such as design, programming, and thinking in terms of objects and classes, etc. "
      ]
    },
    {
      "cell_type": "markdown",
      "metadata": {},
      "source": [
        "# **Methods**\n",
        "* A method is a block of code within a class that performs a specific task. It is a way to organize code into reusable and modular components.\n",
        "\n",
        "**Why We Use Methods:**\n",
        "* Methods enhance code modularity, readability, and reusability by encapsulating specific functionalities, promoting efficient code organization.\n",
        "\n",
        "**How to Use Methods:**\n",
        "* **Declaration:** Define a method within a class using the syntax` returnType methodName(parameters) { // code }`. To use a method, create an object of the class and call the method using the object.\n",
        "\n",
        "**Real-time Example:**\n",
        "* Consider a class representing an `Employee` in an IT company. A method `calculateSalary` can be used to calculate the monthly salary based on the employee's role and experience."
      ]
    },
    {
      "cell_type": "code",
      "execution_count": null,
      "metadata": {},
      "outputs": [],
      "source": [
        "public class Employee {\n",
        "    private String name;\n",
        "    private String role;\n",
        "    private int experience;\n",
        "\n",
        "    // Constructor\n",
        "    public Employee(String name, String role, int experience) {\n",
        "        this.name = name;\n",
        "        this.role = role;\n",
        "        this.experience = experience;\n",
        "    }\n",
        "\n",
        "    // Method to calculate monthly salary\n",
        "    public double calculateSalary() {\n",
        "        double baseSalary;\n",
        "\n",
        "        // Define base salary based on the employee's role\n",
        "        if (role.equals(\"Developer\")) {\n",
        "            baseSalary = 5000;\n",
        "        } else if (role.equals(\"Manager\")) {\n",
        "            baseSalary = 7000;\n",
        "        } else {\n",
        "            baseSalary = 4000;\n",
        "        }\n",
        "\n",
        "        // Adjust salary based on experience\n",
        "        double experienceBonus = 100 * experience;\n",
        "\n",
        "        // Calculate and return total salary\n",
        "        return baseSalary + experienceBonus;\n",
        "    }\n",
        "\n",
        "    public static void main(String[] args) {\n",
        "        // Creating an object of Employee\n",
        "        Employee softwareEngineer = new Employee(\"John Doe\", \"Developer\", 2);\n",
        "\n",
        "        // Using the calculateSalary method\n",
        "        double salary = softwareEngineer.calculateSalary();\n",
        "        System.out.println(\"Monthly Salary: $\" + salary);\n",
        "    }\n",
        "}"
      ]
    },
    {
      "cell_type": "markdown",
      "metadata": {},
      "source": [
        "* In this example, the `calculateSalary` method encapsulates the logic for salary calculation based on the employee's role and experience. The `main` method demonstrates creating an `Employee` object and using the `calculateSalary` method to determine the monthly salary. This approach enhances code organization and allows for easy salary calculations across various roles.\n",
        "\n",
        "# **Method Overloading**\n",
        "*  Method overloading is a feature in Java that allows a class to have multiple methods with the same name but different parameters (type, number, or order).\n",
        "\n",
        "**Why We Use Method Overloading:**\n",
        "* Method overloading provides a convenient way to create multiple versions of a method to handle different scenarios or input types without cluttering the code with distinct method names.\n",
        "\n",
        "**How to Use Method Overloading:**\n",
        "* Declaration: Define multiple methods with the same name in a class, but with different parameter lists.\n",
        "\n",
        "**Rules for Method Overloading:**\n",
        "* Methods must have the same name.\n",
        "* Methods must have a different number or type of parameters.\n",
        "\n",
        "**Real-time Example:**\n",
        "* Consider a class representing a `DatabaseConnection` that can connect to a database using different parameters, such as username and password or with additional options."
      ]
    },
    {
      "cell_type": "code",
      "execution_count": null,
      "metadata": {},
      "outputs": [],
      "source": [
        "public class DatabaseConnection {\n",
        "    // Method to connect to the database with username and password\n",
        "    public void connect(String username, String password) {\n",
        "        // Database connection logic with username and password\n",
        "        System.out.println(\"Connected to the database with username and password\");\n",
        "    }\n",
        "\n",
        "    // Method overloading to connect with additional options\n",
        "    public void connect(String username, String password, String options) {\n",
        "        // Database connection logic with additional options\n",
        "        System.out.println(\"Connected to the database with additional options: \" + options);\n",
        "    }\n",
        "\n",
        "    public static void main(String[] args) {\n",
        "        DatabaseConnection dbConnection = new DatabaseConnection();\n",
        "\n",
        "        // Using the overloaded methods\n",
        "        dbConnection.connect(\"user1\", \"pass123\");\n",
        "        dbConnection.connect(\"user2\", \"pass456\", \"ssl=true\");\n",
        "    }\n",
        "}\n"
      ]
    },
    {
      "cell_type": "markdown",
      "metadata": {},
      "source": [
        "* In this example, the `DatabaseConnection` class showcases method overloading with the `connect` method.\n",
        "* The first version connects with a username and password, and the second version connects with additional options. \n",
        "* This flexibility allows developers to choose the appropriate method based on their connection requirements.\n",
        "\n",
        "\n",
        "* In Java, memory is divided into several areas, including:\n",
        "## **1. Heap Memory:**\n",
        "* Objects created in Java are allocated memory in the heap.\n",
        "* Heap memory stores objects and their associated data created during the runtime of a Java program.\n",
        "* It is dynamically allocated and managed by the Java Virtual Machine (JVM).\n",
        "\n",
        "## **2. Stack Memory:**\n",
        "* It stores local variables and is used for method call management.\n",
        "* Each thread in a Java program has its own stack.\n",
        "\n",
        "## **3. Method Area (PermGen/Metaspace):**\n",
        "* It stores class-level structures, method information, and static variables.\n",
        "* In Java 7 and earlier, it was known as PermGen; in Java 8 and later, it's Metaspace.\n",
        "  * These memory areas work together to manage the runtime execution of Java programs, facilitating dynamic memory allocation and efficient memory usage.\n",
        "\n",
        "**Link between Stack and Heap:**\n",
        "\n",
        "* **References:** The stack contains references (pointers) to objects in the heap. Local variables and method call information are stored in the stack, while actual object data resides in the heap.\n",
        "* **Lifespan:** The stack manages the scope and lifespan of variables, while the heap holds data structures with a more extended lifespan, surviving beyond the scope of a single method or function call."
      ]
    },
    {
      "cell_type": "markdown",
      "metadata": {},
      "source": [
        "# **ARRAYS**\n",
        "\n",
        "**Need of Array:**\n",
        "Arrays provide a convenient way to store and access multiple values of the same data type under a single variable, facilitating efficient data organization and **manipulation**.\n",
        "\n",
        "**What is Array:**\n",
        "An array is a data structure that holds a fixed-size, ordered collection of elements of the same data type.\n",
        "\n",
        "**How to Access a Particular Array:**\n",
        "* Access an array element using its index (position), starting from 0.\n",
        "* Example: **int value = myArray[2];**\n",
        "\n",
        "**Types of Array:**\n",
        "1. **Single-Dimensional Array:**\n",
        " * Stores elements in a linear fashion.\n",
        " * Example: `int[] myArray = {1, 2, 3, 4, 5};`\n",
        "\n",
        "2. **Two-Dimensional Array:**\n",
        " * Represents a table of elements with rows and columns.\n",
        " * Example: `int[][] myMatrix = {{1, 2, 3}, {4, 5, 6}};`\n",
        "3. **Multi-Dimensional Array:**\n",
        " * Arrays with more than two dimensions.\n",
        " * For example, a three-dimensional array: i`nt[][][] threeDArray = new int[3][3][3];`\n"
      ]
    },
    {
      "cell_type": "code",
      "execution_count": null,
      "metadata": {},
      "outputs": [],
      "source": [
        "public class ArrayExample {\n",
        "    public static void main(String[] args) {\n",
        "        // One-Dimensional Array\n",
        "        int[] numbers = {1, 2, 3, 4, 5};\n",
        "        System.out.print(\"One-Dimensional Array: \");\n",
        "        for (int number : numbers) {\n",
        "            System.out.print(number + \" \");\n",
        "        }\n",
        "        System.out.println();\n",
        "\n",
        "        // Two-Dimensional Array\n",
        "        int[][] matrix = {{1, 2, 3}, {4, 5, 6}};\n",
        "        System.out.println(\"Two-Dimensional Array:\");\n",
        "        for (int[] row : matrix) {\n",
        "            for (int element : row) {\n",
        "                System.out.print(element + \" \");\n",
        "            }\n",
        "            System.out.println();\n",
        "        }\n",
        "\n",
        "        // Multi-Dimensional Array (Three-Dimensional Example)\n",
        "        int[][][] threeDArray = new int[2][2][2];\n",
        "        int value = 1;\n",
        "        System.out.println(\"Three-Dimensional Array:\");\n",
        "        for (int i = 0; i < 2; i++) {\n",
        "            for (int j = 0; j < 2; j++) {\n",
        "                for (int k = 0; k < 2; k++) {\n",
        "                    threeDArray[i][j][k] = value++;\n",
        "                    System.out.print(threeDArray[i][j][k] + \" \");\n",
        "                }\n",
        "                System.out.println();\n",
        "            }\n",
        "            System.out.println();\n",
        "        }\n",
        "    }\n",
        "}"
      ]
    },
    {
      "cell_type": "markdown",
      "metadata": {},
      "source": [
        "4. **Dynamic Array (ArrayList):**\n",
        " * Resizable array-like structure.\n",
        " * Example:\n",
        "    * **ArrayList<Integer> myList = new ArrayList<>();**\n",
        "    * **myList.add(1);**\n",
        "    * **myList.add(2);**"
      ]
    },
    {
      "cell_type": "code",
      "execution_count": null,
      "metadata": {},
      "outputs": [],
      "source": [
        "import java.util.ArrayList;\n",
        "\n",
        "public class ArrayListExample {\n",
        "    public static void main(String[] args) {\n",
        "        // Dynamic Array (ArrayList)\n",
        "        ArrayList<Integer> myList = new ArrayList<>();\n",
        "\n",
        "        // Adding elements to the ArrayList\n",
        "        myList.add(1);\n",
        "        myList.add(2);\n",
        "\n",
        "        // Displaying elements in the ArrayList\n",
        "        System.out.print(\"ArrayList Elements: \");\n",
        "        for (int element : myList) {\n",
        "            System.out.print(element + \" \");\n",
        "        }\n",
        "    }\n",
        "}"
      ]
    },
    {
      "cell_type": "markdown",
      "metadata": {},
      "source": [
        "* In this example, an `ArrayList` named `myList` is declared to store integers. Elements (1 and 2) are then added to the `ArrayList`, and a loop is used to display the elements. `ArrayList` provides dynamic resizing, allowing flexibility in managing collections of data."
      ]
    },
    {
      "cell_type": "markdown",
      "metadata": {},
      "source": [
        "**Declaration, Initialization, and Representation in Memory:**\n",
        "* Declaration: **int[] myArray;**\n",
        "* Initialization: **myArray = new int[5];**\n",
        "* Representation in Memory: Contiguous memory locations storing elements, e.g., [0, 0, 0, 0, 0]\n",
        "\n",
        "**Calculating Address:**\n",
        "* Array element address calculation: address = base_address + (index * size_of_data_type);\n",
        "* Example: **address = baseAddress + (2 * 4);**"
      ]
    },
    {
      "cell_type": "code",
      "execution_count": null,
      "metadata": {},
      "outputs": [],
      "source": [
        "// Declaration\n",
        "int[] myArray;\n",
        "\n",
        "// Initialization\n",
        "myArray = new int[5];\n",
        "\n",
        "// Accessing a particular array element\n",
        "int value = myArray[2];\n",
        "\n",
        "// Calculating address\n",
        "int baseAddress = //...; // Base address of the array\n",
        "int index = 2;\n",
        "int sizeOfDataType = 4; // Assuming integer size is 4 bytes\n",
        "int address = baseAddress + (index * sizeOfDataType);"
      ]
    },
    {
      "cell_type": "markdown",
      "metadata": {},
      "source": [
        "**Note:** Adjust the size_of_data_type and base_address based on the actual data type and memory location in your specific scenario."
      ]
    },
    {
      "cell_type": "markdown",
      "metadata": {},
      "source": [
        "## **Drawbacks of Array:**\n",
        "**1. Fixed Size:**\n",
        "* Arrays in Java have a fixed size, meaning the length is determined at the time of creation and cannot be changed."
      ]
    },
    {
      "cell_type": "code",
      "execution_count": null,
      "metadata": {},
      "outputs": [],
      "source": [
        "int[] fixedSizeArray = new int[5];\n",
        "// Once created, the size cannot be changed."
      ]
    },
    {
      "cell_type": "markdown",
      "metadata": {},
      "source": [
        "**Homogeneous Elements:**\n",
        "* Arrays store elements of the same data type, limiting flexibility when dealing with heterogeneous data."
      ]
    },
    {
      "cell_type": "code",
      "execution_count": null,
      "metadata": {},
      "outputs": [],
      "source": [
        "int[] integerArray = new int[5];\n",
        "// It can only store integers."
      ]
    },
    {
      "cell_type": "markdown",
      "metadata": {},
      "source": [
        "**No Built-in Methods:**\n",
        "* Arrays in Java lack built-in methods for common operations like adding or removing elements."
      ]
    },
    {
      "cell_type": "code",
      "execution_count": null,
      "metadata": {},
      "outputs": [],
      "source": [
        "// No built-in method to easily add or remove elements."
      ]
    },
    {
      "cell_type": "markdown",
      "metadata": {},
      "source": [
        "**Memory Wastage:**\n",
        "* Arrays may lead to memory wastage, especially when a larger size is allocated than needed."
      ]
    },
    {
      "cell_type": "code",
      "execution_count": null,
      "metadata": {},
      "outputs": [],
      "source": [
        "int[] arrayWithWastage = new int[100];\n",
        "// If only a few elements are used, the rest of the memory is wasted."
      ]
    },
    {
      "cell_type": "code",
      "execution_count": null,
      "metadata": {},
      "outputs": [],
      "source": [
        "class Student\n",
        "{\n",
        "    int rollno;\n",
        "    String name;\n",
        "    int marks;\n",
        "}\n",
        "public class arrayOfObjects {\n",
        "    public static void main(String[] args) {\n",
        "       //string array\n",
        "        Student s1=new Student();\n",
        "        s1.rollno=1;\n",
        "        s1.name=\"Sowndu\";\n",
        "        s1.marks = 79;\n",
        "        \n",
        "        Student s2=new Student();\n",
        "        s2.rollno=2;\n",
        "        s2.name=\"Ranju\";\n",
        "        s2.marks = 89;\n",
        "\n",
        "        Student s3=new Student();\n",
        "        s3.rollno=3;\n",
        "        s3.name=\"anju\";\n",
        "        s3.marks = 99;\n",
        "\n",
        "        Student students[] = new Student[3];\n",
        "        students[0]=s1;\n",
        "        students[1]=s2;\n",
        "        students[2]=s3;\n",
        "\n",
        "        for(int i=0;i<students.length;i++){\n",
        "             System.out.println(students[i].name + \" : \" + students[i].marks);\n",
        "        }\n",
        "    }\n",
        "}"
      ]
    },
    {
      "cell_type": "markdown",
      "metadata": {},
      "source": [
        "**Enhanced Loop (or for-each loop):**\n",
        "* The enhanced loop, also known as the for-each loop, provides a simplified way to iterate over elements in an array or a collection.\n",
        "* It enhances code readability and eliminates the need for explicit indexing."
      ]
    },
    {
      "cell_type": "code",
      "execution_count": null,
      "metadata": {},
      "outputs": [],
      "source": [
        "// Traditional for loop\n",
        "int[] numbers = {1, 2, 3, 4, 5};\n",
        "for (int i = 0; i < numbers.length; i++) {\n",
        "    System.out.print(numbers[i] + \" \");\n",
        "}\n",
        "\n",
        "// Enhanced for-each loop\n",
        "for (int number : numbers) {\n",
        "    System.out.print(number + \" \");\n",
        "}"
      ]
    },
    {
      "cell_type": "markdown",
      "metadata": {},
      "source": [
        "# **String**\n",
        "* A string is a sequence of characters in Java, representing textual data. It is an immutable object, meaning its value cannot be changed after creation.\n",
        "\n",
        "**Why we need strings:**\n",
        "* Strings are essential for representing and manipulating text in Java programs. They are used for tasks like storing names, messages, file paths, and more.\n",
        "\n",
        "**How to use:**\n",
        "* You can create and manipulate strings using various methods provided by the `String` class."
      ]
    },
    {
      "cell_type": "code",
      "execution_count": null,
      "metadata": {},
      "outputs": [],
      "source": [
        "String greeting = \"Hello, World!\";\n",
        "System.out.println(greeting);  "
      ]
    },
    {
      "cell_type": "markdown",
      "metadata": {},
      "source": [
        "## **String Methods**\n",
        "**1. length():**\n",
        "* Returns the number of characters in the string."
      ]
    },
    {
      "cell_type": "code",
      "execution_count": null,
      "metadata": {},
      "outputs": [],
      "source": [
        "String text = \"Hello\";\n",
        "int length = text.length(); // length is 5"
      ]
    },
    {
      "cell_type": "markdown",
      "metadata": {},
      "source": [
        "**2. charAt(int i):**\n",
        "* Returns the character at the specified index."
      ]
    },
    {
      "cell_type": "code",
      "execution_count": null,
      "metadata": {},
      "outputs": [],
      "source": [
        "String text = \"Hello\";\n",
        "char character = text.charAt(2); // character is 'l'"
      ]
    },
    {
      "cell_type": "markdown",
      "metadata": {},
      "source": [
        "**3. substring(int i):**\n",
        "* Returns the substring from the specified index to the end."
      ]
    },
    {
      "cell_type": "code",
      "execution_count": null,
      "metadata": {},
      "outputs": [],
      "source": [
        "String text = \"Hello\";\n",
        "String sub = text.substring(2); // sub is \"llo\""
      ]
    },
    {
      "cell_type": "markdown",
      "metadata": {},
      "source": [
        "**4. substring(int i, int j):**\n",
        "* Returns the substring from i to j-1 index."
      ]
    },
    {
      "cell_type": "code",
      "execution_count": null,
      "metadata": {},
      "outputs": [],
      "source": [
        "String text = \"Hello\";\n",
        "String sub = text.substring(1, 4); // sub is \"ell\""
      ]
    },
    {
      "cell_type": "markdown",
      "metadata": {},
      "source": [
        "**5. concat(String str):**\n",
        "* Concatenates the specified string to the end of this string."
      ]
    },
    {
      "cell_type": "code",
      "execution_count": null,
      "metadata": {},
      "outputs": [],
      "source": [
        "String s1 = \"Hello\";\n",
        "String s2 = \" World!\";\n",
        "String result = s1.concat(s2); // result is \"Hello World!\""
      ]
    },
    {
      "cell_type": "markdown",
      "metadata": {},
      "source": [
        "**6. indexOf(String s):**\n",
        "* Returns the index within the string of the first occurrence of the specified string."
      ]
    },
    {
      "cell_type": "code",
      "execution_count": null,
      "metadata": {},
      "outputs": [],
      "source": [
        "String text = \"Hello\";\n",
        "int index = text.indexOf(\"l\"); // index is 2"
      ]
    },
    {
      "cell_type": "markdown",
      "metadata": {},
      "source": [
        "**7. lastIndexOf(String s):**\n",
        "* Returns the index within the string of the last occurrence of the specified string."
      ]
    },
    {
      "cell_type": "code",
      "execution_count": null,
      "metadata": {},
      "outputs": [],
      "source": [
        "String text = \"Hello\";\n",
        "int lastIndex = text.lastIndexOf(\"l\"); // lastIndex is 3"
      ]
    },
    {
      "cell_type": "markdown",
      "metadata": {},
      "source": [
        "**8. equals(Object otherObj):**\n",
        "* Compares this string to the specified object."
      ]
    },
    {
      "cell_type": "code",
      "execution_count": null,
      "metadata": {},
      "outputs": [],
      "source": [
        "String s1 = \"Hello\";\n",
        "String s2 = \"Hello\";\n",
        "boolean isEqual = s1.equals(s2); // isEqual is true"
      ]
    },
    {
      "cell_type": "markdown",
      "metadata": {},
      "source": [
        "**9. equalsIgnoreCase(String anotherString):**\n",
        "* Compares strings, ignoring case considerations."
      ]
    },
    {
      "cell_type": "code",
      "execution_count": null,
      "metadata": {},
      "outputs": [],
      "source": [
        "String s1 = \"Hello\";\n",
        "String s2 = \"hello\";\n",
        "boolean isEqualIgnoreCase = s1.equalsIgnoreCase(s2); // isEqualIgnoreCase is true"
      ]
    },
    {
      "cell_type": "markdown",
      "metadata": {},
      "source": [
        "**10. compareTo(String anotherString):**\n",
        "* Compares two strings lexicographically."
      ]
    },
    {
      "cell_type": "code",
      "execution_count": null,
      "metadata": {},
      "outputs": [],
      "source": [
        "String s1 = \"Apple\";\n",
        "String s2 = \"Banana\";\n",
        "int result = s1.compareTo(s2);\n",
        "// result < 0: s1 comes before s2\n",
        "// result = 0: s1 and s2 are equal\n",
        "// result > 0: s1 comes after s2"
      ]
    },
    {
      "cell_type": "markdown",
      "metadata": {},
      "source": [
        "**11. compareToIgnoreCase(String anotherString):**\n",
        "* Compares two strings lexicographically, ignoring case considerations."
      ]
    },
    {
      "cell_type": "code",
      "execution_count": null,
      "metadata": {},
      "outputs": [],
      "source": [
        "String s1 = \"apple\";\n",
        "String s2 = \"Banana\";\n",
        "int result = s1.compareToIgnoreCase(s2);\n",
        "// result < 0: s1 comes before s2\n",
        "// result = 0: s1 and s2 are equal\n",
        "// result > 0: s1 comes after s2"
      ]
    },
    {
      "cell_type": "markdown",
      "metadata": {},
      "source": [
        "**12. toLowerCase():**\n",
        "* Converts all characters in the string to lowercase."
      ]
    },
    {
      "cell_type": "code",
      "execution_count": null,
      "metadata": {},
      "outputs": [],
      "source": [
        "String text = \"Hello\";\n",
        "String lowercase = text.toLowerCase(); // lowercase is \"hello\""
      ]
    },
    {
      "cell_type": "markdown",
      "metadata": {},
      "source": [
        "**13. toUpperCase():**\n",
        "* Converts all characters in the string to uppercase."
      ]
    },
    {
      "cell_type": "code",
      "execution_count": null,
      "metadata": {},
      "outputs": [],
      "source": [
        "String text = \"Hello\";\n",
        "String uppercase = text.toUpperCase(); // uppercase is \"HELLO\""
      ]
    },
    {
      "cell_type": "markdown",
      "metadata": {},
      "source": [
        "**14. trim():**\n",
        "* Returns a copy of the string by removing whitespaces at both ends."
      ]
    },
    {
      "cell_type": "code",
      "execution_count": null,
      "metadata": {},
      "outputs": [],
      "source": [
        "String text = \"  Hello  \";\n",
        "String trimmed = text.trim(); // trimmed is \"Hello\""
      ]
    },
    {
      "cell_type": "markdown",
      "metadata": {},
      "source": [
        "**15. replace(char oldChar, char newChar):**\n",
        "* Returns a new string by replacing all occurrences of oldChar with newChar."
      ]
    },
    {
      "cell_type": "code",
      "execution_count": null,
      "metadata": {},
      "outputs": [],
      "source": [
        "String text = \"feeksforfeeks\";\n",
        "String replaced = text.replace('f', 'g'); // replaced is \"geeksorgeeks\""
      ]
    },
    {
      "cell_type": "markdown",
      "metadata": {},
      "source": [
        "* There are two main classes for representing strings:\n",
        "## **1. Immutable String:**\n",
        "* Immutable strings are strings whose values cannot be changed after they are created. In Java, the String class is immutable.\n",
        "* Once a string is created, any operation that appears to modify it actually creates a new string."
      ]
    },
    {
      "cell_type": "code",
      "execution_count": null,
      "metadata": {},
      "outputs": [],
      "source": [
        "String immutableString = \"Hello\";\n",
        "immutableString = immutableString.concat(\" World\"); // Creates a new string\n",
        "System.out.println(immutableString); // Output: Hello World"
      ]
    },
    {
      "cell_type": "markdown",
      "metadata": {},
      "source": [
        "## **2. Mutable String (StringBuffer and StringBuilder):**\n",
        "* Mutable strings, represented by `StringBuffer` and `StringBuilder` in Java, can be modified in place, leading to more efficient string manipulation.\n",
        "* `StringBuffer` is thread-safe but has slightly more overhead, while `StringBuilder` is not thread-safe but generally faster."
      ]
    },
    {
      "cell_type": "code",
      "execution_count": null,
      "metadata": {},
      "outputs": [],
      "source": [
        "//Example (StringBuffer):\n",
        "StringBuffer mutableBuffer = new StringBuffer(\"Hello\");\n",
        "mutableBuffer.append(\" World\"); // Modifies the existing buffer\n",
        "System.out.println(mutableBuffer); // Output: Hello World\n",
        "\n",
        "//Example (StringBuilder):\n",
        "StringBuilder mutableBuilder = new StringBuilder(\"Hello\");\n",
        "mutableBuilder.append(\" World\"); // Modifies the existing builder\n",
        "System.out.println(mutableBuilder); // Output: Hello World"
      ]
    },
    {
      "cell_type": "markdown",
      "metadata": {},
      "source": [
        "* Difference between StringBuffer and StringBuilder in Java:\n",
        "\n",
        "**1. Thread Safety:**\n",
        "**StringBuffer: **Thread-safe. All methods in the StringBuffer class are synchronized, making it suitable for use in a multi-threaded environment.\n",
        "**StringBuilder:** Not thread-safe. Methods in the StringBuilder class are not synchronized, providing better performance in a single-threaded environment.\n",
        "\n",
        "**2. Performance:**\n",
        "**StringBuffer:** Slightly slower due to the overhead of synchronization.\n",
        "**StringBuilder:** Faster in a single-threaded environment due to the absence of synchronization.\n",
        "\n",
        "**3. Synchronization:**\n",
        "**StringBuffer:** All methods are synchronized, ensuring that only one thread can access the methods at a time.\n",
        "**StringBuilder:** Not synchronized, allowing multiple threads to access its methods concurrently.\n",
        "\n",
        "**4. Use Cases:**\n",
        "\n",
        "**StringBuffer:** Suitable when thread safety is a requirement, such as in a multi-threaded application.\n",
        "**StringBuilder:** Preferable in a single-threaded environment for better performance.\n",
        "\n",
        "**5. Constructor:**\n",
        "**StringBuffer:** Has additional constructors inherited from the AbstractStringBuilder class to support synchronization.\n",
        "**StringBuilder:** Directly extends AbstractStringBuilder and has constructors tailored for non-synchronized use.\n",
        "\n",
        "**6. Mutable Operations:**\n",
        "**StringBuffer:** Supports mutable operations, such as appending, inserting, and deleting, with thread-safe mechanisms.\n",
        "**StringBuilder:** Supports the same mutable operations but without the overhead of synchronization."
      ]
    },
    {
      "cell_type": "markdown",
      "metadata": {},
      "source": [
        "**Static Keyword:**\n",
        "* The `static` keyword in Java is used to declare members (variables, methods, or nested classes) that belong to the class rather than instances of the class.\n",
        "* Static members are shared among all instances of the class and can be accessed using the class name.\n",
        "\n",
        "**Why Use Static Keyword:**\n",
        "* To share common data among all instances of a class.\n",
        "* To associate a method with the class rather than with instances, creating utility methods or factory methods.\n",
        "* To create constants that should remain the same across all instances.\n",
        "\n",
        "* How to use\n",
        "\n",
        "**1. Static Variable:**\n",
        "* A static variable in Java is a class-level variable that is shared among all instances of the class.\n",
        "* It is declared with the static keyword, and there is only one copy of the variable that is shared by all objects of the class."
      ]
    },
    {
      "cell_type": "code",
      "execution_count": null,
      "metadata": {},
      "outputs": [],
      "source": [
        "class MyClass {\n",
        "    static int count = 0; // Static variable shared among all instances\n",
        "}\n",
        "// Accessing the static variable\n",
        "int currentCount = MyClass.count;"
      ]
    },
    {
      "cell_type": "markdown",
      "metadata": {},
      "source": [
        "**2. Static Method:**\n",
        "* A static method in Java is associated with the class rather than with instances of the class.\n",
        "* It is declared with the static keyword, and it can be called using the class name without creating an instance of the class."
      ]
    },
    {
      "cell_type": "code",
      "execution_count": null,
      "metadata": {},
      "outputs": [],
      "source": [
        "class MathOperations {\n",
        "    static int add(int a, int b) {\n",
        "        return a + b; // Static method\n",
        "    }\n",
        "}\n",
        "// Calling the static method\n",
        "int result = MathOperations.add(3, 5);"
      ]
    },
    {
      "cell_type": "markdown",
      "metadata": {},
      "source": [
        "**3. Static Block:**\n",
        "* A static block in Java is a block of code enclosed in curly braces that is executed when the class is loaded into memory.\n",
        "* It is declared using the `static` keyword and is commonly used for class-level initialization."
      ]
    },
    {
      "cell_type": "code",
      "execution_count": null,
      "metadata": {},
      "outputs": [],
      "source": [
        "class InitializationExample {\n",
        "    static {\n",
        "        // Static block for initialization\n",
        "        System.out.println(\"Static block is executed\");\n",
        "    }\n",
        "}\n",
        "// Class instantiation triggers the static block\n",
        "InitializationExample instance = new InitializationExample();"
      ]
    },
    {
      "cell_type": "markdown",
      "metadata": {},
      "source": [
        "## **Encapsulation:**\n",
        "* Encapsulation in Java is the concept of bundling data (attributes) and methods (functions) that operate on the data into a single unit, known as a class.\n",
        "* It restricts direct access to some of an object's components and can prevent the accidental modification of data, promoting better code organization and maintenance.\n",
        "\n",
        "**Why Use Encapsulation:**\n",
        "* Encapsulation enhances the security and integrity of an object by hiding its internal details and exposing only what is necessary. \n",
        "* It helps achieve better modularization, reusability, and maintainability in code.\n",
        "\n",
        "**How to Use Encapsulation:**\n",
        "* Declare the attributes of a class as private to restrict direct access.\n",
        "* Provide public getter and setter methods to access and modify the private attributes."
      ]
    },
    {
      "cell_type": "code",
      "execution_count": null,
      "metadata": {},
      "outputs": [],
      "source": [
        "class Student {\n",
        "    private String name; // Private attribute\n",
        "\n",
        "    // Getter method for encapsulated attribute\n",
        "    public String getName() {\n",
        "        return name;\n",
        "    }\n",
        "\n",
        "    // Setter method for encapsulated attribute\n",
        "    public void setName(String newName) {\n",
        "        this.name = newName;\n",
        "    }\n",
        "}\n",
        "\n",
        "// Usage\n",
        "Student student = new Student();\n",
        "student.setName(\"John\"); // Using setter to modify the private attribute\n",
        "String studentName = student.getName(); // Using getter to access the private attribute"
      ]
    },
    {
      "cell_type": "markdown",
      "metadata": {},
      "source": [
        "* In this example, the n`ame attribute is encapsulated by declaring it as private and providing public getter and setter methods. \n",
        "* This encapsulation ensures controlled access to the `name` attribute and allows for additional logic, validation, or security measures within the getter and setter methods."
      ]
    },
    {
      "cell_type": "markdown",
      "metadata": {},
      "source": [
        "## **Getter and Setter:**\n",
        "* Getter and setter methods are used to access and modify the private fields of a class, encapsulating the data and providing controlled access.\n",
        "* A getter retrieves the value of a private field, while a setter sets or modifies the value."
      ]
    },
    {
      "cell_type": "code",
      "execution_count": null,
      "metadata": {},
      "outputs": [],
      "source": [
        "class Person {\n",
        "    private String name; // Private field\n",
        "\n",
        "    // Getter method\n",
        "    public String getName() {\n",
        "        return name;\n",
        "    }\n",
        "\n",
        "    // Setter method\n",
        "    public void setName(String newName) {\n",
        "        this.name = newName;\n",
        "    }\n",
        "}\n",
        "\n",
        "// Usage\n",
        "Person person = new Person();\n",
        "person.setName(\"John\");\n",
        "String personName = person.getName(); // Accessing the value using a getter"
      ]
    },
    {
      "cell_type": "markdown",
      "metadata": {},
      "source": [
        "* In this example, getName is the getter method that retrieves the value of the private field name, and setName is the setter method that sets or modifies the value of name. \n",
        "* Getter and setter methods help maintain control over access to the private fields of a class.\n",
        "\n",
        "\n",
        "## **Why Use Getter and Setter:**\n",
        "\n",
        "**Encapsulation:**\n",
        "* Getter and setter methods provide a controlled way to access and modify the private fields of a class, encapsulating the internal state.\n",
        "* This encapsulation hides the implementation details, promoting better code organization and maintenance.\n",
        "\n",
        "**Validation and Logic:**\n",
        "* By using setter methods, you can include validation logic to ensure that the assigned values meet certain criteria before updating the field.\n",
        "* Getters and setters allow you to add additional logic, such as logging or calculations, without affecting the external code."
      ]
    },
    {
      "cell_type": "code",
      "execution_count": null,
      "metadata": {},
      "outputs": [],
      "source": [
        "class Student {\n",
        "    private int age; // Private field\n",
        "\n",
        "    // Getter method\n",
        "    public int getAge() {\n",
        "        return age;\n",
        "    }\n",
        "\n",
        "    // Setter method with validation logic\n",
        "    public void setAge(int newAge) {\n",
        "        if (newAge >= 0 && newAge <= 120) { // Validating age\n",
        "            this.age = newAge;\n",
        "        } else {\n",
        "            System.out.println(\"Invalid age\");\n",
        "        }\n",
        "    }\n",
        "}\n",
        "\n",
        "// Usage\n",
        "Student student = new Student();\n",
        "student.setAge(20); // Setting age with validation\n",
        "int currentAge = student.getAge(); // Getting age with getter"
      ]
    },
    {
      "cell_type": "markdown",
      "metadata": {},
      "source": [
        "* In this example, the getter (`getAge`) provides access to the private field `age`, and the setter (`setAge`) allows controlled modification with validation logic to ensure that the age is within a valid range. \n",
        "* This encapsulation helps maintain a consistent and valid state for the `Student` object.\n",
        "\n",
        "\n",
        "# **`this` Keyword:**\n",
        "* The `this` keyword in Java is a reference to the current object, allowing you to refer to the instance variables and methods of the current class.\n",
        "* It is often used to disambiguate between instance variables and method parameters with the same name."
      ]
    },
    {
      "cell_type": "code",
      "execution_count": null,
      "metadata": {},
      "outputs": [],
      "source": [
        "class MyClass {\n",
        "    private int x;\n",
        "\n",
        "    // Constructor with parameter and using 'this' to distinguish\n",
        "    public MyClass(int x) {\n",
        "        this.x = x; // 'this' refers to the instance variable\n",
        "    }\n",
        "\n",
        "    // Method using 'this' to refer to the instance variable\n",
        "    public void printX() {\n",
        "        System.out.println(\"Value of x: \" + this.x);\n",
        "    }\n",
        "}"
      ]
    },
    {
      "cell_type": "markdown",
      "metadata": {},
      "source": [
        "# **`super` Keyword:**\n",
        "* The `super` keyword in Java is used to refer to the immediate parent class object.\n",
        "* It is often used to call the parent class methods, access parent class fields, or invoke the parent class constructor."
      ]
    },
    {
      "cell_type": "code",
      "execution_count": null,
      "metadata": {},
      "outputs": [],
      "source": [
        "class Parent {\n",
        "    void display() {\n",
        "        System.out.println(\"Parent class display method\");\n",
        "    }\n",
        "}\n",
        "\n",
        "class Child extends Parent {\n",
        "    void display() {\n",
        "        super.display(); // Calling the parent class method using 'super'\n",
        "        System.out.println(\"Child class display method\");\n",
        "    }\n",
        "}"
      ]
    },
    {
      "cell_type": "markdown",
      "metadata": {},
      "source": [
        "In the `Child` class example, `super.display()` is used to invoke the `display` method of the parent class.\n",
        "\n",
        "# **Constructor:**\n",
        "* A constructor in Java is a special method used for initializing objects. It has the same name as the class and is called automatically when an object is created.\n",
        "* Constructors are used to set initial values, allocate resources, or perform any other necessary setup for an object.\n",
        "\n",
        "# **Why Use Constructor:**\n",
        "* Constructors ensure that objects are properly initialized when created, providing a way to set initial values for the object's attributes and perform any necessary setup.\n",
        "\n",
        "# **How to Use Constructor:**\n",
        "* Define a method with the same name as the class, and this method will automatically serve as the constructor.\n",
        "* You can have multiple constructors with different parameter lists, allowing for constructor overloading."
      ]
    },
    {
      "cell_type": "code",
      "execution_count": null,
      "metadata": {},
      "outputs": [],
      "source": [
        "class Car {\n",
        "    String model;\n",
        "    int year;\n",
        "\n",
        "    // Constructor with parameters\n",
        "    public Car(String carModel, int carYear) {\n",
        "        model = carModel;\n",
        "        year = carYear;\n",
        "    }\n",
        "\n",
        "    // Constructor without parameters (default constructor)\n",
        "    public Car() {\n",
        "        model = \"Unknown\";\n",
        "        year = 0;\n",
        "    }\n",
        "}\n",
        "\n",
        "// Creating objects using constructors\n",
        "Car myCar = new Car(\"Toyota\", 2022);\n",
        "Car defaultCar = new Car(); // Using the default constructor"
      ]
    },
    {
      "cell_type": "markdown",
      "metadata": {},
      "source": [
        "* In this example, the `Car` class has two constructors. The first one (`public Car(String carModel, int carYear`)) is used to create a `Car` object with specified values, and the second one (`public Car()`) is the default constructor used when no parameters are provided.\n",
        "\n",
        "## **Types of Constructor**\n",
        "**1. Default Constructor(Compiler defined Constructer):**\n",
        "* A default constructor is a constructor with no parameters. It is automatically provided by Java if no constructors are explicitly defined in a class."
      ]
    },
    {
      "cell_type": "code",
      "execution_count": null,
      "metadata": {},
      "outputs": [],
      "source": [
        "class MyClass {\n",
        "    // Default constructor is implicitly provided if not defined\n",
        "}"
      ]
    },
    {
      "cell_type": "markdown",
      "metadata": {},
      "source": [
        "**2. User Defined Constructer(Parameterized Constructor):**\n",
        "* A parameterized constructor is a constructor with parameters that allows you to initialize object attributes with specified values during object creation."
      ]
    },
    {
      "cell_type": "code",
      "execution_count": null,
      "metadata": {},
      "outputs": [],
      "source": [
        "class Car {\n",
        "    String model;\n",
        "    int year;\n",
        "\n",
        "    // Parameterized constructor\n",
        "    public Car(String carModel, int carYear) {\n",
        "        model = carModel;\n",
        "        year = carYear;\n",
        "    }\n",
        "}\n",
        "\n",
        "// Creating an object with a parameterized constructor\n",
        "Car myCar = new Car(\"Toyota\", 2022);"
      ]
    },
    {
      "cell_type": "markdown",
      "metadata": {},
      "source": [
        "* There are two types\n",
        "\n",
        "**a. Single Parameter Constructor:**\n",
        "* A single parameter constructor is a constructor with only one parameter. It allows you to initialize an object with a single value during its creation."
      ]
    },
    {
      "cell_type": "code",
      "execution_count": null,
      "metadata": {},
      "outputs": [],
      "source": [
        "class Book {\n",
        "    String title;\n",
        "\n",
        "    // Single parameter constructor\n",
        "    public Book(String bookTitle) {\n",
        "        title = bookTitle;\n",
        "    }\n",
        "}\n",
        "\n",
        "// Creating an object with a single parameter constructor\n",
        "Book myBook = new Book(\"Java Programming\");"
      ]
    },
    {
      "cell_type": "markdown",
      "metadata": {},
      "source": [
        "**b. Multiple Parameter Constructor:**\n",
        "* A multiple parameter constructor is a constructor with more than one parameter. \n",
        "* It enables you to initialize an object with multiple values during its creation."
      ]
    },
    {
      "cell_type": "code",
      "execution_count": null,
      "metadata": {},
      "outputs": [],
      "source": [
        "class Rectangle {\n",
        "    int length;\n",
        "    int width;\n",
        "\n",
        "    // Multiple parameter constructor\n",
        "    public Rectangle(int rectLength, int rectWidth) {\n",
        "        length = rectLength;\n",
        "        width = rectWidth;\n",
        "    }\n",
        "}\n",
        "\n",
        "// Creating an object with a multiple parameter constructor\n",
        "Rectangle myRectangle = new Rectangle(5, 10);"
      ]
    },
    {
      "cell_type": "markdown",
      "metadata": {},
      "source": [
        "* In these examples, the single parameter constructor takes one argument (`bookTitle`), and the multiple parameter constructor takes two arguments (`rectLength` and `rectWidth`). \n",
        "* These constructors provide flexibility in initializing objects based on the specific number of values needed.\n",
        "\n",
        "**3. Copy Constructor:**\n",
        "* A copy constructor is used to create a new object by copying the attributes of an existing object of the same class."
      ]
    },
    {
      "cell_type": "code",
      "execution_count": null,
      "metadata": {},
      "outputs": [],
      "source": [
        "class Person {\n",
        "    String name;\n",
        "\n",
        "    // Copy constructor\n",
        "    public Person(Person original) {\n",
        "        name = original.name;\n",
        "    }\n",
        "}\n",
        "\n",
        "// Creating an object using a copy constructor\n",
        "Person person1 = new Person();\n",
        "Person person2 = new Person(person1); // Copying attributes from person1"
      ]
    },
    {
      "cell_type": "markdown",
      "metadata": {},
      "source": [
        "## **Naming Convention in Java:**\n",
        "* Naming conventions in Java are a set of rules and guidelines for naming classes, variables, methods, and other elements to ensure code readability and maintainability.\n",
        "* Common conventions include using CamelCase for class names, camelCase for variables and methods, and all-uppercase with underscores for constants."
      ]
    },
    {
      "cell_type": "code",
      "execution_count": null,
      "metadata": {},
      "outputs": [],
      "source": [
        "// Class name using CamelCase\n",
        "class MyClassName {\n",
        "    // Variable and method names using camelCase\n",
        "    private int myVariable;\n",
        "\n",
        "    // Constants using all-uppercase with underscores\n",
        "    public static final int MAX_LIMIT = 100;\n",
        "\n",
        "    // Method using camelCase\n",
        "    public void myMethod() {\n",
        "        // Code here\n",
        "    }\n",
        "}"
      ]
    },
    {
      "cell_type": "markdown",
      "metadata": {},
      "source": [
        "* In this example, the class name is `MyClassName` using CamelCase, the variable is `myVariable` using camelCase, and the constant is MAX`_LIMIT using all-uppercase with underscores. Following naming conventions helps make the code more readable and consistent across projects.\n",
        "\n",
        "# **Inheritance:**\n",
        "* Inheritance in Java is a mechanism that allows a class to acquire the properties and behaviors of another class, promoting code reuse and creating a hierarchy of related classes.\n",
        "\n",
        "**Need of Inheritance:**\n",
        "* Inheritance in Java allows a class to inherit properties and behaviors from another class. \n",
        "* It promotes code reusability, establishes a relationship between classes, and enables the creation of a hierarchy where a subclass inherits attributes and methods from a superclass.\n",
        "\n",
        "**Why Use Inheritance:**\n",
        "* Inheritance facilitates code reuse by allowing a new class to inherit properties and behaviors from an existing class, promoting modularity and reducing redundancy in code.\n",
        "\n",
        "**How to Use Inheritance:**\n",
        "* Create a new class (subclass) using the extends keyword followed by the name of the existing class (superclass). The subclass inherits the attributes and methods of the superclass.\n",
        "\n",
        "**Types of Inheritance:**\n",
        "\n",
        "**1. Single Inheritance:**\n",
        "* A class inherits from only one superclass."
      ]
    },
    {
      "cell_type": "code",
      "execution_count": null,
      "metadata": {},
      "outputs": [],
      "source": [
        "class Animal {\n",
        "    void eat() {\n",
        "        System.out.println(\"Animal is eating\");\n",
        "    }\n",
        "}\n",
        "\n",
        "class Dog extends Animal {\n",
        "    void bark() {\n",
        "        System.out.println(\"Dog is barking\");\n",
        "    }\n",
        "}"
      ]
    },
    {
      "cell_type": "markdown",
      "metadata": {},
      "source": [
        "**2. Multiple Inheritance (Through Interfaces):**\n",
        "* A class can implement multiple interfaces, achieving a form of multiple inheritance."
      ]
    },
    {
      "cell_type": "code",
      "execution_count": null,
      "metadata": {},
      "outputs": [],
      "source": [
        "interface Phone {\n",
        "    void call();\n",
        "}\n",
        "\n",
        "interface Computer {\n",
        "    void browse();\n",
        "}\n",
        "\n",
        "class SmartPhone implements Phone, Computer {\n",
        "    public void call() {\n",
        "        System.out.println(\"SmartPhone is making a call\");\n",
        "    }\n",
        "\n",
        "    public void browse() {\n",
        "        System.out.println(\"SmartPhone is browsing the internet\");\n",
        "    }\n",
        "}"
      ]
    },
    {
      "cell_type": "markdown",
      "metadata": {},
      "source": [
        "**3. Multilevel Inheritance:**\n",
        "* A class is derived from another class, and then another class is derived from it, forming a chain of inheritance."
      ]
    },
    {
      "cell_type": "code",
      "execution_count": null,
      "metadata": {},
      "outputs": [],
      "source": [
        "class Vehicle {\n",
        "    void start() {\n",
        "        System.out.println(\"Vehicle is starting\");\n",
        "    }\n",
        "}\n",
        "\n",
        "class Car extends Vehicle {\n",
        "    void drive() {\n",
        "        System.out.println(\"Car is driving\");\n",
        "    }\n",
        "}\n",
        "\n",
        "class ElectricCar extends Car {\n",
        "    void charge() {\n",
        "        System.out.println(\"ElectricCar is charging\");\n",
        "    }\n",
        "}"
      ]
    },
    {
      "cell_type": "markdown",
      "metadata": {},
      "source": [
        "**4. Hierarchical Inheritance:**\n",
        "* Multiple classes inherit from a single class."
      ]
    },
    {
      "cell_type": "code",
      "execution_count": null,
      "metadata": {},
      "outputs": [],
      "source": [
        "class Person {\n",
        "    String name;\n",
        "\n",
        "    Person(String name) {\n",
        "        this.name = name;\n",
        "    }\n",
        "\n",
        "    void display() {\n",
        "        System.out.println(\"Person: \" + name);\n",
        "    }\n",
        "}\n",
        "\n",
        "class Employee extends Person {\n",
        "    String designation;\n",
        "\n",
        "    Employee(String name, String designation) {\n",
        "        super(name);\n",
        "        this.designation = designation;\n",
        "    }\n",
        "\n",
        "    void work() {\n",
        "        System.out.println(\"Employee is working\");\n",
        "    }\n",
        "}\n",
        "\n",
        "class Manager extends Person {\n",
        "    String department;\n",
        "\n",
        "    Manager(String name, String department) {\n",
        "        super(name);\n",
        "        this.department = department;\n",
        "    }\n",
        "\n",
        "    void manage() {\n",
        "        System.out.println(\"Manager is managing\");\n",
        "    }\n",
        "}"
      ]
    },
    {
      "cell_type": "markdown",
      "metadata": {},
      "source": [
        "# **Method Overriding:**\n",
        "* Method overriding in Java allows a subclass to provide a specific implementation of a method that is already defined in its superclass. \n",
        "* It enables polymorphism, where the same method name can behave differently in different classes.\n",
        "* We use method overriding to achieve runtime polymorphism and to provide a specialized implementation of a method in a subclass.\n",
        "\n",
        "**How to Use Method Overriding:**\n",
        "* In the subclass, declare a method with the same signature as the superclass method you want to override. \n",
        "* Use the @Override annotation to explicitly indicate that you are intending to override a method."
      ]
    },
    {
      "cell_type": "code",
      "execution_count": null,
      "metadata": {},
      "outputs": [],
      "source": [
        "class Shape {\n",
        "    void draw() {\n",
        "        System.out.println(\"Drawing a generic shape\");\n",
        "    }\n",
        "}\n",
        "\n",
        "class Circle extends Shape {\n",
        "    @Override\n",
        "    void draw() {\n",
        "        System.out.println(\"Drawing a circle\");\n",
        "    }\n",
        "}"
      ]
    },
    {
      "cell_type": "markdown",
      "metadata": {},
      "source": [
        "* Consider a framework for graphical user interfaces (GUI) where there is a base class `UIComponent` with a method `render()`.\n",
        "* Subclasses like `Button`, `TextBox`, and `CheckBox` can override the `render()` method to provide their specific rendering logic.\n",
        "* This allows the framework to treat all UI components uniformly, but each component can have its unique rendering behavior.\n",
        "\n",
        "# **Packages:**\n",
        "* In Java, packages are a way to organize and group related classes and interfaces. \n",
        "*They provide a mechanism for modularizing code and avoiding naming conflicts.\n",
        "* We use packages to create a hierarchical namespace, improve code organization, and support access control by defining a clear structure for our classes.\n",
        "\n",
        "**How to Use Packages:**\n",
        "* Declare the package at the beginning of your Java source file using the package keyword. Place your class files in the corresponding directory structure."
      ]
    },
    {
      "cell_type": "code",
      "execution_count": null,
      "metadata": {},
      "outputs": [],
      "source": [
        "// Declaration of a package at the beginning of a Java source file\n",
        "package com.example.myapp;\n",
        "\n",
        "// Class definition within the package\n",
        "public class MyClass {\n",
        "    // Class implementation here\n",
        "}"
      ]
    },
    {
      "cell_type": "markdown",
      "metadata": {},
      "source": [
        "**Real-time IT Industry Example:**\n",
        "* Consider a Java web application where classes related to database access are organized into a package named `com.example.myapp.data`. \n",
        "* This package may contain classes like `DatabaseConnector`, `DataFetcher`, and `DataWriter`. Organizing these classes into a package helps developers easily locate and manage database-related functionality within the application.\n",
        "\n",
        "# **Access Modifiers:**\n",
        "*Access modifiers in Java control the visibility and accessibility of classes, methods, and variables. They define the scope of the elements in terms of accessibility from other parts of the code.\n",
        "*We use access modifiers to encapsulate and control access to classes and their members, promoting proper encapsulation, and managing the visibility of code components.\n",
        "\n",
        "**How to Use Access Modifiers:**\n",
        "* Apply access modifiers to class declarations, method signatures, and variable declarations. \n",
        "* The main access modifiers are `public`, `protected`, `default` (package-private), and `private`.\n",
        "\n",
        "**Types of Access Modifiers:**\n",
        "\n",
        "**1. Public:**\n",
        "* Allows unrestricted access to the class, method, or variable from any other class."
      ]
    },
    {
      "cell_type": "code",
      "execution_count": null,
      "metadata": {},
      "outputs": [],
      "source": [
        "// Public access modifier\n",
        "public class MyClass {\n",
        "    // Public method\n",
        "    public void myMethod() {\n",
        "        System.out.println(\"Public method in MyClass\");\n",
        "    }\n",
        "}"
      ]
    },
    {
      "cell_type": "markdown",
      "metadata": {},
      "source": [
        "**2. Protected:**\n",
        "* Allows access to the class, method, or variable from within the same package and by subclasses, even if they are in a different package."
      ]
    },
    {
      "cell_type": "code",
      "execution_count": null,
      "metadata": {},
      "outputs": [],
      "source": [
        "// Parent class with protected method\n",
        "class Parent {\n",
        "    protected void protectedMethod() {\n",
        "        System.out.println(\"Protected method in Parent class\");\n",
        "    }\n",
        "}\n",
        "\n",
        "// Subclass inheriting from Parent\n",
        "class Child extends Parent {\n",
        "    void useProtectedMethod() {\n",
        "        protectedMethod(); // Can access protected method from the parent class\n",
        "    }\n",
        "}"
      ]
    },
    {
      "cell_type": "markdown",
      "metadata": {},
      "source": [
        "**3. Default (Package-Private):**\n",
        "* Allows access to the class, method, or variable only within the same package."
      ]
    },
    {
      "cell_type": "code",
      "execution_count": null,
      "metadata": {},
      "outputs": [],
      "source": [
        "// Default access modifier (package-private) class\n",
        "class PackagePrivateClass {\n",
        "    void packagePrivateMethod() {\n",
        "        System.out.println(\"Package-private method in PackagePrivateClass\");\n",
        "    }\n",
        "}"
      ]
    },
    {
      "cell_type": "markdown",
      "metadata": {},
      "source": [
        "**4. Private:**\n",
        "* Restricts access to the class, method, or variable only within the same class."
      ]
    },
    {
      "cell_type": "code",
      "execution_count": null,
      "metadata": {},
      "outputs": [],
      "source": [
        "// Public class with private members\n",
        "public class Example {\n",
        "    private int privateVariable;\n",
        "\n",
        "    // Private method\n",
        "    private void privateMethod() {\n",
        "        System.out.println(\"Private method in Example class\");\n",
        "    }\n",
        "\n",
        "    // Public method calling private method\n",
        "    public void callPrivateMethod() {\n",
        "        privateMethod();\n",
        "    }\n",
        "}"
      ]
    },
    {
      "cell_type": "markdown",
      "metadata": {},
      "source": [
        "# **Polymorphism:**\n",
        "* Polymorphism in Java allows objects of different types to be treated as objects of a common type. It enables methods to be called on objects without knowing their specific types at compile time.\n",
        "* We use polymorphism to achieve flexibility and extensibility in code, making it easier to add new classes or behaviors without modifying existing code.\n",
        "\n",
        "**Why Use Polymorphism:**\n",
        "* Polymorphism in Java allows for flexibility and extensibility in code by enabling a single interface or method name to represent different behaviors in various classes. \n",
        "* This makes it easier to add new classes or behaviors without modifying existing code, promoting code reuse and maintainability.\n",
        "\n",
        "**How to Use Polymorphism:**\n",
        "* Polymorphism is achieved through method overriding and interface implementation. It allows a single method name to represent different behaviors in different classes or instances."
      ]
    },
    {
      "cell_type": "code",
      "execution_count": null,
      "metadata": {},
      "outputs": [],
      "source": [
        "// Shape interface with a draw method\n",
        "interface Shape {\n",
        "    void draw();\n",
        "}\n",
        "\n",
        "// Circle and Square classes implementing the Shape interface\n",
        "class Circle implements Shape {\n",
        "    @Override\n",
        "    public void draw() {\n",
        "        System.out.println(\"Drawing a circle\");\n",
        "    }\n",
        "}\n",
        "\n",
        "class Square implements Shape {\n",
        "    @Override\n",
        "    public void draw() {\n",
        "        System.out.println(\"Drawing a square\");\n",
        "    }\n",
        "}\n",
        "\n",
        "// Usage of polymorphism\n",
        "public class DrawingApp {\n",
        "    public static void main(String[] args) {\n",
        "        Shape circle = new Circle();\n",
        "        Shape square = new Square();\n",
        "\n",
        "        // Both objects can be treated as Shapes\n",
        "        circle.draw(); // Calls draw method of Circle\n",
        "        square.draw(); // Calls draw method of Square\n",
        "    }\n",
        "}"
      ]
    },
    {
      "cell_type": "markdown",
      "metadata": {},
      "source": [
        "* In this example, `Circle` and `Square` classes implement the `Shape` interface, and objects of these classes can be treated as `Shape` instances in the `DrawingApp`. \n",
        "* This allows for a flexible and extensible design where new shapes can be added without modifying the `DrawingApp` code.\n",
        "\n",
        "*Dynamic Method Dispatch in Java:*\n",
        "* Dynamic method dispatch is a feature in Java that enables the JVM to determine the appropriate method to invoke at runtime, based on the actual object type rather than the reference type.\n",
        "* It is crucial for achieving polymorphism when using method overriding in subclasses."
      ]
    },
    {
      "cell_type": "code",
      "execution_count": null,
      "metadata": {},
      "outputs": [],
      "source": [
        "// Shape interface with a draw method\n",
        "interface Shape {\n",
        "    void draw();\n",
        "}\n",
        "\n",
        "// Circle class implementing the Shape interface\n",
        "class Circle implements Shape {\n",
        "    @Override\n",
        "    public void draw() {\n",
        "        System.out.println(\"Drawing a circle\");\n",
        "    }\n",
        "}\n",
        "\n",
        "// Square class implementing the Shape interface\n",
        "class Square implements Shape {\n",
        "    @Override\n",
        "    public void draw() {\n",
        "        System.out.println(\"Drawing a square\");\n",
        "    }\n",
        "}\n",
        "\n",
        "// Usage of dynamic method dispatch\n",
        "public class DrawingApp {\n",
        "    public static void main(String[] args) {\n",
        "        Shape circle = new Circle();\n",
        "        Shape square = new Square();\n",
        "\n",
        "        // Dynamic method dispatch based on the actual object type\n",
        "        circle.draw(); // Calls draw method of Circle\n",
        "        square.draw(); // Calls draw method of Square\n",
        "    }\n",
        "}"
      ]
    },
    {
      "cell_type": "markdown",
      "metadata": {},
      "source": [
        "# **Final Keyword:**\n",
        "* In Java, the `final` keyword is used to restrict the modification of classes, methods, and variables. \n",
        "* When applied to a class, it prevents the class from being subclassed. When applied to a method, it prevents the method from being overridden. \n",
        "* When applied to a variable, it makes the variable a constant.\n",
        "\n",
        "**Why Use final:**\n",
        "* `final` is used to enforce immutability, prevent further extension or modification, and create constants for variables.\n",
        "\n",
        "**How to Use final:**\n",
        "* For a class: `final class ClassName { /* Class implementation */ }`\n",
        "* For a method: `public final void methodName() { /* Method implementation */ }`\n",
        "* For a variable: `public static final int CONSTANT_VALUE = 42;`"
      ]
    },
    {
      "cell_type": "code",
      "execution_count": null,
      "metadata": {},
      "outputs": [],
      "source": [
        "// Example of final class, method, and variable\n",
        "\n",
        "// Final class that cannot be subclassed\n",
        "final class ImmutableClass {\n",
        "    // Final method that cannot be overridden\n",
        "    public final void displayMessage() {\n",
        "        System.out.println(\"This is a final method\");\n",
        "    }\n",
        "\n",
        "    // Final variable acting as a constant\n",
        "    public static final int MAX_VALUE = 100;\n",
        "}"
      ]
    },
    {
      "cell_type": "markdown",
      "metadata": {},
      "source": [
        "* In this example, `ImmutableClass` is a final class with a final method `displayMessage()` and a final variable `MAX_VALUE`. \n",
        "* These declarations ensure that the class, method, and variable cannot be further modified, extended, or overridden.\n",
        "\n",
        "**Object Class in Java** - `equals()`, `toString()`, `hashCode()`:\n",
        "\n",
        "The `Object` class in Java is the root class for all classes. It provides three important methods: `equals()`, `toString()`, and `hashCode()`.\n",
        "* `equals()` is used to compare the content of two objects, `toString()` returns a string representation of the object, and `hashCode()` returns a unique identifier for an object."
      ]
    },
    {
      "cell_type": "code",
      "execution_count": null,
      "metadata": {},
      "outputs": [],
      "source": [
        "public class Employee {\n",
        "    private String name;\n",
        "    private int id;\n",
        "\n",
        "    // Constructors, getters, setters...\n",
        "\n",
        "    @Override\n",
        "    public boolean equals(Object obj) {\n",
        "        if (this == obj) return true;\n",
        "        if (obj == null || getClass() != obj.getClass()) return false;\n",
        "        Employee employee = (Employee) obj;\n",
        "        return id == employee.id && Objects.equals(name, employee.name);\n",
        "    }\n",
        "\n",
        "    @Override\n",
        "    public int hashCode() {\n",
        "        return Objects.hash(name, id);\n",
        "    }\n",
        "\n",
        "    @Override\n",
        "    public String toString() {\n",
        "        return \"Employee{\" + \"name='\" + name + '\\'' + \", id=\" + id + '}';\n",
        "    }\n",
        "\n",
        "    public static void main(String[] args) {\n",
        "        Employee emp1 = new Employee(\"John\", 101);\n",
        "        Employee emp2 = new Employee(\"John\", 101);\n",
        "\n",
        "        // Using equals()\n",
        "        System.out.println(\"Are emp1 and emp2 equal? \" + emp1.equals(emp2));\n",
        "\n",
        "        // Using toString()\n",
        "        System.out.println(\"String representation of emp1: \" + emp1.toString());\n",
        "\n",
        "        // Using hashCode()\n",
        "        System.out.println(\"Hash code of emp1: \" + emp1.hashCode());\n",
        "    }\n",
        "}"
      ]
    },
    {
      "cell_type": "markdown",
      "metadata": {},
      "source": [
        "* In this example, the `Employee` class overrides `equals()`, `toString()`, and `hashCode()` methods for proper comparison, string representation, and hash code generation. \n",
        "* The `main` method demonstrates the usage of these methods.\n",
        "\n",
        "# **Upcasting and Downcasting:**\n",
        "\n",
        "* **Upcasting** is the process of casting an object to its superclass type. It is implicitly done by the compiler.\n",
        "* **Downcasting** is the process of casting an object to its subclass type. It requires an explicit cast and may result in a runtime exception if not done carefully.\n",
        "\n",
        "**Why Use Upcasting and Downcasting:**\n",
        "* Upcasting is used to treat an object of a subclass as an object of its superclass, enabling more generic programming.\n",
        "* Downcasting is used to access the specific features of a subclass when an object is referenced by its superclass type.\n",
        "\n",
        "**How to Use Upcasting and Downcasting:**\n",
        "* Consider an application dealing with employees where you have a base class `Employee` and two subclasses `Manager` and `Developer`."
      ]
    },
    {
      "cell_type": "code",
      "execution_count": null,
      "metadata": {},
      "outputs": [],
      "source": [
        "class Employee {\n",
        "    String name;\n",
        "    \n",
        "    Employee(String name) {\n",
        "        this.name = name;\n",
        "    }\n",
        "    void displayInfo() {\n",
        "        System.out.println(\"Employee: \" + name);\n",
        "    }\n",
        "}\n",
        "\n",
        "class Manager extends Employee {\n",
        "    Manager(String name) {\n",
        "        super(name);\n",
        "    }\n",
        "    void manageTeam() {\n",
        "        System.out.println(name + \" is managing the team.\");\n",
        "    }\n",
        "}\n",
        "\n",
        "class Developer extends Employee {\n",
        "    Developer(String name) {\n",
        "        super(name);\n",
        "    }\n",
        "    void writeCode() {\n",
        "        System.out.println(name + \" is writing code.\");\n",
        "    }\n",
        "}"
      ]
    },
    {
      "cell_type": "code",
      "execution_count": null,
      "metadata": {},
      "outputs": [],
      "source": [
        "public class EmployeeApp {\n",
        "    public static void main(String[] args) {\n",
        "        // Upcasting: Treating specific employees as generic employees\n",
        "        Employee emp1 = new Manager(\"John\");\n",
        "        Employee emp2 = new Developer(\"Alice\");\n",
        "\n",
        "        // Downcasting: Accessing specific methods based on the actual type\n",
        "        if (emp1 instanceof Manager) {\n",
        "            Manager manager = (Manager) emp1;\n",
        "            manager.manageTeam();\n",
        "        }\n",
        "\n",
        "        if (emp2 instanceof Developer) {\n",
        "            Developer developer = (Developer) emp2;\n",
        "            developer.writeCode();\n",
        "        }\n",
        "\n",
        "        // Using common methods without downcasting\n",
        "        emp1.displayInfo();\n",
        "        emp2.displayInfo();\n",
        "    }\n",
        "}"
      ]
    },
    {
      "cell_type": "markdown",
      "metadata": {},
      "source": [
        "* Upcasting is performed when creating `Manager` and `Developer` objects and assigning them to `Employee` references.\n",
        "* Downcasting is done to access specific methods like `manageTeam()` and `writeCode()` based on the actual types.\n",
        "* Common methods like `displayInfo()` can be used without downcasting.\n",
        "\n",
        "# **Wrapper Class:**\n",
        "* In Java, a wrapper class is used to represent primitive data types as objects. It provides a way to convert primitive types into objects so that they can be included in activities that require objects, like collections and generics.\n",
        "* Wrapper classes are useful when dealing with classes that only accept objects, as they allow primitive data types to be used in such scenarios.\n",
        "\n",
        "**Why Use Wrapper Class:**\n",
        "* Wrapper classes provide a way to work with primitive data types as objects, allowing them to be used in collections, generics, and other scenarios where objects are required.\n",
        "\n",
        "**How to Use Wrapper Class:**\n",
        "* Example for converting a primitive int to an Integer "
      ]
    },
    {
      "cell_type": "code",
      "execution_count": null,
      "metadata": {},
      "outputs": [],
      "source": [
        "int primitiveInt = 42;\n",
        "\n",
        "// Using wrapper class\n",
        "Integer wrappedInt = Integer.valueOf(primitiveInt);\n",
        "\n",
        "// Unboxing: Converting back to primitive type\n",
        "int backToPrimitive = wrappedInt.intValue();\n",
        "\n",
        "\n",
        "public class WrapperExample {\n",
        "    public static void main(String[] args) {\n",
        "        // Primitive int\n",
        "        int primitiveInt = 42;\n",
        "\n",
        "        // Using wrapper class Integer\n",
        "        Integer wrappedInt = Integer.valueOf(primitiveInt);\n",
        "\n",
        "        // Unboxing: Converting back to primitive type\n",
        "        int backToPrimitive = wrappedInt.intValue();\n",
        "\n",
        "        System.out.println(\"Original: \" + primitiveInt);\n",
        "        System.out.println(\"Wrapped: \" + wrappedInt);\n",
        "        System.out.println(\"Back to Primitive: \" + backToPrimitive);\n",
        "    }\n",
        "}"
      ]
    },
    {
      "cell_type": "markdown",
      "metadata": {},
      "source": [
        "* In this example, `Integer` is a wrapper class for the primitive data type `int`. \n",
        "* The code demonstrates the conversion between the primitive type and its wrapper class, known as boxing and unboxing."
      ]
    }
  ],
  "metadata": {
    "colab": {
      "cell_execution_strategy": "setup",
      "provenance": []
    },
    "kernelspec": {
      "display_name": "java",
      "name": "java"
    },
    "language_info": {
      "name": "java"
    }
  },
  "nbformat": 4,
  "nbformat_minor": 0
}
