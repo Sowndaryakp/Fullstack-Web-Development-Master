{
  "cells": [
    {
      "cell_type": "markdown",
      "metadata": {
        "id": "ZoITrd8MsApt"
      },
      "source": [
        "Install Java kernal to run java code here."
      ]
    },
    {
      "cell_type": "code",
      "execution_count": null,
      "metadata": {
        "id": "rscw4ZMMNO-5"
      },
      "outputs": [],
      "source": [
        "!wget https://github.com/SpencerPark/IJava/releases/download/v1.3.0/ijava-1.3.0.zip\n",
        "!unzip ijava-1.3.0.zip\n",
        "!python install.py"
      ]
    },
    {
      "cell_type": "markdown",
      "metadata": {},
      "source": [
        "## **JAVA**"
      ]
    },
    {
      "cell_type": "markdown",
      "metadata": {},
      "source": [
        "**Beginersbook JAVA**\n",
        "https://beginnersbook.com/java-tutorial-for-beginners-with-examples/"
      ]
    },
    {
      "cell_type": "markdown",
      "metadata": {},
      "source": [
        "## **Java OOPs**"
      ]
    },
    {
      "cell_type": "markdown",
      "metadata": {},
      "source": [
        "### **Theoretical Understanding of OOP Concepts:**\n",
        "\n",
        "**1. Classes and Objects:**\n",
        "\n",
        "* Understand the distinction between `classes (blueprints)` and `objects (instances)`.\n",
        "* Classes encapsulate data for the object and define its `behavior through methods`.\n",
        "* Objects represent real-world entities and have `attributes (fields)` and `behaviors (methods)`.\n",
        "\n",
        "**2. Abstraction:**\n",
        "\n",
        "* Understand abstraction as the process of `hiding unnecessary details` while showing the essential features of an object.\n",
        "* `Abstract classes and methods`.\n",
        "* `Interfaces` and their role in abstraction.\n",
        "* Designing systems with clear abstractions for better maintainability.\n",
        "\n",
        "**3. Encapsulation:**\n",
        "\n",
        "* Understand the concept of `bundling data and methods` that operate on the data within a `single unit` (class).\n",
        "* Access modifiers (public, private, protected) to control access to class members.\n",
        "* Benefits of encapsulation: `data hiding`, abstraction, and modularity.\n",
        "\n",
        "\n",
        "**4. Inheritance:**\n",
        "\n",
        "* Learn about the 'is-a' relationship between classes.\n",
        "* Superclass (parent class) and subclass (child class) relationship.\n",
        "* Inherited attributes and methods.\n",
        "* Avoiding code `duplication` through inheritance.\n",
        "\n",
        "\n",
        "**5. Polymorphism:**\n",
        "\n",
        "* Learn about the ability of objects to take on different forms.\n",
        "* `Method overriding` (runtime polymorphism) and `method overloading` (compile-time polymorphism).\n",
        "* Dynamic method dispatch.\n",
        "* Use of `interfaces and abstract classes` to achieve polymorphism.\n",
        "\n",
        "\n",
        "\n",
        "**6. Association, Aggregation, and Composition:**\n",
        "\n",
        "* Understand different types of relationships between classes.\n",
        "* **Association:** a relationship between two objects with no ownership.\n",
        "* **Aggregation:** a 'has-a' relationship where one object contains another as a part.\n",
        "* **Composition:** a strong form of aggregation where the contained object has no independent existence outside the container."
      ]
    },
    {
      "cell_type": "markdown",
      "metadata": {},
      "source": [
        "## **SPRING FRAMEWORK**"
      ]
    },
    {
      "cell_type": "markdown",
      "metadata": {},
      "source": [
        "What is Spring Framework?\n",
        "* The Spring Framework is a comprehensive toolset that provides various functionalities to help developers build robust and maintainable Java applications efficiently."
      ]
    },
    {
      "cell_type": "code",
      "execution_count": null,
      "metadata": {},
      "outputs": [],
      "source": []
    }
  ],
  "metadata": {
    "colab": {
      "cell_execution_strategy": "setup",
      "provenance": []
    },
    "kernelspec": {
      "display_name": "java",
      "name": "java"
    },
    "language_info": {
      "name": "java"
    }
  },
  "nbformat": 4,
  "nbformat_minor": 0
}
