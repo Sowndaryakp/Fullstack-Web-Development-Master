{
  "cells": [
    {
      "cell_type": "markdown",
      "metadata": {
        "id": "ZoITrd8MsApt"
      },
      "source": [
        "Install Java kernal to run java code here."
      ]
    },
    {
      "cell_type": "code",
      "execution_count": null,
      "metadata": {
        "id": "rscw4ZMMNO-5"
      },
      "outputs": [],
      "source": [
        "!wget https://github.com/SpencerPark/IJava/releases/download/v1.3.0/ijava-1.3.0.zip\n",
        "!unzip ijava-1.3.0.zip\n",
        "!python install.py"
      ]
    },
    {
      "cell_type": "markdown",
      "metadata": {},
      "source": [
        "# **Java Basic Programs**"
      ]
    },
    {
      "cell_type": "markdown",
      "metadata": {},
      "source": [
        "# **Check LEAP YEAR**"
      ]
    },
    {
      "cell_type": "code",
      "execution_count": null,
      "metadata": {},
      "outputs": [],
      "source": [
        "public class LeapYearChecker {\n",
        "    public static boolean isLeapYear(int year) {\n",
        "        if (year % 400 == 0) {\n",
        "            return true; // If divisible by 400, it's a leap year\n",
        "        } else if (year % 100 == 0) {\n",
        "            return false; // If divisible by 100 but not by 400, it's not a leap year\n",
        "        } else {\n",
        "            return year % 4 == 0; // If divisible by 4 but not by 100, it's a leap year\n",
        "        }\n",
        "    }\n",
        "\n",
        "    public static void main(String[] args) {\n",
        "        int year = 2024;\n",
        "        if (isLeapYear(year)) {\n",
        "            System.out.println(year + \" is a leap year.\");\n",
        "        } else {\n",
        "            System.out.println(year + \" is not a leap year.\");\n",
        "        }\n",
        "    }\n",
        "}"
      ]
    },
    {
      "cell_type": "markdown",
      "metadata": {},
      "source": [
        "* We create a method `isLeapYear` which takes an integer parameter year and returns a boolean indicating whether it's a leap `year` or not.\n",
        "* Inside the method, we first check if the year is divisible by 4, if yes, then it could potentially be a leap year.\n",
        "* Then, we check if the year is divisible by 100. If it is, it might not be a leap year, except if it's also divisible by 400.\n",
        "* Finally, we return `true` if the year is divisible by 400, or if it's divisible by 4 but not by 100. Otherwise, we return `false`.\n",
        "* In the `main` method, we demonstrate how to use the isLeapYear method by passing a year and printing whether it's a leap year or not."
      ]
    },
    {
      "cell_type": "markdown",
      "metadata": {},
      "source": [
        "# **Check Vowel or Consonant**"
      ]
    },
    {
      "cell_type": "code",
      "execution_count": null,
      "metadata": {},
      "outputs": [],
      "source": [
        "public class VowelConsonantChecker {\n",
        "    public static boolean isVowel(char ch) {\n",
        "        // Convert the character to lowercase for case-insensitive comparison\n",
        "        ch = Character.toLowerCase(ch);\n",
        "        \n",
        "        // Check if the character is a vowel\n",
        "        return ch == 'a' || ch == 'e' || ch == 'i' || ch == 'o' || ch == 'u';\n",
        "    }\n",
        "\n",
        "    public static void main(String[] args) {\n",
        "        char ch = 'a';\n",
        "        if (Character.isLetter(ch)) {\n",
        "            if (isVowel(ch)) {\n",
        "                System.out.println(ch + \" is a vowel.\");\n",
        "            } else {\n",
        "                System.out.println(ch + \" is a consonant.\");\n",
        "            }\n",
        "        } else {\n",
        "            System.out.println(ch + \" is not a valid alphabet.\");\n",
        "        }\n",
        "    }\n",
        "}\n"
      ]
    },
    {
      "cell_type": "markdown",
      "metadata": {},
      "source": [
        "* We create a method `isVowel` which takes a character parameter `ch` and returns a boolean indicating whether it's a vowel or not.\n",
        "* Inside the method, we first convert the character to lowercase using `Character.toLowerCase(ch)` to ensure case-insensitive comparison.\n",
        "* Then, we check if the character is equal to any of the vowels ('a', 'e', 'i', 'o', 'u'). If it is, we return `true`, indicating it's a vowel.\n",
        "* In the main method, we first check if the given character is a letter using `Character.isLetter(ch)`.\n",
        "* If it's a letter, we call the `isVowel` method to check if it's a vowel or a consonant and print the appropriate message.\n",
        "* If the character is not a letter, we print that it's not a valid alphabet."
      ]
    },
    {
      "cell_type": "markdown",
      "metadata": {},
      "source": [
        "# **Java Recursion Programs**"
      ]
    },
    {
      "cell_type": "markdown",
      "metadata": {},
      "source": [
        "## **Program 1: Reverse a number using while Loop**"
      ]
    },
    {
      "cell_type": "code",
      "execution_count": null,
      "metadata": {},
      "outputs": [],
      "source": [
        "public class ReverseNumberWhileLoop {\n",
        "    public static int reverseNumber(int num) {\n",
        "        int reversed = 0;\n",
        "        while (num != 0) {\n",
        "            int digit = num % 10;\n",
        "            reversed = reversed * 10 + digit;\n",
        "            num /= 10;\n",
        "        }\n",
        "        return reversed;\n",
        "    }\n",
        "\n",
        "    public static void main(String[] args) {\n",
        "        int number = 12345;\n",
        "        int reversedNumber = reverseNumber(number);\n",
        "        System.out.println(\"Reversed number: \" + reversedNumber);\n",
        "    }\n",
        "}\n"
      ]
    },
    {
      "cell_type": "markdown",
      "metadata": {},
      "source": [
        "* This program uses a while loop to reverse the given number.\n",
        "* Inside the while loop, we repeatedly extract the last digit of the number using the modulus operator (%).\n",
        "* We then add this digit to the reversed number after multiplying it by 10 to shift its position.\n",
        "* Finally, we update the original number by dividing it by 10 to remove the last digit.\n",
        "* This process continues until the original number becomes zero, and the reversed number is returned."
      ]
    },
    {
      "cell_type": "markdown",
      "metadata": {},
      "source": [
        "## **Program 2: Reverse a number using for Loop**"
      ]
    },
    {
      "cell_type": "code",
      "execution_count": null,
      "metadata": {},
      "outputs": [],
      "source": [
        "public class ReverseNumberForLoop {\n",
        "    public static int reverseNumber(int num) {\n",
        "        int reversed = 0;\n",
        "        for (; num != 0; num /= 10) {\n",
        "            int digit = num % 10;\n",
        "            reversed = reversed * 10 + digit;\n",
        "        }\n",
        "        return reversed;\n",
        "    }\n",
        "\n",
        "    public static void main(String[] args) {\n",
        "        int number = 12345;\n",
        "        int reversedNumber = reverseNumber(number);\n",
        "        System.out.println(\"Reversed number: \" + reversedNumber);\n",
        "    }\n",
        "}\n"
      ]
    },
    {
      "cell_type": "markdown",
      "metadata": {},
      "source": [
        "* This program uses a for loop to reverse the given number.\n",
        "* The loop initialization, condition, and iteration are all handled within the for loop declaration itself.\n",
        "* Inside the loop, we perform the same steps as in Program 1 to reverse the number.\n",
        "* This approach is more concise than using a while loop, as the loop control variables are defined directly within the loop."
      ]
    },
    {
      "cell_type": "markdown",
      "metadata": {},
      "source": [
        "## **Program 3: Reverse a number using recursion**"
      ]
    },
    {
      "cell_type": "code",
      "execution_count": null,
      "metadata": {},
      "outputs": [],
      "source": [
        "public class ReverseNumberRecursion {\n",
        "    public static int reverseNumber(int num, int reversed) {\n",
        "        if (num == 0) {\n",
        "            return reversed;\n",
        "        }\n",
        "        return reverseNumber(num / 10, reversed * 10 + num % 10);\n",
        "    }\n",
        "\n",
        "    public static void main(String[] args) {\n",
        "        int number = 12345;\n",
        "        int reversedNumber = reverseNumber(number, 0);\n",
        "        System.out.println(\"Reversed number: \" + reversedNumber);\n",
        "    }\n",
        "}"
      ]
    },
    {
      "cell_type": "markdown",
      "metadata": {},
      "source": [
        "* In this version, the `reverseNumber` method takes two parameters: num, which represents the remaining digits of the number to be reversed, and reversed, which accumulates the reversed number.\n",
        "* In each recursive call, we divide the number num by 10 to remove the last digit, and we multiply the `reversed` number by 10 and add the last digit of num to it.\n",
        "* The base case occurs when `num` becomes 0, indicating that all digits have been processed. At this point, we return the `reversed` number.\n",
        "* In the `main` method, we call reverseNumber with the original number and an initial `reversed` value of 0 to start the recursion."
      ]
    },
    {
      "cell_type": "markdown",
      "metadata": {},
      "source": [
        "# **Java String Programs**"
      ]
    },
    {
      "cell_type": "markdown",
      "metadata": {},
      "source": [
        "## **Java Program to Convert char to String and String to Char**"
      ]
    },
    {
      "cell_type": "code",
      "execution_count": null,
      "metadata": {},
      "outputs": [],
      "source": [
        "public class StringToChar {\n",
        "    public static void main(String[] args) {\n",
        "        // Convert char to String\n",
        "        char ch = 'a';\n",
        "        String charToString = Character.toString(ch);\n",
        "        System.out.println(\"Char to String : \"+ charToString);\n",
        "        \n",
        "        // Convert String to char\n",
        "        String str = \"Hello\";\n",
        "        char[] charArray = str.toCharArray();\n",
        "        System.out.println(\"String to Characters: \");\n",
        "        for(char chr: charArray){\n",
        "            System.out.println(chr);\n",
        "        }\n",
        "    }\n",
        "}"
      ]
    },
    {
      "cell_type": "markdown",
      "metadata": {},
      "source": [
        "* To convert a character to a string, we can use the `Character.toString(char)` method. In the program, we declare a character ch and then convert it to a string using `Character.toString(ch)`.\n",
        "* To convert a string to characters, we can use the `toCharArray()` method of the `String` class. This method returns an array of characters containing the characters of the string. In the program, we declare a string str and then convert it to an array of characters using `str.toCharArray()`. We then iterate over this array and print each character."
      ]
    },
    {
      "cell_type": "markdown",
      "metadata": {},
      "source": [
        "## **Java Program to find duplicate characters in a String**"
      ]
    },
    {
      "cell_type": "code",
      "execution_count": null,
      "metadata": {},
      "outputs": [],
      "source": [
        "import java.util.HashMap;\n",
        "import java.util.Map;\n",
        "\n",
        "public class DuplicateCharacters {\n",
        "    public static void findDuplicateCharacters(String str) {\n",
        "        // Create a HashMap to store characters and their frequencies\n",
        "        Map<Character, Integer> charFrequencyMap = new HashMap<>();\n",
        "\n",
        "        // Convert the string to character array\n",
        "        char[] charArray = str.toCharArray();\n",
        "\n",
        "        // Iterate through the character array\n",
        "        for (char ch : charArray) {\n",
        "            // If the character is already present in the map, increment its frequency\n",
        "            if (charFrequencyMap.containsKey(ch)) {\n",
        "                charFrequencyMap.put(ch, charFrequencyMap.get(ch) + 1);\n",
        "            } else {\n",
        "                // If the character is encountered for the first time, add it to the map with frequency 1\n",
        "                charFrequencyMap.put(ch, 1);\n",
        "            }\n",
        "        }\n",
        "\n",
        "        // Print characters with frequency greater than 1 (indicating duplicates)\n",
        "        System.out.println(\"Duplicate characters in the string '\" + str + \"':\");\n",
        "        for (Map.Entry<Character, Integer> entry : charFrequencyMap.entrySet()) {\n",
        "            if (entry.getValue() > 1) {\n",
        "                System.out.println(entry.getKey() + \": \" + entry.getValue() + \" times\");\n",
        "            }\n",
        "        }\n",
        "    }\n",
        "\n",
        "    public static void main(String[] args) {\n",
        "        String str = \"hello world\";\n",
        "        findDuplicateCharacters(str);\n",
        "    }\n",
        "}\n"
      ]
    },
    {
      "cell_type": "markdown",
      "metadata": {},
      "source": [
        "* We use a HashMap to store characters from the string as keys and their frequencies as values.\n",
        "* We convert the input string to a character array to iterate over each character efficiently.\n",
        "* While iterating through the character array, we check if each character is already present in the HashMap.\n",
        "* If it's present, we increment its frequency. Otherwise, we add it to the HashMap with a frequency of 1.\n",
        "* After processing all characters, we iterate over the HashMap and print characters with frequencies greater than 1, indicating duplicates."
      ]
    },
    {
      "cell_type": "markdown",
      "metadata": {},
      "source": [
        "## **Java Program to check Palindrome String**\n"
      ]
    },
    {
      "cell_type": "markdown",
      "metadata": {},
      "source": [
        "### **1. Using Stack**"
      ]
    },
    {
      "cell_type": "code",
      "execution_count": null,
      "metadata": {},
      "outputs": [],
      "source": [
        "import java.util.Stack;\n",
        "\n",
        "public class PalindromeUsingStack {\n",
        "    public static boolean isPalindrome(String str) {\n",
        "        Stack<Character> stack = new Stack<>();\n",
        "\n",
        "        // Push each character of the string onto the stack\n",
        "        for (char ch : str.toCharArray()) {\n",
        "            stack.push(ch);\n",
        "        }\n",
        "\n",
        "        // Pop each character from the stack and compare with characters in the original string\n",
        "        for (char ch : str.toCharArray()) {\n",
        "            if (stack.pop() != ch) {\n",
        "                return false; // If characters don't match, it's not a palindrome\n",
        "            }\n",
        "        }\n",
        "\n",
        "        return true; // If all characters match, it's a palindrome\n",
        "    }\n",
        "\n",
        "    public static void main(String[] args) {\n",
        "        String str = \"radar\";\n",
        "        if (isPalindrome(str)) {\n",
        "            System.out.println(str + \" is a palindrome.\");\n",
        "        } else {\n",
        "            System.out.println(str + \" is not a palindrome.\");\n",
        "        }\n",
        "    }\n",
        "}\n"
      ]
    },
    {
      "cell_type": "markdown",
      "metadata": {},
      "source": [
        "* We create a stack to store characters from the input string.\n",
        "* We iterate over each character in the string and push them onto the stack.\n",
        "* Then, we iterate over the string again and pop characters from the stack, comparing them with characters from the string.\n",
        "* If at any point the characters don't match, we return `false`, indicating that the string is not a palindrome.\n",
        "* If all characters match, we return `true`, indicating that the string is a palindrome."
      ]
    },
    {
      "cell_type": "markdown",
      "metadata": {},
      "source": [
        "### **2. Using Queue**"
      ]
    },
    {
      "cell_type": "code",
      "execution_count": null,
      "metadata": {},
      "outputs": [],
      "source": [
        "import java.util.LinkedList;\n",
        "import java.util.Queue;\n",
        "\n",
        "public class PalindromeUsingQueue {\n",
        "    public static boolean isPalindrome(String str) {\n",
        "        Queue<Character> queue = new LinkedList<>();\n",
        "\n",
        "        // Add each character of the string to the queue\n",
        "        for (char ch : str.toCharArray()) {\n",
        "            queue.add(ch);\n",
        "        }\n",
        "\n",
        "        // Poll each character from the queue and compare with characters in the original string\n",
        "        for (char ch : str.toCharArray()) {\n",
        "            if (queue.poll() != ch) {\n",
        "                return false; // If characters don't match, it's not a palindrome\n",
        "            }\n",
        "        }\n",
        "\n",
        "        return true; // If all characters match, it's a palindrome\n",
        "    }\n",
        "\n",
        "    public static void main(String[] args) {\n",
        "        String str = \"level\";\n",
        "        if (isPalindrome(str)) {\n",
        "            System.out.println(str + \" is a palindrome.\");\n",
        "        } else {\n",
        "            System.out.println(str + \" is not a palindrome.\");\n",
        "        }\n",
        "    }\n",
        "}\n"
      ]
    },
    {
      "cell_type": "markdown",
      "metadata": {},
      "source": [
        "* Similar to the stack approach, we create a queue to store characters from the input string.\n",
        "* We add each character of the string to the queue.\n",
        "* Then, we iterate over the string and poll characters from the queue, comparing them with characters from the string.\n",
        "* If any character doesn't match, we return `false`, indicating that the string is not a palindrome.\n",
        "* If all characters match, we return `true`, indicating that the string is a palindrome."
      ]
    },
    {
      "cell_type": "markdown",
      "metadata": {},
      "source": [
        "### **3. Using For loop:**"
      ]
    },
    {
      "cell_type": "code",
      "execution_count": null,
      "metadata": {},
      "outputs": [],
      "source": [
        "public class PalindromeUsingForLoop {\n",
        "    public static boolean isPalindrome(String str) {\n",
        "        int length = str.length();\n",
        "\n",
        "        // Check characters from start and end of the string simultaneously\n",
        "        for (int i = 0; i < length / 2; i++) {\n",
        "            if (str.charAt(i) != str.charAt(length - i - 1)) {\n",
        "                return false; // If characters don't match, it's not a palindrome\n",
        "            }\n",
        "        }\n",
        "\n",
        "        return true; // If all characters match, it's a palindrome\n",
        "    }\n",
        "\n",
        "    public static void main(String[] args) {\n",
        "        String str = \"deified\";\n",
        "        if (isPalindrome(str)) {\n",
        "            System.out.println(str + \" is a palindrome.\");\n",
        "        } else {\n",
        "            System.out.println(str + \" is not a palindrome.\");\n",
        "        }\n",
        "    }\n",
        "}\n"
      ]
    },
    {
      "cell_type": "markdown",
      "metadata": {},
      "source": [
        "* We use a for loop to iterate from the start to the middle of the string.\n",
        "* At each iteration, we compare the character at the current position with the character at the corresponding position from the end of the string.\n",
        "* If any pair of characters doesn't match, we return false, indicating that the string is not a palindrome.\n",
        "* If all pairs of characters match, we return true, indicating that the string is a palindrome."
      ]
    },
    {
      "cell_type": "markdown",
      "metadata": {},
      "source": [
        "### **4. Using While loop:**"
      ]
    },
    {
      "cell_type": "code",
      "execution_count": null,
      "metadata": {},
      "outputs": [],
      "source": [
        "public class PalindromeUsingWhileLoop {\n",
        "    public static boolean isPalindrome(String str) {\n",
        "        int start = 0;\n",
        "        int end = str.length() - 1;\n",
        "\n",
        "        // Check characters from start and end of the string simultaneously\n",
        "        while (start < end) {\n",
        "            if (str.charAt(start) != str.charAt(end)) {\n",
        "                return false; // If characters don't match, it's not a palindrome\n",
        "            }\n",
        "            start++;\n",
        "            end--;\n",
        "        }\n",
        "\n",
        "        return true; // If all characters match, it's a palindrome\n",
        "    }\n",
        "\n",
        "    public static void main(String[] args) {\n",
        "        String str = \"noon\";\n",
        "        if (isPalindrome(str)) {\n",
        "            System.out.println(str + \" is a palindrome.\");\n",
        "        } else {\n",
        "            System.out.println(str + \" is not a palindrome.\");\n",
        "        }\n",
        "    }\n",
        "}\n"
      ]
    },
    {
      "cell_type": "markdown",
      "metadata": {},
      "source": [
        "* Similar to the for loop approach, we use a while loop to compare characters from the start and end of the string simultaneously.\n",
        "* We initialize two pointers, `start` and `end`, pointing to the start and end of the string, respectively.\n",
        "* We continue iterating until the start pointer is less than the `end` pointer.\n",
        "* At each iteration, we compare the characters at the `start` and end positions.\n",
        "* If any pair of characters doesn't match, we return `false`, indicating that the string is not a palindrome.\n",
        "* If all pairs of characters match, we return `true`, indicating that the string is a palindrome.\n",
        "\n"
      ]
    }
  ],
  "metadata": {
    "colab": {
      "cell_execution_strategy": "setup",
      "provenance": []
    },
    "kernelspec": {
      "display_name": "java",
      "name": "java"
    },
    "language_info": {
      "name": "java"
    }
  },
  "nbformat": 4,
  "nbformat_minor": 0
}
