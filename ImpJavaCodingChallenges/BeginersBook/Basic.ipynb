{
  "cells": [
    {
      "cell_type": "markdown",
      "metadata": {
        "id": "ZoITrd8MsApt"
      },
      "source": [
        "Install Java kernal to run java code here."
      ]
    },
    {
      "cell_type": "code",
      "execution_count": null,
      "metadata": {
        "id": "rscw4ZMMNO-5"
      },
      "outputs": [],
      "source": [
        "!wget https://github.com/SpencerPark/IJava/releases/download/v1.3.0/ijava-1.3.0.zip\n",
        "!unzip ijava-1.3.0.zip\n",
        "!python install.py"
      ]
    },
    {
      "cell_type": "markdown",
      "metadata": {},
      "source": [
        "# **Basic Coding**"
      ]
    },
    {
      "cell_type": "markdown",
      "metadata": {},
      "source": [
        "# **Check LEAP YEAR**"
      ]
    },
    {
      "cell_type": "code",
      "execution_count": null,
      "metadata": {},
      "outputs": [],
      "source": [
        "public class LeapYearChecker {\n",
        "    public static boolean isLeapYear(int year) {\n",
        "        // Check if the year is divisible by 4\n",
        "        boolean divisibleBy4 = year % 4 == 0;\n",
        "        // Check if the year is divisible by 100\n",
        "        boolean divisibleBy100 = year % 100 == 0;\n",
        "        // Check if the year is divisible by 400\n",
        "        boolean divisibleBy400 = year % 400 == 0;\n",
        "\n",
        "        // If year is divisible by 400, it is a leap year\n",
        "        // Or if year is divisible by 4 but not by 100, it is a leap year\n",
        "        return divisibleBy400 || (divisibleBy4 && !divisibleBy100);\n",
        "    }\n",
        "\n",
        "    public static void main(String[] args) {\n",
        "        int year = 2024;\n",
        "        if (isLeapYear(year)) {\n",
        "            System.out.println(year + \" is a leap year.\");\n",
        "        } else {\n",
        "            System.out.println(year + \" is not a leap year.\");\n",
        "        }\n",
        "    }\n",
        "}"
      ]
    },
    {
      "cell_type": "markdown",
      "metadata": {},
      "source": [
        "* We create a method `isLeapYear` which takes an integer parameter year and returns a boolean indicating whether it's a leap `year` or not.\n",
        "* Inside the method, we first check if the year is divisible by 4, if yes, then it could potentially be a leap year.\n",
        "* Then, we check if the year is divisible by 100. If it is, it might not be a leap year, except if it's also divisible by 400.\n",
        "* Finally, we return `true` if the year is divisible by 400, or if it's divisible by 4 but not by 100. Otherwise, we return `false`.\n",
        "* In the `main` method, we demonstrate how to use the isLeapYear method by passing a year and printing whether it's a leap year or not."
      ]
    },
    {
      "cell_type": "markdown",
      "metadata": {},
      "source": [
        "# **Check Vowel or Consonant**"
      ]
    },
    {
      "cell_type": "code",
      "execution_count": null,
      "metadata": {},
      "outputs": [],
      "source": [
        "public class VowelConsonantChecker {\n",
        "    public static boolean isVowel(char ch) {\n",
        "        // Convert the character to lowercase to handle both uppercase and lowercase vowels\n",
        "        ch = Character.toLowerCase(ch);\n",
        "        // Check if the character is a vowel\n",
        "        return ch == 'a' || ch == 'e' || ch == 'i' || ch == 'o' || ch == 'u';\n",
        "    }\n",
        "\n",
        "    public static void main(String[] args) {\n",
        "        char character = 'a'; // Change this character to test\n",
        "\n",
        "        if (Character.isLetter(character)) {\n",
        "            if (isVowel(character)) {\n",
        "                System.out.println(character + \" is a vowel.\");\n",
        "            } else {\n",
        "                System.out.println(character + \" is a consonant.\");\n",
        "            }\n",
        "        } else {\n",
        "            System.out.println(character + \" is not a valid letter.\");\n",
        "        }\n",
        "    }\n",
        "}"
      ]
    },
    {
      "cell_type": "markdown",
      "metadata": {},
      "source": [
        "* We create a method `isVowel` which takes a character parameter `ch` and returns a boolean indicating whether it's a vowel or not.\n",
        "* Inside the method, we convert the character to lowercase to handle both uppercase and lowercase vowels consistently.\n",
        "* Then, we check if the character is equal to 'a', 'e', 'i', 'o', or 'u'. * If it matches any of these, we return `true`, indicating that it's a vowel.\n",
        "* In the `main` method, we demonstrate how to use the `isVowel` method by passing a character and printing whether it's a vowel or a consonant. * We also handle the case where the input character is not a valid letter."
      ]
    },
    {
      "cell_type": "code",
      "execution_count": null,
      "metadata": {},
      "outputs": [],
      "source": []
    },
    {
      "cell_type": "markdown",
      "metadata": {},
      "source": [
        "# **Java Recursion Programs**"
      ]
    }
  ],
  "metadata": {
    "colab": {
      "cell_execution_strategy": "setup",
      "provenance": []
    },
    "kernelspec": {
      "display_name": "java",
      "name": "java"
    },
    "language_info": {
      "name": "java"
    }
  },
  "nbformat": 4,
  "nbformat_minor": 0
}
