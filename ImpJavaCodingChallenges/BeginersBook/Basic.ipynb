{
  "cells": [
    {
      "cell_type": "markdown",
      "metadata": {
        "id": "ZoITrd8MsApt"
      },
      "source": [
        "Install Java kernal to run java code here."
      ]
    },
    {
      "cell_type": "code",
      "execution_count": null,
      "metadata": {
        "id": "rscw4ZMMNO-5"
      },
      "outputs": [],
      "source": [
        "!wget https://github.com/SpencerPark/IJava/releases/download/v1.3.0/ijava-1.3.0.zip\n",
        "!unzip ijava-1.3.0.zip\n",
        "!python install.py"
      ]
    },
    {
      "cell_type": "markdown",
      "metadata": {},
      "source": [
        "# **Basic Coding**"
      ]
    },
    {
      "cell_type": "markdown",
      "metadata": {},
      "source": [
        "# **Check LEAP YEAR**"
      ]
    },
    {
      "cell_type": "code",
      "execution_count": null,
      "metadata": {},
      "outputs": [],
      "source": [
        "public class LeapYearChecker {\n",
        "    public static boolean isLeapYear(int year) {\n",
        "        if (year % 400 == 0) {\n",
        "            return true; // If divisible by 400, it's a leap year\n",
        "        } else if (year % 100 == 0) {\n",
        "            return false; // If divisible by 100 but not by 400, it's not a leap year\n",
        "        } else {\n",
        "            return year % 4 == 0; // If divisible by 4 but not by 100, it's a leap year\n",
        "        }\n",
        "    }\n",
        "\n",
        "    public static void main(String[] args) {\n",
        "        int year = 2024;\n",
        "        if (isLeapYear(year)) {\n",
        "            System.out.println(year + \" is a leap year.\");\n",
        "        } else {\n",
        "            System.out.println(year + \" is not a leap year.\");\n",
        "        }\n",
        "    }\n",
        "}"
      ]
    },
    {
      "cell_type": "markdown",
      "metadata": {},
      "source": [
        "* We create a method `isLeapYear` which takes an integer parameter year and returns a boolean indicating whether it's a leap `year` or not.\n",
        "* Inside the method, we first check if the year is divisible by 4, if yes, then it could potentially be a leap year.\n",
        "* Then, we check if the year is divisible by 100. If it is, it might not be a leap year, except if it's also divisible by 400.\n",
        "* Finally, we return `true` if the year is divisible by 400, or if it's divisible by 4 but not by 100. Otherwise, we return `false`.\n",
        "* In the `main` method, we demonstrate how to use the isLeapYear method by passing a year and printing whether it's a leap year or not."
      ]
    },
    {
      "cell_type": "markdown",
      "metadata": {},
      "source": [
        "# **Check Vowel or Consonant**"
      ]
    },
    {
      "cell_type": "code",
      "execution_count": null,
      "metadata": {},
      "outputs": [],
      "source": [
        "public class VowelConsonantChecker {\n",
        "    public static boolean isVowel(char ch) {\n",
        "        // Convert the character to lowercase for case-insensitive comparison\n",
        "        ch = Character.toLowerCase(ch);\n",
        "        \n",
        "        // Check if the character is a vowel\n",
        "        return ch == 'a' || ch == 'e' || ch == 'i' || ch == 'o' || ch == 'u';\n",
        "    }\n",
        "\n",
        "    public static void main(String[] args) {\n",
        "        char ch = 'a';\n",
        "        if (Character.isLetter(ch)) {\n",
        "            if (isVowel(ch)) {\n",
        "                System.out.println(ch + \" is a vowel.\");\n",
        "            } else {\n",
        "                System.out.println(ch + \" is a consonant.\");\n",
        "            }\n",
        "        } else {\n",
        "            System.out.println(ch + \" is not a valid alphabet.\");\n",
        "        }\n",
        "    }\n",
        "}\n"
      ]
    },
    {
      "cell_type": "markdown",
      "metadata": {},
      "source": [
        "* We create a method `isVowel` which takes a character parameter `ch` and returns a boolean indicating whether it's a vowel or not.\n",
        "* Inside the method, we first convert the character to lowercase using `Character.toLowerCase(ch)` to ensure case-insensitive comparison.\n",
        "* Then, we check if the character is equal to any of the vowels ('a', 'e', 'i', 'o', 'u'). If it is, we return `true`, indicating it's a vowel.\n",
        "* In the main method, we first check if the given character is a letter using `Character.isLetter(ch)`.\n",
        "* If it's a letter, we call the `isVowel` method to check if it's a vowel or a consonant and print the appropriate message.\n",
        "* If the character is not a letter, we print that it's not a valid alphabet."
      ]
    },
    {
      "cell_type": "markdown",
      "metadata": {},
      "source": [
        "# **Java Recursion Programs**"
      ]
    },
    {
      "cell_type": "markdown",
      "metadata": {},
      "source": [
        "## **Program 1: Reverse a number using while Loop**"
      ]
    },
    {
      "cell_type": "code",
      "execution_count": null,
      "metadata": {},
      "outputs": [],
      "source": [
        "public class ReverseNumberWhileLoop {\n",
        "    public static int reverseNumber(int num) {\n",
        "        int reversed = 0;\n",
        "        while (num != 0) {\n",
        "            int digit = num % 10;\n",
        "            reversed = reversed * 10 + digit;\n",
        "            num /= 10;\n",
        "        }\n",
        "        return reversed;\n",
        "    }\n",
        "\n",
        "    public static void main(String[] args) {\n",
        "        int number = 12345;\n",
        "        int reversedNumber = reverseNumber(number);\n",
        "        System.out.println(\"Reversed number: \" + reversedNumber);\n",
        "    }\n",
        "}\n"
      ]
    },
    {
      "cell_type": "markdown",
      "metadata": {},
      "source": [
        "* This program uses a while loop to reverse the given number.\n",
        "* Inside the while loop, we repeatedly extract the last digit of the number using the modulus operator (%).\n",
        "* We then add this digit to the reversed number after multiplying it by 10 to shift its position.\n",
        "* Finally, we update the original number by dividing it by 10 to remove the last digit.\n",
        "* This process continues until the original number becomes zero, and the reversed number is returned."
      ]
    },
    {
      "cell_type": "markdown",
      "metadata": {},
      "source": [
        "## **Program 2: Reverse a number using for Loop**"
      ]
    },
    {
      "cell_type": "code",
      "execution_count": null,
      "metadata": {},
      "outputs": [],
      "source": [
        "public class ReverseNumberForLoop {\n",
        "    public static int reverseNumber(int num) {\n",
        "        int reversed = 0;\n",
        "        for (; num != 0; num /= 10) {\n",
        "            int digit = num % 10;\n",
        "            reversed = reversed * 10 + digit;\n",
        "        }\n",
        "        return reversed;\n",
        "    }\n",
        "\n",
        "    public static void main(String[] args) {\n",
        "        int number = 12345;\n",
        "        int reversedNumber = reverseNumber(number);\n",
        "        System.out.println(\"Reversed number: \" + reversedNumber);\n",
        "    }\n",
        "}\n"
      ]
    },
    {
      "cell_type": "markdown",
      "metadata": {},
      "source": [
        "* This program uses a for loop to reverse the given number.\n",
        "* The loop initialization, condition, and iteration are all handled within the for loop declaration itself.\n",
        "* Inside the loop, we perform the same steps as in Program 1 to reverse the number.\n",
        "* This approach is more concise than using a while loop, as the loop control variables are defined directly within the loop."
      ]
    },
    {
      "cell_type": "markdown",
      "metadata": {},
      "source": [
        "## **Program 3: Reverse a number using recursion**"
      ]
    },
    {
      "cell_type": "code",
      "execution_count": null,
      "metadata": {},
      "outputs": [],
      "source": []
    }
  ],
  "metadata": {
    "colab": {
      "cell_execution_strategy": "setup",
      "provenance": []
    },
    "kernelspec": {
      "display_name": "java",
      "name": "java"
    },
    "language_info": {
      "name": "java"
    }
  },
  "nbformat": 4,
  "nbformat_minor": 0
}
