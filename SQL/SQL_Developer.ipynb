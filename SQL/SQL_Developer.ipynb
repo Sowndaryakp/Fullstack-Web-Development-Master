{
  "cells": [
    {
      "cell_type": "markdown",
      "metadata": {
        "id": "ZoITrd8MsApt"
      },
      "source": [
        "Install Java kernal to run java code here."
      ]
    },
    {
      "cell_type": "code",
      "execution_count": null,
      "metadata": {
        "id": "rscw4ZMMNO-5"
      },
      "outputs": [],
      "source": [
        "!wget https://github.com/SpencerPark/IJava/releases/download/v1.3.0/ijava-1.3.0.zip\n",
        "!unzip ijava-1.3.0.zip\n",
        "!python install.py"
      ]
    },
    {
      "cell_type": "markdown",
      "metadata": {},
      "source": [
        "# **Normalization**\n",
        "\n",
        "* the process of `organizing data in a database without any redundency(duplication) and inconsistent dependency(irrelevent data)`.\n",
        "\n",
        "**inconsistent dependency:** `storing irrelevant data in other table`, \n",
        "example storing employee address in other table.\n",
        "\n",
        "* There are different levels of normalization, ranging from First Normal Form (1NF), 2NF, 3NF Boyce-Codd Normal Form (BCNF) and 4NF and 5NF.\n",
        "\n",
        "## **First normal form(1NF)**\n",
        "\n",
        "*  Each table has a `primary key`, each cell should contain single a`tomic value`, not multiple values like `dog,cat,ant`.\n",
        "\n",
        "## **Second Normal Form (2NF)**\n",
        "\n",
        "*  It should not has any partial dependency. means we need to create 2 diff tables to store 2 diff data with diff `primary key` and `link with foreign key`.\n",
        "\n",
        "## **Third Normal Form (3NF)**\n",
        "\n",
        "* Table must be in `2NF`, and attributes should `not depend on other non-key attiributes`.\n",
        "\n",
        "# **Primary Key**\n",
        "\n",
        "* A set of columns in a database table that `uniquely identifies each row (record)` in that table.\n",
        "* Retrieve the data `easily and faster`.\n",
        "\n",
        "# **Unique Key**\n",
        "\n",
        "* The value of each row should be unique.\n",
        "* ex- emailid\n",
        "\n",
        "# **Foreign Key** \n",
        "\n",
        "* To connect the data between one table and another table.\n",
        "\n",
        "# **CHAR**\n",
        "* Use CHAR when you have `fixed-length` data and want consistent storage size. it will add a space for the remaining space in the CHAR(10).\n",
        "\n",
        "# **VARCHAR**\n",
        "\n",
        "* Use VARCHAR when you have variable-length data and want to save space.\n",
        "\n",
        "# **NVARCHAR**\n",
        "\n",
        "* Use NVARCHAR when you need to store Unicode characters or multilingual data."
      ]
    }
  ],
  "metadata": {
    "colab": {
      "cell_execution_strategy": "setup",
      "provenance": []
    },
    "kernelspec": {
      "display_name": "java",
      "name": "java"
    },
    "language_info": {
      "name": "java"
    }
  },
  "nbformat": 4,
  "nbformat_minor": 0
}
