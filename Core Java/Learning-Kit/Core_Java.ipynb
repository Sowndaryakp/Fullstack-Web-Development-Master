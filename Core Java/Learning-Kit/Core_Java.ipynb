{
  "cells": [
    {
      "cell_type": "markdown",
      "metadata": {
        "id": "pcm5PWg2GQv0"
      },
      "source": [
        "# **Core Java**"
      ]
    },
    {
      "cell_type": "markdown",
      "metadata": {
        "id": "ZoITrd8MsApt"
      },
      "source": [
        "Install Java kernal to run java code here."
      ]
    },
    {
      "cell_type": "code",
      "execution_count": null,
      "metadata": {
        "id": "rscw4ZMMNO-5"
      },
      "outputs": [],
      "source": [
        "!wget https://github.com/SpencerPark/IJava/releases/download/v1.3.0/ijava-1.3.0.zip\n",
        "!unzip ijava-1.3.0.zip\n",
        "!python install.py"
      ]
    },
    {
      "cell_type": "markdown",
      "metadata": {
        "id": "thQ76D_ldBmm"
      },
      "source": [
        "Basic Java program"
      ]
    },
    {
      "cell_type": "markdown",
      "metadata": {
        "id": "VoQbwkkRG4lj"
      },
      "source": [
        "# **Why java is Famous?**\n",
        " Java has multiple features which helps it to be used in the enterprise market not just only enterprise market, it can be used for **mobile development**, **web development** and **enterprise application**.\n",
        "\n",
        "# **What is JVM(Java Virtual Machine)?**\n",
        "It is a virtual machine that enables Java **bytecode** to be executed on a variety of platforms, providing the \"write once, run anywhere\" capability. The JVM interprets compiled Java bytecode and translates it into machine code that can be executed by the underlying hardware.\n",
        "\n",
        "# **History of Java.**\n",
        "Java was developed by James Gosling and Mike Sheridan at Sun Microsystems in the early 1990s. It was officially released by Sun Microsystems in 1995. In 2010, Oracle Corporation acquired Sun Microsystems, becoming the owner of Java.\n",
        "\n",
        "* The latest version of Java is **Java 21** or **JDK 21** released on September, 19th 2023.\n",
        "* Java is difficult but java is most **readable** language you can read the java code line by line.\n",
        "* IDE(**Integrated Development Environment**), is a software application aiding developers with tools like code editors, debuggers, and compilers for software creation. It includes features such as version control and project management for a streamlined development experience.\n",
        "Ex: Eclipse, IntelliJ IDEA, etc.\n",
        "\n",
        "# **WORA(Write once run anywhere)**\n",
        "Java's WORA principle allows developers to write code that can run on any platform. It supports multithreading, enabling concurrent execution for efficient parallel processing. The Collection API simplifies data manipulation with a rich set of data structures. Java's robust exception handling enhances code reliability by effectively managing runtime errors.\n",
        "1.**Writing Code**: Developers write Java code using a text editor or an Integrated Development Environment (IDE).\n",
        "\n",
        "2.**Compilation**: The Java compiler (part of the JDK - Java Development Kit) translates the human-readable Java code into bytecode. Bytecode is an intermediate, platform-independent representation of the code.\n",
        "\n",
        "3.**Bytecode**: Instead of native machine code, Java produces bytecode, a set of instructions for the Java Virtual Machine (JVM) to execute.\n",
        "\n",
        "4.**Java Virtual Machine (JVM)**: The JVM is responsible for running Java bytecode. It interprets the bytecode or, in some cases, Just-In-Time (JIT) compiles it into native machine code for the specific platform. This enables Java's \"Write Once, Run Anywhere\" capability.\n",
        "\n",
        "5.**Execution**: The JVM executes the bytecode, interacting with the underlying operating system and hardware to produce the desired output. The Java runtime environment (JRE) provides the necessary libraries and resources during execution.\n",
        "\n",
        "[how-java-program-run-image](https://www.google.com/url?sa=i&url=https%3A%2F%2Ftutorial.eyehunts.com%2Fjava%2Fhow-java-program-run-java-work-compiler%2F&psig=AOvVaw0Od5W78aVGeCnJ4fP0s3rG&ust=1705820266822000&source=images&cd=vfe&opi=89978449&ved=0CBMQjRxqFwoTCNjRhJGy64MDFQAAAAAdAAAAABAD)\n",
        "\n",
        "# **JVM (Java Virtual Machine):**\n",
        "It is a virtualized runtime environment that **executes Java bytecode**. JVM abstracts the hardware and operating system details, allowing Java programs to run on any device with a compatible JVM.\n",
        "\n",
        "# **JRE (Java Runtime Environment):**\n",
        "It includes the **JVM along with libraries** and components necessary for running Java applications. JRE is intended for end-users who need to run Java programs but may not be involved in Java development.\n",
        "\n",
        "# **JDK (Java Development Kit):**\n",
        "It is a comprehensive software development kit that includes the **JRE along with development tools** such as **compilers**, **debuggers**, and other utilities. JDK is for developers who create Java applications and applets.\n",
        "\n",
        "# **public static void main(String args[])**\n",
        "* **public**: Indicates that the following method is accessible from outside the class.\n",
        "* **static**: Denotes that the method belongs to the class, not to instances of the class, allowing it to be called without creating an object.\n",
        "* **void**: Specifies that the method does not return any value.\n",
        "* main: The name of the method that serves as the entry point when the program is executed.\n",
        "* **String args[]**: Declares a parameter named args, an array of strings, which allows the passing of command-line arguments to the program.\n",
        "\n"
      ]
    },
    {
      "cell_type": "markdown",
      "metadata": {
        "id": "sYRmHq8manOF"
      },
      "source": [
        "## **Visual Studio Code**\n",
        " * Install Extension pack for java"
      ]
    },
    {
      "cell_type": "markdown",
      "metadata": {
        "id": "bMXPKnTt2ZXt"
      },
      "source": [
        "# **Variables**\n",
        "* **What**: A variable is a named storage location in a program that holds a value, allowing data manipulation and storage.\n",
        "* **Why Use Variables**: Variables enable programmers to store and manage data in their programs. They make code more readable, flexible, and dynamic by allowing values to be easily referenced and updated.\n",
        "* **How to Use a Variable (Simple Code Example in Java)**:"
      ]
    },
    {
      "cell_type": "code",
      "execution_count": null,
      "metadata": {
        "id": "-QKJQWL03qTH"
      },
      "outputs": [],
      "source": [
        "public class Example {\n",
        "    public static void main(String[] args) {\n",
        "        // Declaration and initialization of a variable\n",
        "        int age = 25;\n",
        "\n",
        "        // Using the variable in a print statement\n",
        "        System.out.println(\"My age is: \" + age);\n",
        "\n",
        "        // Updating the variable\n",
        "        age = 26;\n",
        "\n",
        "        // Printing the updated value\n",
        "        System.out.println(\"My age is now: \" + age);\n",
        "    }\n",
        "}\n"
      ]
    },
    {
      "cell_type": "markdown",
      "metadata": {
        "id": "_nok7JEd30y7"
      },
      "source": [
        "* **int** age declares a variable named **age** of type integer.\n",
        "* **age = 25** initializes the variable with the value 25.\n",
        "* **System.out.println(\"My age is: \" + age)** prints the value of the variable in a statement.\n",
        "* **age** = 26 updates the variable with a new value.\n",
        "* **System.out.println(\"My age is now: \" + age)** prints the updated value."
      ]
    },
    {
      "cell_type": "markdown",
      "metadata": {
        "id": "Pn-AwmfZ4ZEj"
      },
      "source": [
        "# **Data Types**\n",
        "# **What is a Data Type:**\n",
        "A data type defines the nature of data that a variable can hold in a programming language.\n",
        "\n",
        "# **Why Use Data Types:**\n",
        "Data types ensure clarity and efficiency in programming by specifying the kind of values a variable can store, enabling proper memory allocation and manipulation.\n",
        "\n",
        "# **How to Use Data Types (Simple Code Example in Java):**\n"
      ]
    },
    {
      "cell_type": "code",
      "execution_count": null,
      "metadata": {},
      "outputs": [],
      "source": [
        "// Declaration and initialization of an integer variable\n",
        "int myNumber = 42;"
      ]
    },
    {
      "cell_type": "markdown",
      "metadata": {},
      "source": [
        "In this example:\n",
        "* **What:** int is the data type specifying the variable holds integer values.\n",
        "* **Why:** Ensures the variable myNumber can only store whole numbers.\n",
        "* **How:** Declaring and initializing the variable with an integer value (42).\n",
        "\n",
        "There are two main categories of data types: primitive data types and reference data types.\n",
        "# **Primitive Datatypes**:\n",
        "1. **byte**:\n",
        "   * Size: 8 bits\n",
        "   * Range: -128 to 127\n",
        "2. **short**:\n",
        "   * Size: 16 bits\n",
        "   * Range: -32,768 to 32,767\n",
        "3. **int**: Represents whole numbers without decimal points.\n",
        "   * Size: 32 bits(4 byte)\n",
        "   * Range: -2^31 to 2^31 - 1\n",
        "4. **long**:\n",
        "   * Size: 64 bits\n",
        "   * Range: -2^63 to 2^63 - 1\n",
        "5. **float**:\n",
        "   * Size: 32 bits\n",
        "   * Range: Approximately ±3.4E38 (with 7 decimal digits of precision)\n",
        "6. **double**: Represents floating-point numbers with decimal places.\n",
        "   * Size: 64 bits\n",
        "   * Range: Approximately ±1.7E308 (with 15 decimal digits of precision)\n",
        "7. **char**: Represents a single character.\n",
        "   * Size: 16 bits\n",
        "   * Range: 0 to 65,535 (Unicode characters)\n",
        "8. **boolean**: Represents true or false values.\n",
        "   * Size: Not precisely defined\n",
        "   * Range: true or false\n"
      ]
    },
    {
      "cell_type": "code",
      "execution_count": null,
      "metadata": {},
      "outputs": [],
      "source": [
        "//byte example\n",
        "byte myByte = 100;\n",
        "\n",
        "//short example \n",
        "short myShort = 1000;\n",
        "\n",
        "//int example\n",
        " int myInt = 10000;\n",
        "\n",
        " //long example\n",
        " long myLong = 100000L;\n",
        "\n",
        "//float example\n",
        " float myFloat = 3.14f;\n",
        "\n",
        " //double example\n",
        " double myDouble = 3.14;\n",
        "\n",
        " //char example\n",
        " char myChar = 'A';\n",
        "\n",
        " //boolean example\n",
        " boolean isJavaFun = true;"
      ]
    },
    {
      "cell_type": "markdown",
      "metadata": {},
      "source": [
        "# **Type Conversion and Casting**\n",
        "1. **Type Conversion:**\n",
        " * Changing the data type of a variable to another compatible type.\n",
        "\n",
        "2. **Casting:**\n",
        " * Explicitly converting a variable from one data type to another.\n"
      ]
    },
    {
      "cell_type": "code",
      "execution_count": null,
      "metadata": {},
      "outputs": [],
      "source": [
        "// Type conversion example\n",
        "int myInt = 42;\n",
        "double myDouble = (double) myInt; // Type conversion from int to double\n",
        "\n",
        "//casting example\n",
        "double myDouble = 3.14;\n",
        "int myInt = (int) myDouble; // Casting from double to int\n"
      ]
    }
  ],
  "metadata": {
    "colab": {
      "cell_execution_strategy": "setup",
      "provenance": []
    },
    "kernelspec": {
      "display_name": "java",
      "name": "java"
    },
    "language_info": {
      "name": "java"
    }
  },
  "nbformat": 4,
  "nbformat_minor": 0
}
