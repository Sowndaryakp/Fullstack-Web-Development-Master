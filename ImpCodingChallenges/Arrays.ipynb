{
  "cells": [
    {
      "cell_type": "markdown",
      "metadata": {
        "id": "ZoITrd8MsApt"
      },
      "source": [
        "Install Java kernal to run java code here."
      ]
    },
    {
      "cell_type": "code",
      "execution_count": null,
      "metadata": {
        "id": "rscw4ZMMNO-5"
      },
      "outputs": [],
      "source": [
        "!wget https://github.com/SpencerPark/IJava/releases/download/v1.3.0/ijava-1.3.0.zip\n",
        "!unzip ijava-1.3.0.zip\n",
        "!python install.py"
      ]
    },
    {
      "cell_type": "markdown",
      "metadata": {},
      "source": [
        "# **Importatnt Array related Questions and Answers**"
      ]
    },
    {
      "cell_type": "markdown",
      "metadata": {},
      "source": [
        "## **1. Find the maximum and minimum elements in an array.**"
      ]
    },
    {
      "cell_type": "markdown",
      "metadata": {},
      "source": [
        "### **Brute Force Approach:**"
      ]
    },
    {
      "cell_type": "code",
      "execution_count": null,
      "metadata": {},
      "outputs": [],
      "source": [
        "public class MaxMinBruteForce {\n",
        "    public static void main(String[] args) {\n",
        "        int[] array = {5, 3, 9, 7, 1, 10, 4};\n",
        "        findMaxMin(array);\n",
        "    }\n",
        "\n",
        "    public static void findMaxMin(int[] array) {\n",
        "        if (array == null || array.length == 0) {\n",
        "            System.out.println(\"Array is empty.\");\n",
        "            return;\n",
        "        }\n",
        "\n",
        "        int max = array[0];\n",
        "        int min = array[0];\n",
        "\n",
        "        for (int i = 1; i < array.length; i++) {\n",
        "            if (array[i] > max) {\n",
        "                max = array[i];\n",
        "            }\n",
        "            if (array[i] < min) {\n",
        "                min = array[i];\n",
        "            }\n",
        "        }\n",
        "\n",
        "        System.out.println(\"Maximum element: \" + max);\n",
        "        System.out.println(\"Minimum element: \" + min);\n",
        "    }\n",
        "}"
      ]
    },
    {
      "cell_type": "markdown",
      "metadata": {},
      "source": [
        "Explanation:\n",
        "* public class MaxMinBruteForce {: This is the declaration of the class named MaxMinBruteForce.\n",
        "* public static void main(String[] args) {: This is the main method where the program execution starts.\n",
        "* int[] array = {5, 3, 9, 7, 1, 10, 4};: This line initializes an array with some example values.\n",
        "* findMaxMin(array);: Calls the method findMaxMin() to find the maximum and minimum elements in the array.\n",
        "* public static void findMaxMin(int[] array) {: This method takes an array of integers as input and finds the maximum and minimum elements.\n",
        "* if (array == null || array.length == 0) {: Checks if the array is null or empty.\n",
        "* int max = array[0]; and int min = array[0];: Initialize max and min with the first element of the array.\n",
        "* for (int i = 1; i < array.length; i++) {: Loop through the array starting from the second element.\n",
        "* if (array[i] > max) { max = array[i]; }: Updates max if the current element is greater than the current maximum.\n",
        "* if (array[i] < min) { min = array[i]; }: Updates min if the current element is smaller than the current minimum.\n",
        "* System.out.println(\"Maximum element: \" + max); and System.out.println(\"Minimum element: \" + min);: Print the maximum and minimum elements."
      ]
    },
    {
      "cell_type": "markdown",
      "metadata": {},
      "source": [
        "### **Optimal Approach:**\n",
        "* For the optimal approach, we can utilize the property of arrays in Java to access elements in constant time and compare them linearly."
      ]
    },
    {
      "cell_type": "code",
      "execution_count": null,
      "metadata": {},
      "outputs": [],
      "source": [
        "import java.util.Arrays;\n",
        "\n",
        "public class MaxMinOptimal {\n",
        "    public static void main(String[] args) {\n",
        "        int[] array = {5, 3, 9, 7, 1, 10, 4};\n",
        "        findMaxMin(array);\n",
        "    }\n",
        "\n",
        "    public static void findMaxMin(int[] array) {\n",
        "        if (array == null || array.length == 0) {\n",
        "            System.out.println(\"Array is empty.\");\n",
        "            return;\n",
        "        }\n",
        "\n",
        "        Arrays.sort(array);\n",
        "        int min = array[0];\n",
        "        int max = array[array.length - 1];\n",
        "\n",
        "        System.out.println(\"Maximum element: \" + max);\n",
        "        System.out.println(\"Minimum element: \" + min);\n",
        "    }\n",
        "}\n"
      ]
    },
    {
      "cell_type": "markdown",
      "metadata": {},
      "source": [
        "1. Find the maximum and minimum elements in an array.\n",
        "2. Rotate an array to the right by k steps.\n",
        "3. Given an array of integers, find if the array contains any duplicates.\n",
        "4. Given an array of integers, return indices of the two numbers such that they add up to a specific target.\n",
        "5. Merge two sorted arrays into a single sorted array.\n",
        "6. Given an array nums, write a function to move all 0's to the end of it while maintaining the relative order of the non-zero elements.\n",
        "7. Given an array nums of n integers where n > 1, return an array output such that output[i] is equal to the product of all the elements of nums except nums[i].\n",
        "8. Given a sorted array nums, remove the duplicates in-place such that each element appears only once and returns the new length.\n",
        "9. Given a sorted array nums, remove the duplicates in-place such that duplicates appeared at most twice and return the new length.\n",
        "10. Implement a function to search in a rotated sorted array.\n",
        "11. Given an array of integers, find the contiguous subarray (containing at least one number) which has the largest sum.\n",
        "12. Given an array of n integers where n > 1, nums, return an array output such that output[i] is equal to the product of all the elements of nums except nums[i].\n",
        "13. Given an array of integers, find the third maximum number in this array.\n",
        "14. Given an array of integers, find the kth largest element in the array.\n",
        "15. Given an array of integers nums and an integer target, return indices of the two numbers such that they add up to target."
      ]
    }
  ],
  "metadata": {
    "colab": {
      "cell_execution_strategy": "setup",
      "provenance": []
    },
    "kernelspec": {
      "display_name": "java",
      "name": "java"
    },
    "language_info": {
      "name": "java"
    }
  },
  "nbformat": 4,
  "nbformat_minor": 0
}
