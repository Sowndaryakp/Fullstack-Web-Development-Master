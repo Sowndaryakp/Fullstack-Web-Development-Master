{
  "cells": [
    {
      "cell_type": "markdown",
      "metadata": {
        "id": "ZoITrd8MsApt"
      },
      "source": [
        "Install Java kernal to run java code here."
      ]
    },
    {
      "cell_type": "code",
      "execution_count": null,
      "metadata": {
        "id": "rscw4ZMMNO-5"
      },
      "outputs": [],
      "source": [
        "!wget https://github.com/SpencerPark/IJava/releases/download/v1.3.0/ijava-1.3.0.zip\n",
        "!unzip ijava-1.3.0.zip\n",
        "!python install.py"
      ]
    },
    {
      "cell_type": "markdown",
      "metadata": {},
      "source": [
        "# **Importatnt Array related Questions and Answers**"
      ]
    },
    {
      "cell_type": "markdown",
      "metadata": {},
      "source": [
        "## **1. Find the maximum and minimum elements in an array.**"
      ]
    },
    {
      "cell_type": "markdown",
      "metadata": {},
      "source": [
        "### **Brute Force Approach:**"
      ]
    },
    {
      "cell_type": "code",
      "execution_count": null,
      "metadata": {},
      "outputs": [],
      "source": [
        "public class MaxMinBruteForce {\n",
        "    public static void main(String[] args) {\n",
        "        int[] array = {5, 3, 9, 7, 1, 10, 4};\n",
        "        findMaxMin(array);\n",
        "    }\n",
        "\n",
        "    public static void findMaxMin(int[] array) {\n",
        "        if (array == null || array.length == 0) {\n",
        "            System.out.println(\"Array is empty.\");\n",
        "            return;\n",
        "        }\n",
        "\n",
        "        int max = array[0];\n",
        "        int min = array[0];\n",
        "\n",
        "        for (int i = 1; i < array.length; i++) {\n",
        "            if (array[i] > max) {\n",
        "                max = array[i];\n",
        "            }\n",
        "            if (array[i] < min) {\n",
        "                min = array[i];\n",
        "            }\n",
        "        }\n",
        "\n",
        "        System.out.println(\"Maximum element: \" + max);\n",
        "        System.out.println(\"Minimum element: \" + min);\n",
        "    }\n",
        "}"
      ]
    },
    {
      "cell_type": "markdown",
      "metadata": {},
      "source": [
        "Explanation:\n",
        "* public class MaxMinBruteForce {: This is the declaration of the class named MaxMinBruteForce.\n",
        "* public static void main(String[] args) {: This is the main method where the program execution starts.\n",
        "* int[] array = {5, 3, 9, 7, 1, 10, 4};: This line initializes an array with some example values.\n",
        "* findMaxMin(array);: Calls the method findMaxMin() to find the maximum and minimum elements in the array.\n",
        "* public static void findMaxMin(int[] array) {: This method takes an array of integers as input and finds the maximum and minimum elements.\n",
        "* if (array == null || array.length == 0) {: Checks if the array is null or empty.\n",
        "* int max = array[0]; and int min = array[0];: Initialize max and min with the first element of the array.\n",
        "* for (int i = 1; i < array.length; i++) {: Loop through the array starting from the second element.\n",
        "* if (array[i] > max) { max = array[i]; }: Updates max if the current element is greater than the current maximum.\n",
        "* if (array[i] < min) { min = array[i]; }: Updates min if the current element is smaller than the current minimum.\n",
        "* System.out.println(\"Maximum element: \" + max); and System.out.println(\"Minimum element: \" + min);: Print the maximum and minimum elements."
      ]
    },
    {
      "cell_type": "markdown",
      "metadata": {},
      "source": [
        "### **Optimal Approach:**\n",
        "* For the optimal approach, we can utilize the property of arrays in Java to access elements in constant time and compare them linearly."
      ]
    },
    {
      "cell_type": "code",
      "execution_count": null,
      "metadata": {},
      "outputs": [],
      "source": [
        "import java.util.Arrays;\n",
        "\n",
        "public class MaxMinOptimal {\n",
        "    public static void main(String[] args) {\n",
        "        int[] array = {5, 3, 9, 7, 1, 10, 4};\n",
        "        findMaxMin(array);\n",
        "    }\n",
        "\n",
        "    public static void findMaxMin(int[] array) {\n",
        "        if (array == null || array.length == 0) {\n",
        "            System.out.println(\"Array is empty.\");\n",
        "            return;\n",
        "        }\n",
        "\n",
        "        Arrays.sort(array);\n",
        "        int min = array[0];\n",
        "        int max = array[array.length - 1];\n",
        "\n",
        "        System.out.println(\"Maximum element: \" + max);\n",
        "        System.out.println(\"Minimum element: \" + min);\n",
        "    }\n",
        "}\n"
      ]
    },
    {
      "cell_type": "markdown",
      "metadata": {},
      "source": [
        "### **2. Rotate an array to the right by k steps.**"
      ]
    },
    {
      "cell_type": "markdown",
      "metadata": {},
      "source": [
        "### **Brute Force Approach:**"
      ]
    },
    {
      "cell_type": "code",
      "execution_count": null,
      "metadata": {},
      "outputs": [],
      "source": [
        "public class RotateArrayBruteForce {\n",
        "    public static void main(String[] args) {\n",
        "        int[] nums = {1, 2, 3, 4, 5, 6, 7};\n",
        "        int k = 3;\n",
        "        rotate(nums, k);\n",
        "        System.out.println(Arrays.toString(nums));\n",
        "    }\n",
        "\n",
        "    public static void rotate(int[] nums, int k) {\n",
        "        int temp, previous;\n",
        "        for (int i = 0; i < k; i++) {\n",
        "            previous = nums[nums.length - 1];\n",
        "            for (int j = 0; j < nums.length; j++) {\n",
        "                temp = nums[j];\n",
        "                nums[j] = previous;\n",
        "                previous = temp;\n",
        "            }\n",
        "        }\n",
        "    }\n",
        "}"
      ]
    },
    {
      "cell_type": "markdown",
      "metadata": {},
      "source": [
        "Explanation:\n",
        "public class RotateArrayBruteForce {: Declaration of the class RotateArrayBruteForce.\n",
        "\n",
        "public static void main(String[] args) {: Main method where the program execution starts.\n",
        "\n",
        "int[] nums = {1, 2, 3, 4, 5, 6, 7}; and int k = 3;: Initializing the array and the number of steps to rotate.\n",
        "\n",
        "rotate(nums, k);: Calling the rotate method to perform rotation.\n",
        "\n",
        "public static void rotate(int[] nums, int k) {: Method to rotate the array.\n",
        "\n",
        "Two nested loops are used to perform the rotation k times. In each iteration of the outer loop, the last element is stored in previous, and in the inner loop, each element is shifted one position to the right.\n",
        "\n",
        "System.out.println(Arrays.toString(nums));: Prints the rotated array after all iterations."
      ]
    },
    {
      "cell_type": "markdown",
      "metadata": {},
      "source": [
        "### **Optimal Approach:**"
      ]
    },
    {
      "cell_type": "code",
      "execution_count": null,
      "metadata": {},
      "outputs": [],
      "source": [
        "import java.util.Arrays;\n",
        "\n",
        "public class RotateArrayOptimal {\n",
        "    public static void main(String[] args) {\n",
        "        int[] nums = {1, 2, 3, 4, 5, 6, 7};\n",
        "        int k = 3;\n",
        "        rotate(nums, k);\n",
        "        System.out.println(Arrays.toString(nums));\n",
        "    }\n",
        "\n",
        "    public static void rotate(int[] nums, int k) {\n",
        "        k = k % nums.length;\n",
        "        reverse(nums, 0, nums.length - 1);\n",
        "        reverse(nums, 0, k - 1);\n",
        "        reverse(nums, k, nums.length - 1);\n",
        "    }\n",
        "\n",
        "    public static void reverse(int[] nums, int start, int end) {\n",
        "        while (start < end) {\n",
        "            int temp = nums[start];\n",
        "            nums[start] = nums[end];\n",
        "            nums[end] = temp;\n",
        "            start++;\n",
        "            end--;\n",
        "        }\n",
        "    }\n",
        "}\n"
      ]
    },
    {
      "cell_type": "markdown",
      "metadata": {},
      "source": [
        "Explanation:\n",
        "import java.util.Arrays;: Importing Arrays class from java.util package to use its toString method for printing arrays.\n",
        "\n",
        "public static void rotate(int[] nums, int k) {: Method to rotate the array optimally.\n",
        "\n",
        "k = k % nums.length;: Modifying k to handle cases where k is greater than the length of the array.\n",
        "\n",
        "Three steps are involved in the optimal approach:\n",
        "\n",
        "Reverse the entire array.\n",
        "Reverse the first k elements.\n",
        "Reverse the remaining elements.\n",
        "public static void reverse(int[] nums, int start, int end) {: Method to reverse the elements in the given range.\n",
        "\n",
        "while (start < end) {: Reverses the array elements using a two-pointer approach.\n",
        "\n",
        "System.out.println(Arrays.toString(nums));: Prints the rotated array after rotation.\n",
        "\n",
        "Both approaches achieve the same result, but the optimal approach has a time complexity of O(n) as it only traverses the array three times, whereas the brute force approach has a time complexity of O(n*k) as it loops through the array k times."
      ]
    },
    {
      "cell_type": "markdown",
      "metadata": {},
      "source": [
        "### **3. Given an array of integers, find if the array contains any duplicates.**"
      ]
    },
    {
      "cell_type": "markdown",
      "metadata": {},
      "source": [
        "### **Brute Force Approach:**"
      ]
    },
    {
      "cell_type": "code",
      "execution_count": null,
      "metadata": {},
      "outputs": [],
      "source": [
        "import java.util.HashSet;\n",
        "\n",
        "public class ContainsDuplicatesBruteForce {\n",
        "    public static void main(String[] args) {\n",
        "        int[] nums = {1, 2, 3, 4, 5};\n",
        "        System.out.println(containsDuplicates(nums));\n",
        "    }\n",
        "\n",
        "    public static boolean containsDuplicates(int[] nums) {\n",
        "        if (nums == null || nums.length == 0) {\n",
        "            return false;\n",
        "        }\n",
        "\n",
        "        HashSet<Integer> set = new HashSet<>();\n",
        "\n",
        "        for (int num : nums) {\n",
        "            if (set.contains(num)) {\n",
        "                return true;\n",
        "            } else {\n",
        "                set.add(num);\n",
        "            }\n",
        "        }\n",
        "\n",
        "        return false;\n",
        "    }\n",
        "}"
      ]
    },
    {
      "cell_type": "markdown",
      "metadata": {},
      "source": [
        "Explanation:\n",
        "import java.util.HashSet;: Importing the HashSet class from the java.util package to use its set properties.\n",
        "\n",
        "The containsDuplicates() method takes an array of integers nums as input and returns a boolean indicating whether the array contains any duplicates.\n",
        "\n",
        "HashSet<Integer> set = new HashSet<>();: Initializes a HashSet to store unique elements encountered in the array.\n",
        "\n",
        "The for-each loop iterates over each element in the nums array.\n",
        "\n",
        "Inside the loop, if (set.contains(num)) checks if the HashSet already contains the current element. If it does, it means the array contains a duplicate, so the method returns true.\n",
        "\n",
        "If the element is not already present in the HashSet, it's added to the set using set.add(num).\n",
        "\n",
        "If no duplicates are found after iterating through the entire array, the method returns false.\n",
        "\n",
        "Now, let's implement the optimal approach using sorting:"
      ]
    },
    {
      "cell_type": "markdown",
      "metadata": {},
      "source": [
        "### **Optimal Approach (Using Sorting):**"
      ]
    },
    {
      "cell_type": "code",
      "execution_count": null,
      "metadata": {},
      "outputs": [],
      "source": [
        "import java.util.Arrays;\n",
        "\n",
        "public class ContainsDuplicatesOptimal {\n",
        "    public static void main(String[] args) {\n",
        "        int[] nums = {1, 2, 3, 4, 5};\n",
        "        System.out.println(containsDuplicates(nums));\n",
        "    }\n",
        "\n",
        "    public static boolean containsDuplicates(int[] nums) {\n",
        "        if (nums == null || nums.length == 0) {\n",
        "            return false;\n",
        "        }\n",
        "\n",
        "        Arrays.sort(nums);\n",
        "\n",
        "        for (int i = 1; i < nums.length; i++) {\n",
        "            if (nums[i] == nums[i - 1]) {\n",
        "                return true;\n",
        "            }\n",
        "        }\n",
        "\n",
        "        return false;\n",
        "    }\n",
        "}"
      ]
    },
    {
      "cell_type": "markdown",
      "metadata": {},
      "source": [
        "Explanation:\n",
        "The containsDuplicates() method first checks if the input array nums is null or empty. If it is, the method returns false.\n",
        "\n",
        "Arrays.sort(nums);: Sorts the array in ascending order. This step allows us to easily identify duplicates by comparing adjacent elements.\n",
        "\n",
        "The for loop iterates over the sorted array starting from index 1.\n",
        "\n",
        "Inside the loop, if (nums[i] == nums[i - 1]) checks if the current element is equal to the previous element. If it is, it means the array contains a duplicate, so the method returns true.\n",
        "\n",
        "If no duplicates are found after iterating through the entire sorted array, the method returns false.\n",
        "\n",
        "Both approaches will determine whether the array contains any duplicates, but the optimal approach using sorting has a time complexity of O(n log n) due to sorting, while the brute force approach with HashSet has a time complexity of O(n). However, the optimal approach using sorting may modify the original array, which may not be desirable in some situations."
      ]
    },
    {
      "cell_type": "markdown",
      "metadata": {},
      "source": [
        "1. Find the maximum and minimum elements in an array.\n",
        "2. Rotate an array to the right by k steps.\n",
        "3. Given an array of integers, find if the array contains any duplicates.\n",
        "4. Given an array of integers, return indices of the two numbers such that they add up to a specific target.\n",
        "5. Merge two sorted arrays into a single sorted array.\n",
        "6. Given an array nums, write a function to move all 0's to the end of it while maintaining the relative order of the non-zero elements.\n",
        "7. Given an array nums of n integers where n > 1, return an array output such that output[i] is equal to the product of all the elements of nums except nums[i].\n",
        "8. Given a sorted array nums, remove the duplicates in-place such that each element appears only once and returns the new length.\n",
        "9. Given a sorted array nums, remove the duplicates in-place such that duplicates appeared at most twice and return the new length.\n",
        "10. Implement a function to search in a rotated sorted array.\n",
        "11. Given an array of integers, find the contiguous subarray (containing at least one number) which has the largest sum.\n",
        "12. Given an array of n integers where n > 1, nums, return an array output such that output[i] is equal to the product of all the elements of nums except nums[i].\n",
        "13. Given an array of integers, find the third maximum number in this array.\n",
        "14. Given an array of integers, find the kth largest element in the array.\n",
        "15. Given an array of integers nums and an integer target, return indices of the two numbers such that they add up to target."
      ]
    }
  ],
  "metadata": {
    "colab": {
      "cell_execution_strategy": "setup",
      "provenance": []
    },
    "kernelspec": {
      "display_name": "java",
      "name": "java"
    },
    "language_info": {
      "name": "java"
    }
  },
  "nbformat": 4,
  "nbformat_minor": 0
}
