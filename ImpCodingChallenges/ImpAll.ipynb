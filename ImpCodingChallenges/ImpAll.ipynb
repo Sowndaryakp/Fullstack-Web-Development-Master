{
  "cells": [
    {
      "cell_type": "markdown",
      "metadata": {
        "id": "ZoITrd8MsApt"
      },
      "source": [
        "Install Java kernal to run java code here."
      ]
    },
    {
      "cell_type": "code",
      "execution_count": null,
      "metadata": {
        "id": "rscw4ZMMNO-5"
      },
      "outputs": [],
      "source": [
        "!wget https://github.com/SpencerPark/IJava/releases/download/v1.3.0/ijava-1.3.0.zip\n",
        "!unzip ijava-1.3.0.zip\n",
        "!python install.py"
      ]
    },
    {
      "cell_type": "markdown",
      "metadata": {},
      "source": [
        "# **Importatnt All related Questions and Answers**"
      ]
    },
    {
      "cell_type": "markdown",
      "metadata": {},
      "source": [
        "1. Reverse a string.\n",
        "2. Find the maximum and minimum elements in an array.\n",
        "3. Check if a string is a palindrome.\n",
        "4. Find the factorial of a number.\n",
        "5. Implement a function to check if a number is prime.\n",
        "6. Sort an array of integers.\n",
        "7. Find the nth Fibonacci number.\n",
        "8. Merge two sorted arrays.\n",
        "9. Merge two unsorted arrays.\n",
        "10. Reverse words in a string.\n",
        "11. Implement a stack using an array or linked list.\n",
        "12. Implement a queue using an array or linked list.\n",
        "13. Check if two strings are anagrams of each other.\n",
        "14. Implement a binary search algorithm.\n",
        "15. Find the intersection point of two linked lists.\n",
        "16. Implement a depth-first search (DFS) algorithm.\n",
        "17. Implement a breadth-first search (BFS) algorithm.\n",
        "18. Reverse a linked list.\n",
        "19. Implement binary search.\n",
        "20. Sort an array (various algorithms: bubble sort, insertion sort, merge sort, quick sort, etc.).\n",
        "21. Find the median of two sorted arrays.\n"
      ]
    },
    {
      "cell_type": "markdown",
      "metadata": {},
      "source": [
        "### **1. Reverse a String**"
      ]
    },
    {
      "cell_type": "code",
      "execution_count": null,
      "metadata": {},
      "outputs": [],
      "source": [
        "public class ReverseString{\n",
        "    public void reverseBruteForce(String s){\n",
        "        String reversed = \"\";\n",
        "\n",
        "        for(int i=s.length()-1;i>=0;i--){\n",
        "            reversed += s.charAt(i);\n",
        "        }\n",
        "        return reversed;\n",
        "    }\n",
        "\n",
        "    public static void main(String[] args){\n",
        "        String input = \"Hello\";\n",
        "        String reversed = reverseBruteForce(input);\n",
        "        System.out.println(\"Original String : \"+ input);\n",
        "        System.out.println(\"Revesed string (Brute Force): \"+ reversed);\n",
        "    }\n",
        "}"
      ]
    }
  ],
  "metadata": {
    "colab": {
      "cell_execution_strategy": "setup",
      "provenance": []
    },
    "kernelspec": {
      "display_name": "java",
      "name": "java"
    },
    "language_info": {
      "name": "java"
    }
  },
  "nbformat": 4,
  "nbformat_minor": 0
}
