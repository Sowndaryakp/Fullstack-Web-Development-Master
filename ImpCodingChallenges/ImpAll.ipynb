{
  "cells": [
    {
      "cell_type": "markdown",
      "metadata": {
        "id": "ZoITrd8MsApt"
      },
      "source": [
        "Install Java kernal to run java code here."
      ]
    },
    {
      "cell_type": "code",
      "execution_count": null,
      "metadata": {
        "id": "rscw4ZMMNO-5"
      },
      "outputs": [],
      "source": [
        "!wget https://github.com/SpencerPark/IJava/releases/download/v1.3.0/ijava-1.3.0.zip\n",
        "!unzip ijava-1.3.0.zip\n",
        "!python install.py"
      ]
    },
    {
      "cell_type": "markdown",
      "metadata": {},
      "source": [
        "# **Importatnt All related Questions and Answers**"
      ]
    },
    {
      "cell_type": "markdown",
      "metadata": {},
      "source": [
        "1. Reverse a string.\n",
        "2. Find the maximum and minimum elements in an array.\n",
        "3. Check if a string is a palindrome.\n",
        "4. Find the factorial of a number.\n",
        "5. Implement a function to check if a number is prime.\n",
        "6. Sort an array of integers.\n",
        "7. Find the nth Fibonacci number.\n",
        "8. Merge two sorted arrays.\n",
        "9. Merge two unsorted arrays.\n",
        "10. Reverse words in a string.\n",
        "11. Implement a stack using an array or linked list.\n",
        "12. Implement a queue using an array or linked list.\n",
        "13. Check if two strings are anagrams of each other.\n",
        "14. Implement a binary search algorithm.\n",
        "15. Find the intersection point of two linked lists.\n",
        "16. Implement a depth-first search (DFS) algorithm.\n",
        "17. Implement a breadth-first search (BFS) algorithm.\n",
        "18. Reverse a linked list.\n",
        "19. Implement binary search.\n",
        "20. Sort an array (various algorithms: bubble sort, insertion sort, merge sort, quick sort, etc.).\n",
        "21. Find the median of two sorted arrays.\n"
      ]
    },
    {
      "cell_type": "markdown",
      "metadata": {},
      "source": [
        "### **1. Reverse a String**"
      ]
    },
    {
      "cell_type": "code",
      "execution_count": null,
      "metadata": {},
      "outputs": [],
      "source": [
        "//Brute Force Approach\n",
        "public class reverseString{\n",
        "    public static String reverseBruteForce(String s){\n",
        "        //check for null or empty string\n",
        "        if(s==null || s.isEmpty()){\n",
        "            return s;\n",
        "        }\n",
        "\n",
        "        //initialize an empty string to store the reversed string\n",
        "        String reversed = \"\";\n",
        "\n",
        "        //iterate through the original string from the end to the beginning\n",
        "        for(int i=s.length()-1;i>=0;i--){\n",
        "            //append each character to the reversed string\n",
        "            reversed += s.charAt(i);\n",
        "        }\n",
        "        //return the reverse string\n",
        "        return reversed;\n",
        "    }\n",
        "\n",
        "    public static void main(String[] args){\n",
        "        String input = \"Hello\";\n",
        "        String reversed = reverseBruteForce(input);\n",
        "        System.out.println(\"Original String : \"+ input);\n",
        "        System.out.println(\"Revesed string (Brute Force): \"+ reversed);\n",
        "    }\n",
        "}"
      ]
    },
    {
      "cell_type": "markdown",
      "metadata": {},
      "source": [
        "Explanation (Brute Force):\n",
        "* We define a method `reverseBruteForce` that takes a string `s` as input and returns its reverse.\n",
        "* We first check if the input string is null or empty. If so, we return the string as it is because reversing an empty string or null string results in itself.\n",
        "* We initialize an empty string `reversed` to store the reversed string.\n",
        "* We iterate through the original string from the end to the beginning using a for loop.\n",
        "* In each iteration, we append the character at index `i` of the original string to the `reversed` string.\n",
        "* Finally, we return the `reversed` string.\n",
        "\n",
        "`Time Complexity: O(n^2)`\n",
        "\n",
        "`Space Complexity: O(n)`"
      ]
    },
    {
      "cell_type": "code",
      "execution_count": null,
      "metadata": {},
      "outputs": [],
      "source": [
        "//Optimal Approach\n",
        "public class reverseString{\n",
        "    public static String reverseOptimal(String s){\n",
        "        if(s==null || s.isEmpty()){\n",
        "            return s;\n",
        "        }\n",
        "        //convert the string to a character array\n",
        "        char[] chars = s.toCharArray();\n",
        "\n",
        "        //initialize two pointers, one at the beginning and one at the end of the array\n",
        "        int left = 0, right = s.length - 1;\n",
        "\n",
        "        //iterate until the pointers meet or cross each other\n",
        "        while(left < right){\n",
        "            //swap characters at the left and right pointers\n",
        "            char temp = chars[left];\n",
        "            chars[left] = chars[right];\n",
        "            chars[right] = temp;\n",
        "\n",
        "            //move the pointers towards each other\n",
        "            left++;\n",
        "            right--;\n",
        "        }\n",
        "        //convert the character array back to a string\n",
        "        return new String(chars);\n",
        "    }\n",
        "\n",
        "    public static void main(String[] args){\n",
        "        String input = \"Hello\";\n",
        "        String reversed = reverseOptimal(input);\n",
        "        System.out.println(\"Original String : \"+ input);\n",
        "        System.out.println(\"Reversed String(Optimal) : \"+ reversed);\n",
        "    }\n",
        "}"
      ]
    },
    {
      "cell_type": "markdown",
      "metadata": {},
      "source": [
        "Explanation (Optimal):\n",
        "* We define a method `reverseOptimal` that takes a string s as input and returns its reverse.\n",
        "* We perform the same null or empty check as in the brute-force approach.\n",
        "* We convert the input string `s` to a character array `chars`. This allows us to directly modify the characters of the string.\n",
        "* We initialize two pointers `left` and `right`, one at the beginning (`left = 0`) and one at the end (`right = chars.length - 1`) of the character array.\n",
        "* We iterate until the `left` pointer is less than the `right` pointer. This ensures we only process each character once.\n",
        "Inside the loop, we swap the characters at the `left` and `right` pointers.\n",
        "* After swapping, we move the `left` pointer to the `right` and the right pointer to the left.\n",
        "Once the pointers meet or cross each other, we finish the iteration.\n",
        "* Finally, we convert the character array `chars` back to a string and return it.\n",
        "\n",
        "`Time Complexity: O(n)`\n",
        "\n",
        "`Space Complexity: O(n)`"
      ]
    },
    {
      "cell_type": "markdown",
      "metadata": {},
      "source": [
        "### **2. Find the maximum and minimum elements in an array.**"
      ]
    },
    {
      "cell_type": "code",
      "execution_count": null,
      "metadata": {},
      "outputs": [],
      "source": [
        "//Brute Force Approach:\n",
        "public class MaxMinArray {\n",
        "    public static void findMaxMinBruteForce(int[] arr) {\n",
        "        // Check for null or empty array\n",
        "        if (arr == null || arr.length == 0) {\n",
        "            System.out.println(\"Array is empty\");\n",
        "            return;\n",
        "        }\n",
        "        \n",
        "        int min = arr[0];\n",
        "        int max = arr[0];\n",
        "        \n",
        "        // Iterate through the array to find the minimum and maximum elements\n",
        "        for (int i = 1; i < arr.length; i++) {\n",
        "            if (arr[i] < min) {\n",
        "                min = arr[i];\n",
        "            }\n",
        "            if (arr[i] > max) {\n",
        "                max = arr[i];\n",
        "            }\n",
        "        }\n",
        "        \n",
        "        // Print the minimum and maximum elements\n",
        "        System.out.println(\"Minimum Element: \" + min);\n",
        "        System.out.println(\"Maximum Element: \" + max);\n",
        "    }\n",
        "\n",
        "    public static void main(String[] args) {\n",
        "        int[] arr = {3, 8, 1, 6, 2, 5};\n",
        "        findMaxMinBruteForce(arr);\n",
        "    }\n",
        "}\n"
      ]
    },
    {
      "cell_type": "markdown",
      "metadata": {},
      "source": [
        "Explanation (Brute Force):\n",
        "We define a method findMaxMinBruteForce that takes an integer array arr as input and prints the minimum and maximum elements.\n",
        "We first check if the array is null or empty. If so, we print a message and return.\n",
        "We initialize variables min and max with the first element of the array.\n",
        "We iterate through the array starting from the second element.\n",
        "In each iteration, we update min if the current element is smaller than min, and update max if the current element is larger than max.\n",
        "After iterating through the entire array, we print the values of min and max."
      ]
    },
    {
      "cell_type": "code",
      "execution_count": null,
      "metadata": {},
      "outputs": [],
      "source": [
        "//Optimal Approach\n",
        "public class MaxMinArray {\n",
        "    public static void findMaxMinOptimal(int[] arr) {\n",
        "        // Check for null or empty array\n",
        "        if (arr == null || arr.length == 0) {\n",
        "            System.out.println(\"Array is empty\");\n",
        "            return;\n",
        "        }\n",
        "        \n",
        "        int min = Integer.MAX_VALUE;\n",
        "        int max = Integer.MIN_VALUE;\n",
        "        \n",
        "        // Iterate through the array to find the minimum and maximum elements\n",
        "        for (int num : arr) {\n",
        "            if (num < min) {\n",
        "                min = num;\n",
        "            }\n",
        "            if (num > max) {\n",
        "                max = num;\n",
        "            }\n",
        "        }\n",
        "        \n",
        "        // Print the minimum and maximum elements\n",
        "        System.out.println(\"Minimum Element: \" + min);\n",
        "        System.out.println(\"Maximum Element: \" + max);\n",
        "    }\n",
        "\n",
        "    public static void main(String[] args) {\n",
        "        int[] arr = {3, 8, 1, 6, 2, 5};\n",
        "        findMaxMinOptimal(arr);\n",
        "    }\n",
        "}\n"
      ]
    },
    {
      "cell_type": "markdown",
      "metadata": {},
      "source": [
        "Explanation (Optimal):\n",
        "We define a method findMaxMinOptimal that takes an integer array arr as input and prints the minimum and maximum elements.\n",
        "We perform the same null or empty check as in the brute-force approach.\n",
        "We initialize variables min and max with the maximum and minimum integer values, respectively.\n",
        "We iterate through the array using an enhanced for loop.\n",
        "In each iteration, we update min if the current element is smaller than min, and update max if the current element is larger than max.\n",
        "After iterating through the entire array, we print the values of min and max."
      ]
    },
    {
      "cell_type": "markdown",
      "metadata": {},
      "source": [
        "Time and Space Complexity Analysis:\n",
        "Both approaches have the same time complexity, as they both iterate through the array once:\n",
        "\n",
        "Time Complexity: O(n), where n is the size of the array.\n",
        "The space complexity for both approaches is constant, as they only use a fixed amount of additional space for variables:\n",
        "\n",
        "Space Complexity: O(1).\n",
        "The optimal approach is more efficient in terms of coding simplicity and readability, as it uses the Integer.MAX_VALUE and Integer.MIN_VALUE constants to initialize min and max, respectively, avoiding the need for special handling of the first element of the array."
      ]
    },
    {
      "cell_type": "markdown",
      "metadata": {},
      "source": [
        "### **3. Check if a string is a palindrome.**"
      ]
    },
    {
      "cell_type": "code",
      "execution_count": null,
      "metadata": {},
      "outputs": [],
      "source": [
        "//Brute Force Approach\n",
        "public class PalindromeCheck {\n",
        "    public static boolean isPalindromeBruteForce(String s) {\n",
        "        // Check for null or empty string\n",
        "        if (s == null || s.isEmpty()) {\n",
        "            return false;\n",
        "        }\n",
        "        \n",
        "        // Convert the string to lowercase and remove non-alphanumeric characters\n",
        "        s = s.toLowerCase().replaceAll(\"[^a-z0-9]\", \"\");\n",
        "        \n",
        "        // Initialize two pointers, one at the beginning and one at the end of the string\n",
        "        int left = 0, right = s.length() - 1;\n",
        "        \n",
        "        // Iterate until the pointers meet or cross each other\n",
        "        while (left < right) {\n",
        "            // If characters at the pointers are not equal, return false\n",
        "            if (s.charAt(left) != s.charAt(right)) {\n",
        "                return false;\n",
        "            }\n",
        "            // Move the pointers towards each other\n",
        "            left++;\n",
        "            right--;\n",
        "        }\n",
        "        \n",
        "        // If the loop completes without returning false, the string is a palindrome\n",
        "        return true;\n",
        "    }\n",
        "\n",
        "    public static void main(String[] args) {\n",
        "        String input = \"A man, a plan, a canal, Panama\";\n",
        "        System.out.println(\"Is Palindrome: \" + isPalindromeBruteForce(input));\n",
        "    }\n",
        "}\n"
      ]
    },
    {
      "cell_type": "markdown",
      "metadata": {},
      "source": [
        "Explanation (Brute Force):\n",
        "We define a method isPalindromeBruteForce that takes a string s as input and returns true if it is a palindrome, false otherwise.\n",
        "We first check if the string is null or empty. If so, we return false, as an empty string or null string is not considered a palindrome.\n",
        "We convert the string to lowercase and remove non-alphanumeric characters using a regular expression.\n",
        "We initialize two pointers left and right, one at the beginning and one at the end of the string.\n",
        "We iterate until the left pointer is less than the right pointer.\n",
        "In each iteration, we compare the characters at the left and right pointers. If they are not equal, we return false, indicating that the string is not a palindrome.\n",
        "If the loop completes without returning false, the string is a palindrome, and we return true."
      ]
    },
    {
      "cell_type": "code",
      "execution_count": null,
      "metadata": {},
      "outputs": [],
      "source": [
        "//Optimal Approach\n",
        "public class PalindromeCheck {\n",
        "    public static boolean isPalindromeOptimal(String s) {\n",
        "        // Check for null or empty string\n",
        "        if (s == null || s.isEmpty()) {\n",
        "            return false;\n",
        "        }\n",
        "        \n",
        "        // Convert the string to lowercase and remove non-alphanumeric characters\n",
        "        s = s.toLowerCase().replaceAll(\"[^a-z0-9]\", \"\");\n",
        "        \n",
        "        // Compare the original string with its reverse\n",
        "        return s.equals(new StringBuilder(s).reverse().toString());\n",
        "    }\n",
        "\n",
        "    public static void main(String[] args) {\n",
        "        String input = \"A man, a plan, a canal, Panama\";\n",
        "        System.out.println(\"Is Palindrome: \" + isPalindromeOptimal(input));\n",
        "    }\n",
        "}\n"
      ]
    },
    {
      "cell_type": "markdown",
      "metadata": {},
      "source": [
        "Explanation (Optimal):\n",
        "We define a method isPalindromeOptimal that takes a string s as input and returns true if it is a palindrome, false otherwise.\n",
        "We perform the same null or empty check as in the brute-force approach.\n",
        "We convert the string to lowercase and remove non-alphanumeric characters using a regular expression.\n",
        "We compare the original string s with its reverse using the equals method. If they are equal, the string is a palindrome; otherwise, it is not."
      ]
    },
    {
      "cell_type": "markdown",
      "metadata": {},
      "source": [
        "Time and Space Complexity Analysis:\n",
        "Both approaches have the same time complexity, as they involve iterating through the string once:\n",
        "\n",
        "Time Complexity: O(n), where n is the length of the input string.\n",
        "The space complexity for both approaches is also the same, as they only use a fixed amount of additional space for variables:\n",
        "\n",
        "Space Complexity: O(n), where n is the length of the input string.\n",
        "The optimal approach is more concise and readable, as it leverages the StringBuilder class to reverse the string and then compares it directly with the original string. It also eliminates the need for manual pointer manipulation."
      ]
    }
  ],
  "metadata": {
    "colab": {
      "cell_execution_strategy": "setup",
      "provenance": []
    },
    "kernelspec": {
      "display_name": "java",
      "name": "java"
    },
    "language_info": {
      "name": "java"
    }
  },
  "nbformat": 4,
  "nbformat_minor": 0
}
