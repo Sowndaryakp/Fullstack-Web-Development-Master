{
  "cells": [
    {
      "cell_type": "markdown",
      "metadata": {
        "id": "ZoITrd8MsApt"
      },
      "source": [
        "Install Java kernal to run java code here."
      ]
    },
    {
      "cell_type": "code",
      "execution_count": null,
      "metadata": {
        "id": "rscw4ZMMNO-5"
      },
      "outputs": [],
      "source": [
        "!wget https://github.com/SpencerPark/IJava/releases/download/v1.3.0/ijava-1.3.0.zip\n",
        "!unzip ijava-1.3.0.zip\n",
        "!python install.py"
      ]
    },
    {
      "cell_type": "markdown",
      "metadata": {},
      "source": [
        "# **Importatnt String related Questions and Answers**"
      ]
    },
    {
      "cell_type": "markdown",
      "metadata": {},
      "source": [
        "1. Reverse a string.\n",
        "2. Determine if a string has all unique characters.\n",
        "3. Given two strings, write a method to decide if one is a permutation of the other.\n",
        "4. Write a method to replace all spaces in a string with '%20'.\n",
        "5. Implement a method to perform basic string compression using the counts of repeated characters.\n",
        "6. Given a string, write a function to check if it is a permutation of a palindrome.\n",
        "7. Given a string, write a function to check if it is a permutation of a palindrome (ignore spaces).\n",
        "8. Implement an algorithm to determine if a string has all unique characters without using additional data structures.\n",
        "9. Write a function to check if two strings are one edit (or zero edits) away.\n",
        "10. Given a string, write a function to return the longest palindromic substring.\n",
        "11. Given a string s, find the longest palindromic substring in s. You may assume that the maximum length of s is 1000.\n",
        "12. Given a string s, partition s such that every substring of the partition is a palindrome. Return all possible palindrome partitioning of s.\n",
        "13. Given a string, determine if it is a palindrome, considering only alphanumeric characters and ignoring cases.\n",
        "14. Given a string s, return the longest palindromic subsequence in s.\n",
        "15. Given two strings s and t, determine if they are isomorphic.\n",
        "16. Given a string, find the first non-repeating character in it and return its index. If it doesn't exist, return -1."
      ]
    },
    {
      "cell_type": "markdown",
      "metadata": {},
      "source": [
        "## **1. Reverse a String.**"
      ]
    },
    {
      "cell_type": "code",
      "execution_count": null,
      "metadata": {},
      "outputs": [],
      "source": [
        "public class ReverseString {\n",
        "    public static void main(String[] args) {\n",
        "        String str = \"Hello, World!\";\n",
        "        String reversed = reverseString(str);\n",
        "        System.out.println(\"Original string: \" + str);\n",
        "        System.out.println(\"Reversed string: \" + reversed);\n",
        "    }\n",
        "    \n",
        "    public static String reverseString(String str) {\n",
        "        char[] charArray = str.toCharArray();\n",
        "        int left = 0;\n",
        "        int right = charArray.length - 1;\n",
        "        \n",
        "        while (left < right) {\n",
        "            // Swap characters\n",
        "            char temp = charArray[left];\n",
        "            charArray[left] = charArray[right];\n",
        "            charArray[right] = temp;\n",
        "            \n",
        "            // Move pointers towards the center\n",
        "            left++;\n",
        "            right--;\n",
        "        }\n",
        "        \n",
        "        return new String(charArray);\n",
        "    }\n",
        "}\n"
      ]
    },
    {
      "cell_type": "markdown",
      "metadata": {},
      "source": [
        "## **2. Determine if a string has all unique characters.**"
      ]
    },
    {
      "cell_type": "code",
      "execution_count": null,
      "metadata": {},
      "outputs": [],
      "source": [
        "import java.util.HashSet;\n",
        "\n",
        "public class UniqueCharacters {\n",
        "    public static void main(String[] args) {\n",
        "        String str1 = \"abcdefg\";\n",
        "        String str2 = \"hello\";\n",
        "        \n",
        "        System.out.println(\"String 1 has all unique characters: \" + hasUniqueCharacters(str1));\n",
        "        System.out.println(\"String 2 has all unique characters: \" + hasUniqueCharacters(str2));\n",
        "    }\n",
        "    \n",
        "    public static boolean hasUniqueCharacters(String str) {\n",
        "        HashSet<Character> set = new HashSet<>();\n",
        "        \n",
        "        for (int i = 0; i < str.length(); i++) {\n",
        "            char ch = str.charAt(i);\n",
        "            if (set.contains(ch)) {\n",
        "                return false; // Found a repeated character\n",
        "            }\n",
        "            set.add(ch);\n",
        "        }\n",
        "        \n",
        "        return true; // All characters are unique\n",
        "    }\n",
        "}\n"
      ]
    },
    {
      "cell_type": "markdown",
      "metadata": {},
      "source": [
        "## **3. Given two strings, write a method to decide if one is a permutation of the other.**"
      ]
    },
    {
      "cell_type": "code",
      "execution_count": null,
      "metadata": {},
      "outputs": [],
      "source": [
        "import java.util.Arrays;\n",
        "\n",
        "public class StringPermutation {\n",
        "    public static void main(String[] args) {\n",
        "        String str1 = \"listen\";\n",
        "        String str2 = \"silent\";\n",
        "        \n",
        "        System.out.println(\"Are \\\"\" + str1 + \"\\\" and \\\"\" + str2 + \"\\\" permutations? \" + isPermutation(str1, str2));\n",
        "    }\n",
        "    \n",
        "    public static boolean isPermutation(String str1, String str2) {\n",
        "        // If the lengths of the strings are different, they cannot be permutations of each other\n",
        "        if (str1.length() != str2.length()) {\n",
        "            return false;\n",
        "        }\n",
        "        \n",
        "        // Convert strings to character arrays and sort them\n",
        "        char[] charArray1 = str1.toCharArray();\n",
        "        char[] charArray2 = str2.toCharArray();\n",
        "        Arrays.sort(charArray1);\n",
        "        Arrays.sort(charArray2);\n",
        "        \n",
        "        // Compare sorted arrays\n",
        "        return Arrays.equals(charArray1, charArray2);\n",
        "    }\n",
        "}\n"
      ]
    }
  ],
  "metadata": {
    "colab": {
      "cell_execution_strategy": "setup",
      "provenance": []
    },
    "kernelspec": {
      "display_name": "java",
      "name": "java"
    },
    "language_info": {
      "name": "java"
    }
  },
  "nbformat": 4,
  "nbformat_minor": 0
}
