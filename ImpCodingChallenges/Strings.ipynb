{
  "cells": [
    {
      "cell_type": "markdown",
      "metadata": {
        "id": "ZoITrd8MsApt"
      },
      "source": [
        "Install Java kernal to run java code here."
      ]
    },
    {
      "cell_type": "code",
      "execution_count": null,
      "metadata": {
        "id": "rscw4ZMMNO-5"
      },
      "outputs": [],
      "source": [
        "!wget https://github.com/SpencerPark/IJava/releases/download/v1.3.0/ijava-1.3.0.zip\n",
        "!unzip ijava-1.3.0.zip\n",
        "!python install.py"
      ]
    },
    {
      "cell_type": "markdown",
      "metadata": {},
      "source": [
        "# **Importatnt String related Questions and Answers**"
      ]
    },
    {
      "cell_type": "markdown",
      "metadata": {},
      "source": [
        "1. Reverse a string.\n",
        "2. Determine if a string has all unique characters.\n",
        "3. Given two strings, write a method to decide if one is a permutation of the other.\n",
        "4. Write a method to replace all spaces in a string with '%20'.\n",
        "5. Implement a method to perform basic string compression using the counts of repeated characters.\n",
        "6. Given a string, write a function to check if it is a permutation of a palindrome.\n",
        "7. Given a string, write a function to check if it is a permutation of a palindrome (ignore spaces).\n",
        "8. Implement an algorithm to determine if a string has all unique characters without using additional data structures.\n",
        "9. Write a function to check if two strings are one edit (or zero edits) away.\n",
        "10. Given a string, write a function to return the longest palindromic substring.\n",
        "11. Given a string s, find the longest palindromic substring in s. You may assume that the maximum length of s is 1000.\n",
        "12. Given a string s, partition s such that every substring of the partition is a palindrome. Return all possible palindrome partitioning of s.\n",
        "13. Given a string, determine if it is a palindrome, considering only alphanumeric characters and ignoring cases.\n",
        "14. Given a string s, return the longest palindromic subsequence in s.\n",
        "15. Given two strings s and t, determine if they are isomorphic.\n",
        "16. Given a string, find the first non-repeating character in it and return its index. If it doesn't exist, return -1."
      ]
    },
    {
      "cell_type": "markdown",
      "metadata": {},
      "source": [
        "## **1. Reverse a String.**"
      ]
    },
    {
      "cell_type": "code",
      "execution_count": null,
      "metadata": {},
      "outputs": [],
      "source": [
        "public class ReverseString {\n",
        "    public static void main(String[] args) {\n",
        "        String str = \"Hello, World!\";\n",
        "        String reversed = reverseString(str);\n",
        "        System.out.println(\"Original string: \" + str);\n",
        "        System.out.println(\"Reversed string: \" + reversed);\n",
        "    }\n",
        "    \n",
        "    public static String reverseString(String str) {\n",
        "        char[] charArray = str.toCharArray();\n",
        "        int left = 0;\n",
        "        int right = charArray.length - 1;\n",
        "        \n",
        "        while (left < right) {\n",
        "            // Swap characters\n",
        "            char temp = charArray[left];\n",
        "            charArray[left] = charArray[right];\n",
        "            charArray[right] = temp;\n",
        "            \n",
        "            // Move pointers towards the center\n",
        "            left++;\n",
        "            right--;\n",
        "        }\n",
        "        \n",
        "        return new String(charArray);\n",
        "    }\n",
        "}\n"
      ]
    }
  ],
  "metadata": {
    "colab": {
      "cell_execution_strategy": "setup",
      "provenance": []
    },
    "kernelspec": {
      "display_name": "java",
      "name": "java"
    },
    "language_info": {
      "name": "java"
    }
  },
  "nbformat": 4,
  "nbformat_minor": 0
}
